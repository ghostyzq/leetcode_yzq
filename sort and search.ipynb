{
 "cells": [
  {
   "cell_type": "code",
   "execution_count": 1,
   "metadata": {},
   "outputs": [],
   "source": [
    "test_case = [1,3,2,4,81,12,3]"
   ]
  },
  {
   "cell_type": "code",
   "execution_count": 2,
   "metadata": {},
   "outputs": [
    {
     "data": {
      "text/plain": [
       "[1, 3, 2, 4, 81, 12, 3]"
      ]
     },
     "execution_count": 2,
     "metadata": {},
     "output_type": "execute_result"
    }
   ],
   "source": [
    "test_case"
   ]
  },
  {
   "cell_type": "code",
   "execution_count": 5,
   "metadata": {},
   "outputs": [],
   "source": [
    "def BubbleSort(nums):\n",
    "        for i in range(len(nums) - 1): # 遍历 len(nums)-1 次\n",
    "            for j in range(len(nums) - i - 1): # 已排好序的部分不用再次遍历\n",
    "                if nums[j] > nums[j+1]:\n",
    "                    nums[j], nums[j+1] = nums[j+1], nums[j] \n",
    "        return nums"
   ]
  },
  {
   "cell_type": "code",
   "execution_count": 6,
   "metadata": {},
   "outputs": [
    {
     "data": {
      "text/plain": [
       "[1, 2, 3, 3, 4, 12, 81]"
      ]
     },
     "execution_count": 6,
     "metadata": {},
     "output_type": "execute_result"
    }
   ],
   "source": [
    "test_case = [1,3,2,4,81,12,3]\n",
    "BubbleSort(test_case)"
   ]
  },
  {
   "cell_type": "code",
   "execution_count": 7,
   "metadata": {},
   "outputs": [],
   "source": [
    "def selectionSort(nums):\n",
    "    for i in range(len(nums) - 1):  # 遍历 len(nums)-1 次\n",
    "        minIndex = i\n",
    "        for j in range(i + 1, len(nums)):\n",
    "            if nums[j] < nums[minIndex]:  # 更新最小值索引\n",
    "                minIndex = j  \n",
    "        nums[i], nums[minIndex] = nums[minIndex], nums[i] # 把最小数交换到前面\n",
    "    return nums"
   ]
  },
  {
   "cell_type": "code",
   "execution_count": 10,
   "metadata": {},
   "outputs": [
    {
     "data": {
      "text/plain": [
       "[1, 2, 3, 3, 4, 12, 81]"
      ]
     },
     "execution_count": 10,
     "metadata": {},
     "output_type": "execute_result"
    }
   ],
   "source": [
    "test_case = [1,3,2,4,81,12,3]\n",
    "selectionSort(test_case)"
   ]
  },
  {
   "cell_type": "code",
   "execution_count": 11,
   "metadata": {},
   "outputs": [],
   "source": [
    "def mergeSort(nums):\n",
    "    # 归并过程\n",
    "    def merge(left, right):\n",
    "        result = []  # 保存归并后的结果\n",
    "        i = j = 0\n",
    "        while i < len(left) and j < len(right):\n",
    "            if left[i] <= right[j]:\n",
    "                result.append(left[i])\n",
    "                i += 1\n",
    "            else:\n",
    "                result.append(right[j])\n",
    "                j += 1\n",
    "        result = result + left[i:] + right[j:] # 剩余的元素直接添加到末尾\n",
    "        return result\n",
    "    # 递归过程\n",
    "    if len(nums) <= 1:\n",
    "        return nums\n",
    "    mid = len(nums) // 2\n",
    "    left = mergeSort(nums[:mid])\n",
    "    right = mergeSort(nums[mid:])\n",
    "    return merge(left, right)"
   ]
  },
  {
   "cell_type": "code",
   "execution_count": 12,
   "metadata": {},
   "outputs": [
    {
     "data": {
      "text/plain": [
       "[1, 2, 3, 3, 4, 12, 81]"
      ]
     },
     "execution_count": 12,
     "metadata": {},
     "output_type": "execute_result"
    }
   ],
   "source": [
    "test_case = [1,3,2,4,81,12,3]\n",
    "mergeSort(test_case)"
   ]
  },
  {
   "cell_type": "code",
   "execution_count": 13,
   "metadata": {},
   "outputs": [],
   "source": [
    "def quickSort(nums):  # 这种写法的平均空间复杂度为 O(nlogn)\n",
    "    if len(nums) <= 1:\n",
    "        return nums\n",
    "    pivot = nums[0]  # 基准值\n",
    "    left = [nums[i] for i in range(1, len(nums)) if nums[i] < pivot] \n",
    "    right = [nums[i] for i in range(1, len(nums)) if nums[i] >= pivot]\n",
    "    return quickSort(left) + [pivot] + quickSort(right)"
   ]
  },
  {
   "cell_type": "code",
   "execution_count": 14,
   "metadata": {},
   "outputs": [
    {
     "data": {
      "text/plain": [
       "[1, 2, 3, 3, 4, 12, 81]"
      ]
     },
     "execution_count": 14,
     "metadata": {},
     "output_type": "execute_result"
    }
   ],
   "source": [
    "test_case = [1,3,2,4,81,12,3]\n",
    "quickSort(test_case)"
   ]
  },
  {
   "cell_type": "code",
   "execution_count": 36,
   "metadata": {},
   "outputs": [],
   "source": [
    "def quickSort2(nums, left, right):  # 这种写法的平均空间复杂度为 O(logn) \n",
    "    # 分区操作\n",
    "    def partition(nums, left, right):\n",
    "        pivot = nums[left]  # 基准值\n",
    "        while left < right:\n",
    "            while left < right and nums[right] >= pivot:\n",
    "                right -= 1\n",
    "            nums[left] = nums[right]  # 比基准小的交换到前面\n",
    "            while left < right and nums[left] <= pivot:\n",
    "                left += 1\n",
    "            nums[right] = nums[left]  # 比基准大交换到后面\n",
    "        nums[left] = pivot # 基准值的正确位置，也可以为 nums[right] = pivot\n",
    "        return left  # 返回基准值的索引，也可以为 return right\n",
    "    # 递归操作\n",
    "    if left < right:\n",
    "        pivotIndex = partition(nums, left, right)\n",
    "        quickSort2(nums, left, pivotIndex - 1)  # 左序列\n",
    "        quickSort2(nums, pivotIndex + 1, right) # 右序列\n",
    "    return nums"
   ]
  },
  {
   "cell_type": "code",
   "execution_count": null,
   "metadata": {},
   "outputs": [],
   "source": [
    "class Sort {\n",
    "    public static void main(int[] array){\n",
    "        if(array.length == 0)\n",
    "            return array;\n",
    "        for(int i = 0; i < array.length;i++)\n",
    "            for(int j = 0;j<array.length-i-1;j++)\n",
    "                if (array[i+1]<array[i]){\n",
    "                    int tmp = array[i+1];\n",
    "                    array[i+1] = tmp;\n",
    "                    array[i+1] = array[i];\n",
    "                    array[i] = tmp;\n",
    "                }\n",
    "\n",
    "        return array;\n",
    "\n",
    "    }\n",
    "}\n"
   ]
  }
 ],
 "metadata": {
  "kernelspec": {
   "display_name": "Python 3",
   "language": "python",
   "name": "python3"
  },
  "language_info": {
   "codemirror_mode": {
    "name": "ipython",
    "version": 3
   },
   "file_extension": ".py",
   "mimetype": "text/x-python",
   "name": "python",
   "nbconvert_exporter": "python",
   "pygments_lexer": "ipython3",
   "version": "3.7.3"
  }
 },
 "nbformat": 4,
 "nbformat_minor": 2
}
