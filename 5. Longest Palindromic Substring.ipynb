{
 "cells": [
  {
   "cell_type": "code",
   "execution_count": null,
   "metadata": {},
   "outputs": [],
   "source": [
    "class Solution:\n",
    "\tdef longestPalindrome(self, s):\n",
    "\t\tresult = ''\n",
    "\t\tfor i in range(len(s)):\n",
    "\t\t\t#odd case: \n",
    "\t\t\ttemp = self.helper(s, i , i) \n",
    "\t\t\t#update longest string\n",
    "\t\t\tif len(temp) > len(result):\n",
    "\t\t\t\tresult = temp\n",
    "\t\t\t#even case:\n",
    "\t\t\ttemp = self.helper(s, i, i+1)\n",
    "\t\t\t#update longest string\n",
    "\t\t\tif len(temp) > len(result):\n",
    "\t\t\t\tresult = temp\n",
    "\t\treturn result\n",
    "\t\t\t\n",
    "\tdef helper(self, s, left, right):\n",
    "\t\t#find palindromic\n",
    "\t\twhile left >= 0 and right < len(s) and s[left] == s[right]:\n",
    "\t\t\tleft -= 1\n",
    "\t\t\tright += 1\n",
    "\t\treturn s[left + 1 : right]"
   ]
  }
 ],
 "metadata": {
  "kernelspec": {
   "display_name": "Python 3",
   "language": "python",
   "name": "python3"
  },
  "language_info": {
   "codemirror_mode": {
    "name": "ipython",
    "version": 3
   },
   "file_extension": ".py",
   "mimetype": "text/x-python",
   "name": "python",
   "nbconvert_exporter": "python",
   "pygments_lexer": "ipython3",
   "version": "3.7.3"
  }
 },
 "nbformat": 4,
 "nbformat_minor": 2
}
