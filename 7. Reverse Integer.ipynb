{
 "cells": [
  {
   "cell_type": "code",
   "execution_count": 1,
   "metadata": {},
   "outputs": [],
   "source": [
    "class Solution:\n",
    "    def reverse(self, x: int) -> int:\n",
    "        if x == 0:\n",
    "            return 0\n",
    "        x = list(str(x))\n",
    "        if x[0] == '-':\n",
    "            left = 1\n",
    "        else:\n",
    "            left = 0\n",
    "        while x[-1] == '0':\n",
    "                x.pop(-1)\n",
    "        right = len(x)-1\n",
    "        while left < right:\n",
    "            tmp_str = x[left]\n",
    "            x[left] = x[right]\n",
    "            x[right] = tmp_str\n",
    "            left += 1\n",
    "            right -=1\n",
    "        result = \"\".join(x)\n",
    "        result = int(result)\n",
    "        if result  <= -pow(2,31) or result >= pow(2,31)-1:\n",
    "            return 0\n",
    "        return result"
   ]
  },
  {
   "cell_type": "code",
   "execution_count": 3,
   "metadata": {},
   "outputs": [
    {
     "data": {
      "text/plain": [
       "-54321"
      ]
     },
     "execution_count": 3,
     "metadata": {},
     "output_type": "execute_result"
    }
   ],
   "source": [
    "instance = Solution()\n",
    "instance.reverse(-12345)"
   ]
  },
  {
   "cell_type": "code",
   "execution_count": null,
   "metadata": {},
   "outputs": [],
   "source": [
    "def count_all_friend_requests(nums):\n",
    "    result = 0\n",
    "    count = [0] * 1000\n",
    "    for ages in nums:\n",
    "        count[ages] += 1\n",
    "    for ageA, counta in enumerate(count):\n",
    "        for ageB, countb in enumerate(count):\n",
    "            if ageA * 0.5 +7 <= ageB:\n",
    "                continue\n",
    "            if ageA < ageB:\n",
    "                continue\n",
    "            if ageA > 100 and ageB < 100:\n",
    "                continue\n",
    "            result = result + counta*countb\n",
    "            if ageA == ageB:\n",
    "                result = result - counta\n",
    "    return result\n",
    "nums = "
   ]
  }
 ],
 "metadata": {
  "kernelspec": {
   "display_name": "Python 3",
   "language": "python",
   "name": "python3"
  },
  "language_info": {
   "codemirror_mode": {
    "name": "ipython",
    "version": 3
   },
   "file_extension": ".py",
   "mimetype": "text/x-python",
   "name": "python",
   "nbconvert_exporter": "python",
   "pygments_lexer": "ipython3",
   "version": "3.7.3"
  }
 },
 "nbformat": 4,
 "nbformat_minor": 2
}
