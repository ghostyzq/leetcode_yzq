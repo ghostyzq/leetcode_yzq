{
 "cells": [
  {
   "cell_type": "code",
   "execution_count": 2,
   "metadata": {},
   "outputs": [],
   "source": [
    "class Solution:\n",
    "    def mctFromLeafValues(self, arr) -> int:\n",
    "        output,index = 0,0\n",
    "        while True:\n",
    "            tmp = 100000000\n",
    "            for i in range(1,len(arr)):\n",
    "                if arr[i-1]*arr[i] < tmp:\n",
    "                    tmp = arr[i-1]*arr[i]\n",
    "                    index = i\n",
    "            output += tmp\n",
    "            if len(arr)>2:\n",
    "                if arr[index]>arr[index-1]:\n",
    "                    arr = arr[:index-1]+arr[index:]\n",
    "                else:\n",
    "                    arr = arr[:index]+arr[index+1:]\n",
    "                #print(arr)\n",
    "            else:\n",
    "                return output\n",
    "                "
   ]
  },
  {
   "cell_type": "code",
   "execution_count": 4,
   "metadata": {},
   "outputs": [
    {
     "data": {
      "text/plain": [
       "32"
      ]
     },
     "execution_count": 4,
     "metadata": {},
     "output_type": "execute_result"
    }
   ],
   "source": [
    "instance = Solution()\n",
    "arr = [6,2,4]\n",
    "instance.mctFromLeafValues(arr)"
   ]
  },
  {
   "cell_type": "code",
   "execution_count": null,
   "metadata": {},
   "outputs": [],
   "source": []
  }
 ],
 "metadata": {
  "kernelspec": {
   "display_name": "Python 3",
   "language": "python",
   "name": "python3"
  },
  "language_info": {
   "codemirror_mode": {
    "name": "ipython",
    "version": 3
   },
   "file_extension": ".py",
   "mimetype": "text/x-python",
   "name": "python",
   "nbconvert_exporter": "python",
   "pygments_lexer": "ipython3",
   "version": "3.7.3"
  }
 },
 "nbformat": 4,
 "nbformat_minor": 2
}
