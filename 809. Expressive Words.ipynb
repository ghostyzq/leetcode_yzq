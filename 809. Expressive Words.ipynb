{
 "cells": [
  {
   "cell_type": "code",
   "execution_count": 2,
   "metadata": {},
   "outputs": [],
   "source": [
    "class Solution:\n",
    "    def helper(self,word,target):\n",
    "        l1,r1,l2,r2 = 0,0,0,0\n",
    "        while l1 < len(word) and l2<len(target):\n",
    "            if word[l1] != target[l2]:\n",
    "                return 0\n",
    "            while r1<len(word) and word[l1]==word[r1]:\n",
    "                    r1+=1\n",
    "            len1 = r1-l1\n",
    "            while r2<len(target) and target[l2]==target[r2]:\n",
    "                    r2+=1\n",
    "            len2 = r2-l2\n",
    "            if len1 > len2:\n",
    "                return 0\n",
    "            if len1 != len2 and len2 < 3:\n",
    "                return 0\n",
    "            l1,l2 = r1,r2\n",
    "        if l1==len(word) and l2==len(target):\n",
    "            return 1    \n",
    "        return 0\n",
    "     \n",
    "    def expressiveWords(self, target: str, word) -> int:\n",
    "        output = 0\n",
    "        for word in words:\n",
    "            output += self.helper(word,target)\n",
    "            #print(output)\n",
    "        return output"
   ]
  },
  {
   "cell_type": "code",
   "execution_count": 4,
   "metadata": {},
   "outputs": [
    {
     "data": {
      "text/plain": [
       "1"
      ]
     },
     "execution_count": 4,
     "metadata": {},
     "output_type": "execute_result"
    }
   ],
   "source": [
    "S = \"heeellooo\"\n",
    "words = [\"hello\", \"hi\", \"helo\"]\n",
    "instance = Solution()\n",
    "instance.expressiveWords(S,words)"
   ]
  },
  {
   "cell_type": "code",
   "execution_count": null,
   "metadata": {},
   "outputs": [],
   "source": []
  }
 ],
 "metadata": {
  "kernelspec": {
   "display_name": "Python 3",
   "language": "python",
   "name": "python3"
  },
  "language_info": {
   "codemirror_mode": {
    "name": "ipython",
    "version": 3
   },
   "file_extension": ".py",
   "mimetype": "text/x-python",
   "name": "python",
   "nbconvert_exporter": "python",
   "pygments_lexer": "ipython3",
   "version": "3.7.3"
  }
 },
 "nbformat": 4,
 "nbformat_minor": 2
}
