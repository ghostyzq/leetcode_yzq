{
 "cells": [
  {
   "cell_type": "code",
   "execution_count": 1,
   "metadata": {},
   "outputs": [],
   "source": [
    "class MaxStack:\n",
    "\n",
    "    def __init__(self):\n",
    "        \"\"\"\n",
    "        initialize your data structure here.\n",
    "        \"\"\"\n",
    "        self.maxvalue = None\n",
    "        self.maxstack = []\n",
    "        \n",
    "    def check_empty(self):\n",
    "        if self.maxstack:\n",
    "            return 1\n",
    "        else:\n",
    "            return 0\n",
    "    \n",
    "    def push(self, x: int) -> None:\n",
    "        self.maxstack.append(x)\n",
    "        if self.maxvalue == None or x > self.maxvalue:\n",
    "            self.maxvalue = x\n",
    "        \n",
    "\n",
    "    def pop(self) -> int:\n",
    "        if not self.maxstack:\n",
    "            return\n",
    "        tmp = self.maxstack.pop()\n",
    "        if self.check_empty():\n",
    "            maxvalue = None\n",
    "        if not self.check_empty():\n",
    "            self.maxvalue = None\n",
    "        if tmp == self.maxvalue and self.check_empty():\n",
    "            self.maxvalue = max(self.maxstack)\n",
    "        return tmp\n",
    "\n",
    "    def top(self) -> int:\n",
    "        if not self.check_empty():\n",
    "            return\n",
    "        return self.maxstack[-1]\n",
    "        \n",
    "\n",
    "    def peekMax(self) -> int:\n",
    "        return self.maxvalue\n",
    "\n",
    "    def popMax(self) -> int:\n",
    "        if not self.check_empty():\n",
    "            return\n",
    "        tmp = self.maxvalue\n",
    "        for i in range(len(self.maxstack)-1,-1,-1):\n",
    "            if self.maxstack[i] == tmp:\n",
    "                self.maxstack.pop(i)\n",
    "                break\n",
    "        if self.check_empty():\n",
    "            self.maxvalue = max(self.maxstack)\n",
    "        else:\n",
    "            self.maxvalue = None\n",
    "        return tmp"
   ]
  },
  {
   "cell_type": "code",
   "execution_count": null,
   "metadata": {},
   "outputs": [],
   "source": []
  }
 ],
 "metadata": {
  "kernelspec": {
   "display_name": "Python 3",
   "language": "python",
   "name": "python3"
  },
  "language_info": {
   "codemirror_mode": {
    "name": "ipython",
    "version": 3
   },
   "file_extension": ".py",
   "mimetype": "text/x-python",
   "name": "python",
   "nbconvert_exporter": "python",
   "pygments_lexer": "ipython3",
   "version": "3.7.3"
  }
 },
 "nbformat": 4,
 "nbformat_minor": 2
}
