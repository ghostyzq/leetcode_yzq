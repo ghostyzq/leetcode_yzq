{
 "cells": [
  {
   "cell_type": "code",
   "execution_count": 2,
   "metadata": {},
   "outputs": [],
   "source": [
    "# Definition for a binary tree node.\n",
    "# class TreeNode:\n",
    "#     def __init__(self, x):\n",
    "#         self.val = x\n",
    "#         self.left = None\n",
    "#         self.right = None\n",
    "\n",
    "class Solution:\n",
    "    def isSymmetric(self, root) -> bool:\n",
    "        if not root:\n",
    "            return True\n",
    "        def dfs(left,right):\n",
    "            if not left and not right:\n",
    "                return True\n",
    "            if not left or not right:\n",
    "                return False\n",
    "            if left.val != right.val:\n",
    "                return False\n",
    "            else:\n",
    "                return dfs(left.left,right.right) and dfs(left.right,right.left)\n",
    "        return dfs(root.left,root.right)"
   ]
  },
  {
   "cell_type": "code",
   "execution_count": null,
   "metadata": {},
   "outputs": [],
   "source": []
  }
 ],
 "metadata": {
  "kernelspec": {
   "display_name": "Python 3",
   "language": "python",
   "name": "python3"
  },
  "language_info": {
   "codemirror_mode": {
    "name": "ipython",
    "version": 3
   },
   "file_extension": ".py",
   "mimetype": "text/x-python",
   "name": "python",
   "nbconvert_exporter": "python",
   "pygments_lexer": "ipython3",
   "version": "3.7.3"
  }
 },
 "nbformat": 4,
 "nbformat_minor": 2
}
