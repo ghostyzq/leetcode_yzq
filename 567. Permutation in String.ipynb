{
 "cells": [
  {
   "cell_type": "code",
   "execution_count": 61,
   "metadata": {},
   "outputs": [],
   "source": [
    "class Solution:\n",
    "    def checkInclusion(self, s1: str, s2: str) -> bool:\n",
    "        if len(s2)<len(s1):\n",
    "            return False\n",
    "        target,cache = dict(),dict()\n",
    "        targetset = set(s1)\n",
    "        for letter in s1:\n",
    "            if letter not in cache:\n",
    "                cache[letter] = 0\n",
    "            if letter not in target:\n",
    "                target[letter] = 1\n",
    "            else:\n",
    "                target[letter] += 1\n",
    "        left,right = 0,len(s1)\n",
    "        for letter in s2[left:right]:\n",
    "            if letter in targetset:\n",
    "                cache[letter] += 1\n",
    "        if cache == target:\n",
    "                return True\n",
    "        while right<=len(s2):\n",
    "            #print(s2[left:right])\n",
    "            #print(cache)\n",
    "            if cache == target:\n",
    "                return True\n",
    "            #print(s2[left])\n",
    "            #print(s2[right-1])\n",
    "            if s2[left] in targetset:\n",
    "                cache[s2[left]] -= 1\n",
    "            if right < len(s2) and s2[right] in targetset:\n",
    "                cache[s2[right]] += 1\n",
    "            right += 1\n",
    "            left += 1\n",
    "        return False\n",
    "            "
   ]
  },
  {
   "cell_type": "code",
   "execution_count": 62,
   "metadata": {},
   "outputs": [],
   "source": [
    "instance = Solution()\n",
    "s1 = \"ab\"\n",
    "s2 = \"eidbaooo\""
   ]
  },
  {
   "cell_type": "code",
   "execution_count": 63,
   "metadata": {},
   "outputs": [
    {
     "data": {
      "text/plain": [
       "True"
      ]
     },
     "execution_count": 63,
     "metadata": {},
     "output_type": "execute_result"
    }
   ],
   "source": [
    "instance.checkInclusion(s1,s2)"
   ]
  },
  {
   "cell_type": "code",
   "execution_count": 64,
   "metadata": {},
   "outputs": [
    {
     "data": {
      "text/plain": [
       "'b'"
      ]
     },
     "execution_count": 64,
     "metadata": {},
     "output_type": "execute_result"
    }
   ],
   "source": [
    "s2[3]"
   ]
  },
  {
   "cell_type": "code",
   "execution_count": null,
   "metadata": {},
   "outputs": [],
   "source": []
  }
 ],
 "metadata": {
  "kernelspec": {
   "display_name": "Python 3",
   "language": "python",
   "name": "python3"
  },
  "language_info": {
   "codemirror_mode": {
    "name": "ipython",
    "version": 3
   },
   "file_extension": ".py",
   "mimetype": "text/x-python",
   "name": "python",
   "nbconvert_exporter": "python",
   "pygments_lexer": "ipython3",
   "version": "3.7.3"
  }
 },
 "nbformat": 4,
 "nbformat_minor": 2
}
