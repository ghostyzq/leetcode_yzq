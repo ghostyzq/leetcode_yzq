{
 "cells": [
  {
   "cell_type": "code",
   "execution_count": 1,
   "metadata": {},
   "outputs": [],
   "source": [
    "wordDict = [\"cats\", \"dog\", \"sand\", \"and\", \"cat\"]\n",
    "lenList = [l for l in set(map(len, wordDict))]"
   ]
  },
  {
   "cell_type": "code",
   "execution_count": 6,
   "metadata": {},
   "outputs": [
    {
     "data": {
      "text/plain": [
       "[3, 4]"
      ]
     },
     "execution_count": 6,
     "metadata": {},
     "output_type": "execute_result"
    }
   ],
   "source": [
    "lenList"
   ]
  },
  {
   "cell_type": "code",
   "execution_count": 9,
   "metadata": {},
   "outputs": [],
   "source": [
    "import numpy as np\n",
    "\n",
    "\n",
    "class Solution:\n",
    "    def wordBreak(self, s, wordDict) -> bool:\n",
    "        stack = [0]\n",
    "        ls = len(s)\n",
    "        no_repeat = []\n",
    "        for x in wordDict:\n",
    "            no_repeat.append(len(x))\n",
    "        lenList = list(set(no_repeat))\n",
    "        print(lenList)\n",
    "        visited = np.zeros(len(s))\n",
    "        print(visited)\n",
    "        while stack:\n",
    "            vertex = stack.pop()\n",
    "            for l in lenList:\n",
    "                if s[vertex:vertex + l] in wordDict:\n",
    "                        if vertex + l == ls:\n",
    "                            return True\n",
    "                        if visited[vertex + l] == 0:\n",
    "                            stack.append(vertex + l)\n",
    "                            visited[vertex + l] = 1\n",
    "        return False"
   ]
  },
  {
   "cell_type": "code",
   "execution_count": 8,
   "metadata": {},
   "outputs": [],
   "source": [
    "class Solution:\n",
    "    def wordBreak(self, s: str, wordDict) -> bool:\n",
    "        wordDict = set(wordDict)\n",
    "        dp = [False for i in range(len(s)+1)]\n",
    "        dp[0] = True\n",
    "        for i in range(len(s)):\n",
    "            if dp[i] == True:\n",
    "                for j in range(i,len(s)):\n",
    "                    if s[i:j+1] in wordDict:\n",
    "                        dp[j+1] = True\n",
    "        return dp[-1]"
   ]
  },
  {
   "cell_type": "code",
   "execution_count": 9,
   "metadata": {},
   "outputs": [],
   "source": [
    "instance = Solution()\n",
    "s = \"leetcode\"\n",
    "wordDict = [\"leet\",\"code\"]"
   ]
  },
  {
   "cell_type": "code",
   "execution_count": 10,
   "metadata": {},
   "outputs": [
    {
     "data": {
      "text/plain": [
       "True"
      ]
     },
     "execution_count": 10,
     "metadata": {},
     "output_type": "execute_result"
    }
   ],
   "source": [
    "instance.wordBreak(s,wordDict)"
   ]
  },
  {
   "cell_type": "code",
   "execution_count": null,
   "metadata": {},
   "outputs": [],
   "source": []
  }
 ],
 "metadata": {
  "kernelspec": {
   "display_name": "Python 3",
   "language": "python",
   "name": "python3"
  },
  "language_info": {
   "codemirror_mode": {
    "name": "ipython",
    "version": 3
   },
   "file_extension": ".py",
   "mimetype": "text/x-python",
   "name": "python",
   "nbconvert_exporter": "python",
   "pygments_lexer": "ipython3",
   "version": "3.7.3"
  }
 },
 "nbformat": 4,
 "nbformat_minor": 2
}
