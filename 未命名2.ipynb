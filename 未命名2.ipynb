{
 "cells": [
  {
   "cell_type": "code",
   "execution_count": 13,
   "metadata": {},
   "outputs": [],
   "source": [
    "import numpy as np\n",
    "\n",
    "class Solution:\n",
    "    def numDecodings(self, s: str) -> int:\n",
    "        if not int(s[0]):\n",
    "            return 0\n",
    "        if len(s) == 1:\n",
    "            return 1\n",
    "        dp = np.zeros(len(s)+1,dtype=int)\n",
    "        dp[0] = 1\n",
    "        for i in range(1,len(s)+1):\n",
    "            if s[i-2:i] == '00':\n",
    "                return 0\n",
    "            if s[i-1:i] == '0' and s[i-2:i] > '26':\n",
    "                return 0\n",
    "            elif (s[i-2:i]<='26') and (s[i-2:i] >= '10' and s[i-1:i] != '0' and s[i:i+1] != '0'):\n",
    "                        dp[i] =  dp[i-2] + dp[i-1]\n",
    "            else:\n",
    "                    dp[i] =  dp[i-1]\n",
    "            print(dp)\n",
    "        return dp[len(dp)-1]\n",
    "            "
   ]
  },
  {
   "cell_type": "code",
   "execution_count": 15,
   "metadata": {},
   "outputs": [
    {
     "name": "stdout",
     "output_type": "stream",
     "text": [
      "[1 1 0 0 0 0]\n",
      "[1 1 2 0 0 0]\n",
      "[1 1 2 3 0 0]\n",
      "[1 1 2 3 3 0]\n",
      "[1 1 2 3 3 3]\n"
     ]
    },
    {
     "data": {
      "text/plain": [
       "3"
      ]
     },
     "execution_count": 15,
     "metadata": {},
     "output_type": "execute_result"
    }
   ],
   "source": [
    "instance = Solution()\n",
    "s = '12120'\n",
    "instance.numDecodings(s)"
   ]
  },
  {
   "cell_type": "code",
   "execution_count": null,
   "metadata": {},
   "outputs": [],
   "source": []
  }
 ],
 "metadata": {
  "kernelspec": {
   "display_name": "Python 3",
   "language": "python",
   "name": "python3"
  },
  "language_info": {
   "codemirror_mode": {
    "name": "ipython",
    "version": 3
   },
   "file_extension": ".py",
   "mimetype": "text/x-python",
   "name": "python",
   "nbconvert_exporter": "python",
   "pygments_lexer": "ipython3",
   "version": "3.7.3"
  }
 },
 "nbformat": 4,
 "nbformat_minor": 2
}
