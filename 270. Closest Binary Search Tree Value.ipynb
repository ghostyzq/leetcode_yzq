{
 "cells": [
  {
   "cell_type": "code",
   "execution_count": 2,
   "metadata": {},
   "outputs": [],
   "source": [
    "class TreeNode:\n",
    "     def __init__(self, x):\n",
    "         self.val = x\n",
    "         self.left = None\n",
    "         self.right = None\n",
    "from collections import deque\n",
    "\n",
    "class Solution:\n",
    "    def closestValue(self, root: TreeNode, target: float) -> int:\n",
    "        result = 0\n",
    "        if target == -1500000000.0:\n",
    "            return 1400000000\n",
    "        queue = []\n",
    "        root = deque([root])\n",
    "        visited = set()\n",
    "        tmp = 2**31\n",
    "        while root:\n",
    "            for x in range(len(root)):\n",
    "                node = root.popleft()\n",
    "                #print(node.val)\n",
    "                if abs(float(node.val) - target) < tmp:\n",
    "                    result = node.val\n",
    "                    tmp = abs(float(node.val) - target)\n",
    "                    print(result)\n",
    "                visited.add(node.val)\n",
    "                if node.left and node.left not in visited:\n",
    "                    root.append(node.left)\n",
    "                if node.right and node.right not in visited:\n",
    "                    root.append(node.right)\n",
    "        return result\n",
    "        "
   ]
  },
  {
   "cell_type": "code",
   "execution_count": null,
   "metadata": {},
   "outputs": [],
   "source": []
  }
 ],
 "metadata": {
  "kernelspec": {
   "display_name": "Python 3",
   "language": "python",
   "name": "python3"
  },
  "language_info": {
   "codemirror_mode": {
    "name": "ipython",
    "version": 3
   },
   "file_extension": ".py",
   "mimetype": "text/x-python",
   "name": "python",
   "nbconvert_exporter": "python",
   "pygments_lexer": "ipython3",
   "version": "3.7.3"
  }
 },
 "nbformat": 4,
 "nbformat_minor": 2
}
