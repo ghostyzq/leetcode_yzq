{
 "cells": [
  {
   "cell_type": "code",
   "execution_count": 32,
   "metadata": {},
   "outputs": [],
   "source": [
    "class Solution:\n",
    "    def check_rot(self,r,c,d):\n",
    "        if r+1<self.row:\n",
    "            if self.grid[r+1][c] == 1:\n",
    "                self.grid[r+1][c] = 2\n",
    "                self.queue.append((r+1, c, d+1))\n",
    "        if r-1>-1:\n",
    "            if self.grid[r-1][c] == 1:\n",
    "                self.grid[r-1][c] = 2\n",
    "                self.queue.append((r-1, c, d+1))\n",
    "        if c+1<self.column:\n",
    "            if self.grid[r][c+1] == 1:\n",
    "                self.grid[r][c+1] = 2\n",
    "                self.queue.append((r, c+1, d+1))\n",
    "        if c-1>-1:\n",
    "            if self.grid[r][c-1] == 1:\n",
    "                self.grid[r][c-1] = 2\n",
    "                self.queue.append((r, c-1, d+1))\n",
    "        \n",
    "        \n",
    "    def orangesRotting(self, grid) -> int:\n",
    "        if not grid:\n",
    "            return -1\n",
    "        self.row = len(grid)\n",
    "        self.column = len(grid[0])\n",
    "        #print(self.row)\n",
    "        self.grid = grid\n",
    "        self.queue = []\n",
    "        for x in range(len(grid)):\n",
    "            for y in range(len(grid[0])):\n",
    "                if grid[x][y]==2:\n",
    "                    self.queue.append((x, y, 0))\n",
    "        max_time = 0\n",
    "        while self.queue:\n",
    "            r,c,d = self.queue.pop(0)\n",
    "            #print((r,c,d))\n",
    "            #print(self.grid)\n",
    "            if d>max_time:\n",
    "                max_time = d\n",
    "            self.check_rot(r,c,d)\n",
    "        for x in range(len(grid)):\n",
    "            for y in range(len(grid[0])):\n",
    "                if self.grid[x][y]==1:\n",
    "                    return -1\n",
    "        return max_time "
   ]
  },
  {
   "cell_type": "code",
   "execution_count": 33,
   "metadata": {},
   "outputs": [
    {
     "name": "stdout",
     "output_type": "stream",
     "text": [
      "1\n"
     ]
    },
    {
     "data": {
      "text/plain": [
       "2"
      ]
     },
     "execution_count": 33,
     "metadata": {},
     "output_type": "execute_result"
    }
   ],
   "source": [
    "instance = Solution()\n",
    "grid = [[1,1,2,0,2,0]]\n",
    "instance.orangesRotting(grid)"
   ]
  },
  {
   "cell_type": "code",
   "execution_count": 34,
   "metadata": {},
   "outputs": [
    {
     "name": "stdout",
     "output_type": "stream",
     "text": [
      "3\n"
     ]
    },
    {
     "data": {
      "text/plain": [
       "4"
      ]
     },
     "execution_count": 34,
     "metadata": {},
     "output_type": "execute_result"
    }
   ],
   "source": [
    "grid = [[2,1,1],[1,1,0],[0,1,1]]\n",
    "instance.orangesRotting(grid)"
   ]
  },
  {
   "cell_type": "code",
   "execution_count": null,
   "metadata": {},
   "outputs": [],
   "source": []
  }
 ],
 "metadata": {
  "kernelspec": {
   "display_name": "Python 3",
   "language": "python",
   "name": "python3"
  },
  "language_info": {
   "codemirror_mode": {
    "name": "ipython",
    "version": 3
   },
   "file_extension": ".py",
   "mimetype": "text/x-python",
   "name": "python",
   "nbconvert_exporter": "python",
   "pygments_lexer": "ipython3",
   "version": "3.7.3"
  }
 },
 "nbformat": 4,
 "nbformat_minor": 2
}
