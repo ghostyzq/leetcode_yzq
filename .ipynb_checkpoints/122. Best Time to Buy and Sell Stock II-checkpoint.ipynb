{
 "cells": [
  {
   "cell_type": "code",
   "execution_count": 1,
   "metadata": {},
   "outputs": [],
   "source": [
    "#same as the one before, but you can buy and sell many times"
   ]
  },
  {
   "cell_type": "code",
   "execution_count": 1,
   "metadata": {},
   "outputs": [],
   "source": [
    "#import numpy as np\n",
    "\n",
    "class Solution:\n",
    "    def helper(self,prices,current_day,hold,profit): # jump out recursion condition\n",
    "        if current_day == len(prices)-1:\n",
    "            if hold == 1:\n",
    "                return (profit + max(prices[len(prices)-1],prices[len(prices)-2]))\n",
    "            else:\n",
    "                return (profit + max(0,prices[len(prices)-1]-prices[len(prices)-2]))\n",
    "        # sell and buy tactics\n",
    "        if hold == 0 and prices[current_day+1]>prices[current_day]:\n",
    "            hold = 1\n",
    "            profit = profit - prices[current_day]\n",
    "        if hold == 1 and prices[current_day+1]<prices[current_day]:\n",
    "            hold = 0\n",
    "            profit = profit + prices[current_day]\n",
    "        current_day = current_day + 1\n",
    "        print(profit)\n",
    "        return self.helper(prices,current_day,hold,profit)\n",
    "            \n",
    "    \n",
    "    def maxProfit(self, prices):\n",
    "        if not prices:\n",
    "            return 0\n",
    "        profit = 0\n",
    "        hold = 0\n",
    "        current_day = 0\n",
    "        return self.helper(prices,current_day,hold,profit)\n",
    "            \n",
    "        "
   ]
  },
  {
   "cell_type": "code",
   "execution_count": 2,
   "metadata": {},
   "outputs": [
    {
     "name": "stdout",
     "output_type": "stream",
     "text": [
      "0\n",
      "-1\n",
      "4\n",
      "1\n",
      "7\n"
     ]
    },
    {
     "data": {
      "text/plain": [
       "7"
      ]
     },
     "execution_count": 2,
     "metadata": {},
     "output_type": "execute_result"
    }
   ],
   "source": [
    "prices = [7,1,5,3,6,4]\n",
    "test_example = Solution()\n",
    "test_example.maxProfit(prices)"
   ]
  },
  {
   "cell_type": "code",
   "execution_count": null,
   "metadata": {},
   "outputs": [],
   "source": []
  }
 ],
 "metadata": {
  "kernelspec": {
   "display_name": "Python 3",
   "language": "python",
   "name": "python3"
  },
  "language_info": {
   "codemirror_mode": {
    "name": "ipython",
    "version": 3
   },
   "file_extension": ".py",
   "mimetype": "text/x-python",
   "name": "python",
   "nbconvert_exporter": "python",
   "pygments_lexer": "ipython3",
   "version": "3.7.3"
  }
 },
 "nbformat": 4,
 "nbformat_minor": 2
}
