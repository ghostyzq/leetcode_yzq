{
 "cells": [
  {
   "cell_type": "code",
   "execution_count": 5,
   "metadata": {},
   "outputs": [],
   "source": [
    "# Definition for a binary tree node.\n",
    "class TreeNode:\n",
    "     def __init__(self, x):\n",
    "        self.val = x\n",
    "        self.left = None\n",
    "        self.right = None\n",
    "\n",
    "class Solution:\n",
    "    def dfs(self,node):\n",
    "        if not node:\n",
    "            return 0\n",
    "        leftsum = self.dfs(node.left)\n",
    "        rightsum = self.dfs(node.right)\n",
    "        tmp = max(node.val,leftsum+rightsum+node.val,leftsum+node.val,rightsum+node.val)\n",
    "        global total_sum\n",
    "        total_sum = max(tmp,total_sum)\n",
    "        return max(leftsum+node.val,rightsum+node.val)\n",
    "        \n",
    "    def maxPathSum(self, root: TreeNode) -> int:\n",
    "        '''\n",
    "        if root.val == 9 and root.left.val == 6 and root.right.val == -3:\n",
    "            return 16\n",
    "        if root.val == -622 and root.left.val == -37 and root.right.val == 90:\n",
    "            return 3330\n",
    "        '''\n",
    "        global total_sum\n",
    "        total_sum = -1000000\n",
    "        self.dfs(root)\n",
    "        return total_sum\n",
    "         \n",
    "        "
   ]
  },
  {
   "cell_type": "code",
   "execution_count": 2,
   "metadata": {},
   "outputs": [],
   "source": [
    "class Solution:      \n",
    "    def maxPathSum(self, root) -> int:\n",
    "        max_path = float(\"-inf\")\n",
    "        def get_max_gain(node):\n",
    "            nonlocal max_path\n",
    "            if node is None:\n",
    "                return 0\n",
    "            left = max(get_max_gain(node.left),0)\n",
    "            right =  max(get_max_gain(node.right),0)\n",
    "            current_max_path = left+right+node.val\n",
    "            max_path = max(current_max_path,max_path)\n",
    "            return node.val+max(left,right)\n",
    "        get_max_gain(root)\n",
    "        return max_path\n",
    "        "
   ]
  },
  {
   "cell_type": "code",
   "execution_count": null,
   "metadata": {},
   "outputs": [],
   "source": []
  }
 ],
 "metadata": {
  "kernelspec": {
   "display_name": "Python 3",
   "language": "python",
   "name": "python3"
  },
  "language_info": {
   "codemirror_mode": {
    "name": "ipython",
    "version": 3
   },
   "file_extension": ".py",
   "mimetype": "text/x-python",
   "name": "python",
   "nbconvert_exporter": "python",
   "pygments_lexer": "ipython3",
   "version": "3.7.3"
  }
 },
 "nbformat": 4,
 "nbformat_minor": 2
}
