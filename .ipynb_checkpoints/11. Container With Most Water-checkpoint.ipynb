{
 "cells": [
  {
   "cell_type": "code",
   "execution_count": 2,
   "metadata": {},
   "outputs": [],
   "source": [
    "class Solution:\n",
    "    def maxArea(self, height) -> int:\n",
    "        left = 0\n",
    "        right = len(height)-1\n",
    "        max_result = 0\n",
    "        while left < right:\n",
    "            changed = 0\n",
    "            tmp = min(height[right],height[left])*(right-left)\n",
    "            max_result = max(tmp,max_result)\n",
    "            #rint(max_result)\n",
    "            #height[left] < height[left+1] and \n",
    "            if height[left] <  height[right]:\n",
    "                left = left + 1\n",
    "                #rint('left')\n",
    "                continue\n",
    "            #height[right] < height[right-1] and \n",
    "            elif height[right] <  height[left]:\n",
    "                right = right - 1\n",
    "                #rint('right')\n",
    "                continue\n",
    "            else:\n",
    "                left = left + 1\n",
    "        return max_result\n",
    "            \n",
    "        "
   ]
  },
  {
   "cell_type": "code",
   "execution_count": null,
   "metadata": {},
   "outputs": [],
   "source": []
  }
 ],
 "metadata": {
  "kernelspec": {
   "display_name": "Python 3",
   "language": "python",
   "name": "python3"
  },
  "language_info": {
   "codemirror_mode": {
    "name": "ipython",
    "version": 3
   },
   "file_extension": ".py",
   "mimetype": "text/x-python",
   "name": "python",
   "nbconvert_exporter": "python",
   "pygments_lexer": "ipython3",
   "version": "3.7.3"
  }
 },
 "nbformat": 4,
 "nbformat_minor": 2
}
