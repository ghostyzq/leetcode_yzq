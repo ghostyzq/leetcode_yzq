{
 "cells": [
  {
   "cell_type": "code",
   "execution_count": 4,
   "metadata": {},
   "outputs": [],
   "source": [
    "class Solution: #brute force\n",
    "    def mergeKLists(self, lists):\n",
    "        self.nodes = []\n",
    "        head = point = ListNode(0)\n",
    "        for l in lists:\n",
    "            while l:\n",
    "                self.nodes.append(l.val)\n",
    "                l = l.next\n",
    "        for x in sorted(self.nodes):\n",
    "            point.next = ListNode(x)\n",
    "            point = point.next\n",
    "        return head.next"
   ]
  },
  {
   "cell_type": "code",
   "execution_count": 5,
   "metadata": {},
   "outputs": [],
   "source": [
    "from queue import PriorityQueue\n",
    "\n",
    "class Solution():\n",
    "    def mergeKLists(self, lists):\n",
    "        \"\"\"\n",
    "        :type lists: List[ListNode]\n",
    "        :rtype: ListNode\n",
    "        \"\"\"\n",
    "        class Wrapper():\n",
    "            def __init__(self, node):\n",
    "                self.node = node\n",
    "            def __lt__(self, other):\n",
    "                return self.node.val < other.node.val\n",
    "        \n",
    "        head = point = ListNode(0)\n",
    "        q = PriorityQueue()\n",
    "        for l in lists:\n",
    "            if l:\n",
    "                q.put(Wrapper(l))\n",
    "        while not q.empty():\n",
    "            node = q.get().node\n",
    "            point.next = node\n",
    "            point = point.next\n",
    "            node = node.next\n",
    "            if node:\n",
    "                q.put(Wrapper(node))\n",
    "        return head.next"
   ]
  },
  {
   "cell_type": "code",
   "execution_count": null,
   "metadata": {},
   "outputs": [],
   "source": []
  }
 ],
 "metadata": {
  "kernelspec": {
   "display_name": "Python 3",
   "language": "python",
   "name": "python3"
  },
  "language_info": {
   "codemirror_mode": {
    "name": "ipython",
    "version": 3
   },
   "file_extension": ".py",
   "mimetype": "text/x-python",
   "name": "python",
   "nbconvert_exporter": "python",
   "pygments_lexer": "ipython3",
   "version": "3.7.3"
  }
 },
 "nbformat": 4,
 "nbformat_minor": 2
}
