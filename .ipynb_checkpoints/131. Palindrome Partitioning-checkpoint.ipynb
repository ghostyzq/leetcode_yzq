{
 "cells": [
  {
   "cell_type": "code",
   "execution_count": 32,
   "metadata": {},
   "outputs": [],
   "source": [
    "class Solution:\n",
    "    def judge_palindrome(self,s):\n",
    "        if len(s) == 0:\n",
    "            return 0\n",
    "        if len(s) == 1:\n",
    "            return 1\n",
    "        left = 0\n",
    "        right = len(s)-1\n",
    "        while left < right:\n",
    "            if s[left] != s[right]:\n",
    "                return 0\n",
    "            left += 1\n",
    "            right -= 1\n",
    "        return 1\n",
    "    \n",
    "    def helper(self,tmp,pointer,tmp_result):\n",
    "        print(tmp)\n",
    "        if pointer == self.len+1:\n",
    "            if tmp == None:\n",
    "                if tmp_result not in self.result:\n",
    "                    self.result.append(tmp_result)\n",
    "            elif self.judge_palindrome(tmp):\n",
    "                if tmp_result+[tmp] not in self.result:\n",
    "                    self.result.append(tmp_result+[tmp])\n",
    "            else:\n",
    "                print(\"not\")\n",
    "            return\n",
    "        if self.judge_palindrome(tmp):\n",
    "            self.helper(s[pointer],pointer+1,tmp_result + [tmp])\n",
    "        else:\n",
    "            self.helper(tmp+self.s[pointer],pointer+1,tmp_result)\n",
    "        \n",
    "        \n",
    "    def partition(self, s: str):\n",
    "        if not s:\n",
    "            return []\n",
    "        self.s = s\n",
    "        self.len = len(s)-1\n",
    "        self.result = []\n",
    "        for i in range(len(s)):\n",
    "            tmp_result = []\n",
    "            self.helper(s[0:i],i,tmp_result)\n",
    "        return self.result"
   ]
  },
  {
   "cell_type": "code",
   "execution_count": 36,
   "metadata": {},
   "outputs": [
    {
     "name": "stdout",
     "output_type": "stream",
     "text": [
      "\n",
      "c\n",
      "d\n",
      "d\n",
      "c\n",
      "d\n",
      "d\n",
      "cd\n",
      "cdd\n",
      "not\n"
     ]
    },
    {
     "data": {
      "text/plain": [
       "[['c', 'd', 'd']]"
      ]
     },
     "execution_count": 36,
     "metadata": {},
     "output_type": "execute_result"
    }
   ],
   "source": [
    "instance = Solution()\n",
    "s = \"cdd\"\n",
    "instance.partition(s)"
   ]
  },
  {
   "cell_type": "code",
   "execution_count": 37,
   "metadata": {},
   "outputs": [],
   "source": [
    "def isPalindrome(s):\n",
    "    return s == s[::-1]"
   ]
  },
  {
   "cell_type": "code",
   "execution_count": 38,
   "metadata": {},
   "outputs": [
    {
     "data": {
      "text/plain": [
       "True"
      ]
     },
     "execution_count": 38,
     "metadata": {},
     "output_type": "execute_result"
    }
   ],
   "source": [
    "isPalindrome('aba')"
   ]
  },
  {
   "cell_type": "code",
   "execution_count": 41,
   "metadata": {},
   "outputs": [],
   "source": [
    "s = 'cba'"
   ]
  },
  {
   "cell_type": "code",
   "execution_count": 42,
   "metadata": {},
   "outputs": [
    {
     "data": {
      "text/plain": [
       "'abc'"
      ]
     },
     "execution_count": 42,
     "metadata": {},
     "output_type": "execute_result"
    }
   ],
   "source": [
    "s[::-1]"
   ]
  },
  {
   "cell_type": "code",
   "execution_count": 45,
   "metadata": {},
   "outputs": [],
   "source": [
    "class Solution:\n",
    "    def judge_palindrome(self,s):\n",
    "        if len(s) == 0:\n",
    "            return 0\n",
    "        if len(s) == 1:\n",
    "            return 1\n",
    "        left = 0\n",
    "        right = len(s)-1\n",
    "        while left < right:\n",
    "            if s[left] != s[right]:\n",
    "                return 0\n",
    "            left += 1\n",
    "            right -= 1\n",
    "        return 1\n",
    "    \n",
    "    def dfs(self,s,path):\n",
    "        if not s:\n",
    "            self.result.append(path)\n",
    "        for i in range(1,len(s)+1):\n",
    "            if self.judge_palindrome(s[:i]):\n",
    "                self.dfs(s[i:],path+[s[:i]])\n",
    "        \n",
    "    def partition(self, s: str):\n",
    "        if not s:\n",
    "            return []\n",
    "        self.result = []\n",
    "        self.dfs(s,[])\n",
    "        return self.result"
   ]
  },
  {
   "cell_type": "code",
   "execution_count": 46,
   "metadata": {},
   "outputs": [
    {
     "data": {
      "text/plain": [
       "[['c', 'd', 'd'], ['c', 'dd']]"
      ]
     },
     "execution_count": 46,
     "metadata": {},
     "output_type": "execute_result"
    }
   ],
   "source": [
    "instance = Solution()\n",
    "s = \"cdd\"\n",
    "instance.partition(s)"
   ]
  },
  {
   "cell_type": "code",
   "execution_count": 47,
   "metadata": {},
   "outputs": [
    {
     "data": {
      "text/plain": [
       "1"
      ]
     },
     "execution_count": 47,
     "metadata": {},
     "output_type": "execute_result"
    }
   ],
   "source": [
    "s = 'aba'\n",
    "instance.judge_palindrome(s)"
   ]
  },
  {
   "cell_type": "code",
   "execution_count": null,
   "metadata": {},
   "outputs": [],
   "source": []
  }
 ],
 "metadata": {
  "kernelspec": {
   "display_name": "Python 3",
   "language": "python",
   "name": "python3"
  },
  "language_info": {
   "codemirror_mode": {
    "name": "ipython",
    "version": 3
   },
   "file_extension": ".py",
   "mimetype": "text/x-python",
   "name": "python",
   "nbconvert_exporter": "python",
   "pygments_lexer": "ipython3",
   "version": "3.7.3"
  }
 },
 "nbformat": 4,
 "nbformat_minor": 2
}
