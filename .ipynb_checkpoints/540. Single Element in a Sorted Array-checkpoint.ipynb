{
 "cells": [
  {
   "cell_type": "code",
   "execution_count": 1,
   "metadata": {},
   "outputs": [],
   "source": [
    "class Solution:\n",
    "    def singleNonDuplicate(self, nums) -> int:\n",
    "        #print(nums)\n",
    "        if len(nums) == 3:\n",
    "            if nums[0] != nums[1]:\n",
    "                return nums[0]\n",
    "            return nums[2]\n",
    "        if len(nums) == 1:\n",
    "            return nums[0]\n",
    "        if len(nums) % 2 == 0 or len(nums)==0:\n",
    "            return False\n",
    "        mid = len(nums)//2+1\n",
    "        #print(mid)\n",
    "        if nums[mid-1] != nums[mid-2] and nums[mid] != nums[mid-1]:\n",
    "            return nums[mid-1]\n",
    "        if mid % 2 == 0:\n",
    "            if nums[mid-1] == nums[mid-2]:\n",
    "                return self.singleNonDuplicate(nums[mid:])\n",
    "            else:\n",
    "                return self.singleNonDuplicate(nums[:mid-1])\n",
    "        else:\n",
    "            if nums[mid-1] == nums[mid-2]:\n",
    "                return self.singleNonDuplicate(nums[:mid])\n",
    "            else:\n",
    "                return self.singleNonDuplicate(nums[mid-1:])\n",
    "            "
   ]
  },
  {
   "cell_type": "code",
   "execution_count": 2,
   "metadata": {},
   "outputs": [
    {
     "data": {
      "text/plain": [
       "2"
      ]
     },
     "execution_count": 2,
     "metadata": {},
     "output_type": "execute_result"
    }
   ],
   "source": [
    "instance = Solution()\n",
    "nums = [1,1,2,3,3,4,4,8,8]\n",
    "instance.singleNonDuplicate(nums)"
   ]
  },
  {
   "cell_type": "code",
   "execution_count": null,
   "metadata": {},
   "outputs": [],
   "source": []
  }
 ],
 "metadata": {
  "kernelspec": {
   "display_name": "Python 3",
   "language": "python",
   "name": "python3"
  },
  "language_info": {
   "codemirror_mode": {
    "name": "ipython",
    "version": 3
   },
   "file_extension": ".py",
   "mimetype": "text/x-python",
   "name": "python",
   "nbconvert_exporter": "python",
   "pygments_lexer": "ipython3",
   "version": "3.7.3"
  }
 },
 "nbformat": 4,
 "nbformat_minor": 2
}
