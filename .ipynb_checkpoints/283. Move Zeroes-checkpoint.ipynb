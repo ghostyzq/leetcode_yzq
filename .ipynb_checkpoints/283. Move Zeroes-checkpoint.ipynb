{
 "cells": [
  {
   "cell_type": "code",
   "execution_count": 9,
   "metadata": {},
   "outputs": [],
   "source": [
    "class Solution:\n",
    "    def moveZeroes(self, nums):\n",
    "        \"\"\"\n",
    "        Do not return anything, modify nums in-place instead.\n",
    "        \"\"\"\n",
    "        if not nums or 0 not in nums:\n",
    "            return\n",
    "        for i in range(len(nums)):\n",
    "            if nums[i] != 0:\n",
    "                continue\n",
    "            else:\n",
    "                j = i\n",
    "                while nums[j] == 0 and j < len(nums)-1:\n",
    "                    j += 1\n",
    "                if j == len(nums) - 1 and nums[-1] == 0:\n",
    "                    return\n",
    "                tmp = nums[i]\n",
    "                nums[i] = nums[j]\n",
    "                nums[j] = tmp \n",
    "        print(nums)\n",
    "        return nums"
   ]
  },
  {
   "cell_type": "code",
   "execution_count": 10,
   "metadata": {},
   "outputs": [],
   "source": [
    "instance = Solution()\n",
    "nums = [0,1,0,3,12]\n",
    "instance.moveZeroes(nums)"
   ]
  },
  {
   "cell_type": "code",
   "execution_count": null,
   "metadata": {},
   "outputs": [],
   "source": []
  }
 ],
 "metadata": {
  "kernelspec": {
   "display_name": "Python 3",
   "language": "python",
   "name": "python3"
  },
  "language_info": {
   "codemirror_mode": {
    "name": "ipython",
    "version": 3
   },
   "file_extension": ".py",
   "mimetype": "text/x-python",
   "name": "python",
   "nbconvert_exporter": "python",
   "pygments_lexer": "ipython3",
   "version": "3.7.3"
  }
 },
 "nbformat": 4,
 "nbformat_minor": 2
}
