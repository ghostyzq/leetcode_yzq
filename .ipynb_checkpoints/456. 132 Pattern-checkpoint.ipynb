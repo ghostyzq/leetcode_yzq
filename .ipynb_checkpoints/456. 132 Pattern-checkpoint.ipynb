{
 "cells": [
  {
   "cell_type": "code",
   "execution_count": 1,
   "metadata": {},
   "outputs": [],
   "source": [
    "class Solution:\n",
    "    def find132pattern(self, nums) -> bool:\n",
    "        if len(nums) < 3:\n",
    "            return False\n",
    "        if len(nums) == 3:\n",
    "            if nums[0] < nums[2] and nums[1] > nums[2]:\n",
    "                return True\n",
    "            else:\n",
    "                return False\n",
    "        for i in range(len(nums)-2):\n",
    "            for j in range(i+1,len(nums)-1):\n",
    "                for k in range(i+2,len(nums)):\n",
    "                    if nums[i] < nums[k] and nums[j] > nums[k]:\n",
    "                        return True\n",
    "        return False\n",
    "        "
   ]
  },
  {
   "cell_type": "code",
   "execution_count": 2,
   "metadata": {},
   "outputs": [
    {
     "data": {
      "text/plain": [
       "True"
      ]
     },
     "execution_count": 2,
     "metadata": {},
     "output_type": "execute_result"
    }
   ],
   "source": [
    "instance = Solution()\n",
    "nums = [-1, 3, 2, 0]\n",
    "instance.find132pattern(nums)"
   ]
  },
  {
   "cell_type": "code",
   "execution_count": 4,
   "metadata": {},
   "outputs": [],
   "source": [
    "class Solution:\n",
    "    def find132pattern(self, nums) -> bool:\n",
    "        if len(nums) < 3:\n",
    "            return False\n",
    "        minlist,stack = [nums[0]],[]\n",
    "        for i in range(1,len(nums)):\n",
    "            minlist.append(min(minlist[i-1],nums[i]))\n",
    "        for j in range(len(nums)-1,-1,-1):\n",
    "            if nums[j] > minlist[j]:\n",
    "                while stack and stack[-1] <= minlist[j]:\n",
    "                    stack.pop()\n",
    "                if stack and stack[-1] < nums[j]:\n",
    "                    return True\n",
    "                stack.append(nums[j])\n",
    "        return False\n",
    "                "
   ]
  },
  {
   "cell_type": "code",
   "execution_count": 5,
   "metadata": {},
   "outputs": [
    {
     "data": {
      "text/plain": [
       "True"
      ]
     },
     "execution_count": 5,
     "metadata": {},
     "output_type": "execute_result"
    }
   ],
   "source": [
    "instance = Solution()\n",
    "nums = [-1, 3, 2, 0]\n",
    "instance.find132pattern(nums)"
   ]
  },
  {
   "cell_type": "code",
   "execution_count": null,
   "metadata": {},
   "outputs": [],
   "source": []
  }
 ],
 "metadata": {
  "kernelspec": {
   "display_name": "Python 3",
   "language": "python",
   "name": "python3"
  },
  "language_info": {
   "codemirror_mode": {
    "name": "ipython",
    "version": 3
   },
   "file_extension": ".py",
   "mimetype": "text/x-python",
   "name": "python",
   "nbconvert_exporter": "python",
   "pygments_lexer": "ipython3",
   "version": "3.7.3"
  }
 },
 "nbformat": 4,
 "nbformat_minor": 2
}
