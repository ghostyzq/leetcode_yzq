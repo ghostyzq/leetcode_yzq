{
 "cells": [
  {
   "cell_type": "code",
   "execution_count": 22,
   "metadata": {},
   "outputs": [],
   "source": [
    "class Solution:\n",
    "    def calculateMinimumHP(self, dungeon) -> int:\n",
    "        tmp = [0]*len(dungeon[0])\n",
    "        dp = dungeon\n",
    "        for i in range(len(dp)):\n",
    "            for j in range(len(dp[0])):\n",
    "                dp[i][j] = dp[i][j]*-1\n",
    "        \"\"\"\n",
    "        for i in range(len(dungeon)):\n",
    "            dp.append(tmp)\n",
    "        \"\"\"\n",
    "        for i in range(1,len(dp)):\n",
    "            for j in range(1,len(dp[0])):\n",
    "                tmp = dungeon[i][j]\n",
    "                up = 0\n",
    "                down = 0\n",
    "                if tmp >= 0:\n",
    "                    dp[i][j] = max(dp[i-1][j],dp[i][j-1])\n",
    "                    continue\n",
    "                if tmp < 0:\n",
    "                    if dp[i-1][j] > 0:\n",
    "                        up = tmp + dp[i-1][j]\n",
    "                    if dp[i][j-1] > 0:\n",
    "                        down = tmp + dp[i][j-1]\n",
    "                    dp[i][j] = max(down,up)\n",
    "                    continue\n",
    "        return dp\n",
    "                "
   ]
  },
  {
   "cell_type": "code",
   "execution_count": 23,
   "metadata": {},
   "outputs": [
    {
     "data": {
      "text/plain": [
       "[[2, 3, -3], [5, 5, 4], [-10, 0, 4]]"
      ]
     },
     "execution_count": 23,
     "metadata": {},
     "output_type": "execute_result"
    }
   ],
   "source": [
    "instance = Solution()\n",
    "dungeon = [[-2,-3,3],[-5,-10,1],[10,30,-5]]\n",
    "instance.calculateMinimumHP(dungeon)"
   ]
  },
  {
   "cell_type": "code",
   "execution_count": null,
   "metadata": {},
   "outputs": [],
   "source": []
  }
 ],
 "metadata": {
  "kernelspec": {
   "display_name": "Python 3",
   "language": "python",
   "name": "python3"
  },
  "language_info": {
   "codemirror_mode": {
    "name": "ipython",
    "version": 3
   },
   "file_extension": ".py",
   "mimetype": "text/x-python",
   "name": "python",
   "nbconvert_exporter": "python",
   "pygments_lexer": "ipython3",
   "version": "3.7.3"
  }
 },
 "nbformat": 4,
 "nbformat_minor": 2
}
