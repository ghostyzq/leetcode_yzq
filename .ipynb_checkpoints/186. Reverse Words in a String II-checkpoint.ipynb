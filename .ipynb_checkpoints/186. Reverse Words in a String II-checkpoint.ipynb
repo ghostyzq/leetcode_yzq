{
 "cells": [
  {
   "cell_type": "code",
   "execution_count": 3,
   "metadata": {},
   "outputs": [],
   "source": [
    "class Solution:\n",
    "    def reverse(self, l: list, left: int, right: int) -> None:\n",
    "        while left < right:\n",
    "            l[left], l[right] = l[right], l[left]\n",
    "            left, right = left + 1, right - 1\n",
    "            \n",
    "    def reverse_each_word(self, l: list) -> None:\n",
    "        n = len(l)\n",
    "        start = end = 0\n",
    "        \n",
    "        while start < n:\n",
    "            while end < n and l[end] != ' ':\n",
    "                end += 1\n",
    "            # reverse the word\n",
    "            self.reverse(l, start, end - 1)\n",
    "            # move to the next word\n",
    "            start = end + 1\n",
    "            end += 1\n",
    "            \n",
    "    def reverseWords(self, s) -> None:\n",
    "        \"\"\"\n",
    "        Do not return anything, modify s in-place instead.\n",
    "        \"\"\"\n",
    "        # reverse the whole string\n",
    "        self.reverse(s, 0, len(s) - 1)\n",
    "        print(s)\n",
    "        self.reverse_each_word(s)\n",
    "        print(s)"
   ]
  },
  {
   "cell_type": "code",
   "execution_count": 4,
   "metadata": {},
   "outputs": [
    {
     "name": "stdout",
     "output_type": "stream",
     "text": [
      "['e', 'u', 'l', 'b', ' ', 's', 'i', ' ', 'y', 'k', 's', ' ', 'e', 'h', 't']\n",
      "['b', 'l', 'u', 'e', ' ', 'i', 's', ' ', 's', 'k', 'y', ' ', 't', 'h', 'e']\n"
     ]
    }
   ],
   "source": [
    "s = [\"t\",\"h\",\"e\",\" \",\"s\",\"k\",\"y\",\" \",\"i\",\"s\",\" \",\"b\",\"l\",\"u\",\"e\"]\n",
    "instance = Solution()\n",
    "instance.reverseWords(s)"
   ]
  },
  {
   "cell_type": "code",
   "execution_count": null,
   "metadata": {},
   "outputs": [],
   "source": []
  }
 ],
 "metadata": {
  "kernelspec": {
   "display_name": "Python 3",
   "language": "python",
   "name": "python3"
  },
  "language_info": {
   "codemirror_mode": {
    "name": "ipython",
    "version": 3
   },
   "file_extension": ".py",
   "mimetype": "text/x-python",
   "name": "python",
   "nbconvert_exporter": "python",
   "pygments_lexer": "ipython3",
   "version": "3.7.3"
  }
 },
 "nbformat": 4,
 "nbformat_minor": 2
}
