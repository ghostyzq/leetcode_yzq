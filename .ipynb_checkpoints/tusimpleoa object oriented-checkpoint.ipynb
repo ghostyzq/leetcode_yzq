{
 "cells": [
  {
   "cell_type": "code",
   "execution_count": 10,
   "metadata": {},
   "outputs": [],
   "source": [
    "class Solution(object):\n",
    "    def move(self,x,y,step,n):\n",
    "        #search for possible position on the chess board\n",
    "            if (x-1 >= 0) and (y - 2) >= 0 and (x-1,y-2) not in self.visited:\n",
    "                self.queue.append((x-1,y-2,step+1))\n",
    "                self.visited.append((x-1,y-2))\n",
    "            if (x-1 >= 0) and (y + 2) < n and (x-1,y+2) not in self.visited:\n",
    "                self.queue.append((x-1,y+2,step+1))\n",
    "                self.visited.append((x-1,y+2))\n",
    "            if (x+1 < n) and (y - 2) >= 0 and (x+1,y-2) not in self.visited:\n",
    "                self.queue.append((x+1,y-2,step+1))\n",
    "                self.visited.append((x+1,y-2))\n",
    "            if (x+1 < n) and (y + 2) < n and (x+1,y+2) not in self.visited:\n",
    "                self.queue.append((x+1,y+2,step+1))\n",
    "                self.visited.append((x+1,y+2))\n",
    "            if (x-2 >= 0) and (y - 1) >= 0 and (x-2,y-1) not in self.visited:\n",
    "                self.queue.append((x-2,y-1,step+1))\n",
    "                self.visited.append((x-2,y-1))\n",
    "            if (x-2 >= 0) and (y + 1) < n and (x-2,y+1) not in self.visited:\n",
    "                self.queue.append((x-2,y+1,step+1))\n",
    "                self.visited.append((x-2,y+1))\n",
    "            if (x+2 < n) and (y - 1) > 0 and (x+2,y-1) not in self.visited:\n",
    "                self.queue.append((x+2,y-1,step+1))\n",
    "                self.visited.append((x+2,y-1))\n",
    "            if (x+2 < n) and (y + 1) < n and (x+2,y+1) not in self.visited:\n",
    "                self.queue.append((x+2,y+1,step+1))\n",
    "                self.visited.append((x+2,y+1))\n",
    "\n",
    "    def minMoves(self,n, startX, startY, endX, endY):\n",
    "            # Write your code here\n",
    "            # doing a bfs search \n",
    "            step = 0\n",
    "            start_point = (startX,startY,step)\n",
    "            self.visited = []\n",
    "            self.queue= []\n",
    "            self.queue.append(start_point)\n",
    "            while self.queue:\n",
    "                current_x,current_y,current_step = self.queue.pop(0)\n",
    "                if current_x == endX and current_y == endY:\n",
    "                    return current_step\n",
    "                self.move(current_x,current_y,current_step,n)\n",
    "            return -1\n"
   ]
  },
  {
   "cell_type": "code",
   "execution_count": 11,
   "metadata": {},
   "outputs": [
    {
     "data": {
      "text/plain": [
       "1"
      ]
     },
     "execution_count": 11,
     "metadata": {},
     "output_type": "execute_result"
    }
   ],
   "source": [
    "instance = Solution()\n",
    "n = 1000\n",
    "startx = 0 #start x cord\n",
    "starty = 0 #start y cord\n",
    "endx = 1 # end x cord\n",
    "endy = 2 # end y cord\n",
    "instance.minMoves(n,startx,starty,endx,endy)"
   ]
  },
  {
   "cell_type": "code",
   "execution_count": 1,
   "metadata": {},
   "outputs": [],
   "source": [
    "def minMoves(n, startX, startY, endX, endY):\n",
    "        # Write your code here\n",
    "        def move(x,y,step,queue,visited,n):\n",
    "            if (x-1 >= 0) and (y - 2) >= 0 and (x-1,y-2) not in visited:\n",
    "                queue.append((x-1,y-2,step+1))\n",
    "                visited.append((x-1,y-2))\n",
    "            if (x-1 >= 0) and (y + 2) < n and (x-1,y+2) not in visited:\n",
    "                queue.append((x-1,y+2,step+1))\n",
    "                visited.append((x-1,y+2))\n",
    "            if (x+1 < n) and (y - 2) >= 0 and (x+1,y-2) not in visited:\n",
    "                queue.append((x+1,y-2,step+1))\n",
    "                visited.append((x+1,y-2))\n",
    "            if (x+1 < n) and (y + 2) < n and (x+1,y+2) not in visited:\n",
    "                queue.append((x+1,y+2,step+1))\n",
    "                visited.append((x+1,y+2))\n",
    "            if (x-2 >= 0) and (y - 1) >= 0 and (x-2,y-1) not in visited:\n",
    "                queue.append((x-2,y-1,step+1))\n",
    "                visited.append((x-2,y-1))\n",
    "            if (x-2 >= 0) and (y + 1) < n and (x-2,y+1) not in visited:\n",
    "                queue.append((x-2,y+1,step+1))\n",
    "                visited.append((x-2,y+1))\n",
    "            if (x+2 < n) and (y - 1) > 0 and (x+2,y-1) not in visited:\n",
    "                queue.append((x+2,y-1,step+1))\n",
    "                visited.append((x+2,y-1))\n",
    "            if (x+2 < n) and (y + 1) < n and (x+2,y+1) not in visited:\n",
    "                queue.append((x+2,y+1,step+1))\n",
    "                visited.append((x+2,y+1))\n",
    "            return queue,visited\n",
    "\n",
    "        step = 0\n",
    "        start_point = (startX,startY,step)\n",
    "        visited = []\n",
    "        queue= []\n",
    "        queue.append(start_point)\n",
    "        while queue:\n",
    "            current_x,current_y,current_step = queue.pop(0)\n",
    "            if current_x == endX and current_y == endY:\n",
    "                return current_step\n",
    "            queue,visited = move(current_x,current_y,current_step,queue,visited,n)\n",
    "        return -1"
   ]
  },
  {
   "cell_type": "code",
   "execution_count": 3,
   "metadata": {},
   "outputs": [
    {
     "data": {
      "text/plain": [
       "1"
      ]
     },
     "execution_count": 3,
     "metadata": {},
     "output_type": "execute_result"
    }
   ],
   "source": [
    "minMoves(1000,0,0,1,2)"
   ]
  },
  {
   "cell_type": "code",
   "execution_count": null,
   "metadata": {},
   "outputs": [],
   "source": []
  }
 ],
 "metadata": {
  "kernelspec": {
   "display_name": "Python 3",
   "language": "python",
   "name": "python3"
  },
  "language_info": {
   "codemirror_mode": {
    "name": "ipython",
    "version": 3
   },
   "file_extension": ".py",
   "mimetype": "text/x-python",
   "name": "python",
   "nbconvert_exporter": "python",
   "pygments_lexer": "ipython3",
   "version": "3.7.3"
  }
 },
 "nbformat": 4,
 "nbformat_minor": 2
}
