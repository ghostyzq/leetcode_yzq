{
 "cells": [
  {
   "cell_type": "code",
   "execution_count": 48,
   "metadata": {},
   "outputs": [],
   "source": [
    "class Solution:\n",
    "    def minSubArrayLen(self, s: int, nums) -> int:\n",
    "        if not nums:\n",
    "            return 0\n",
    "        if s in nums or max(nums) > s:\n",
    "            return 1\n",
    "        if len(nums) <= 2:\n",
    "            if sum(nums) >= s:\n",
    "                return len(nums)\n",
    "            else:\n",
    "                return 0\n",
    "        left,right = 0,1\n",
    "        result = []\n",
    "        current_sum = nums[0] + nums[1]\n",
    "        while right < len(nums) and left < right:\n",
    "            if current_sum >= s:\n",
    "                result.append(right-left+1)\n",
    "                current_sum -= nums[left]\n",
    "                left += 1\n",
    "            else:\n",
    "                if current_sum<s:\n",
    "                    try:\n",
    "                        current_sum += nums[right+1]\n",
    "                        right = right + 1\n",
    "                    except:\n",
    "                        break\n",
    "        if not result:\n",
    "            return 0\n",
    "        return min(result)"
   ]
  },
  {
   "cell_type": "code",
   "execution_count": 49,
   "metadata": {},
   "outputs": [],
   "source": [
    "s = 10\n",
    "nums = [1,2,3,4,5,5,2]"
   ]
  },
  {
   "cell_type": "code",
   "execution_count": 50,
   "metadata": {},
   "outputs": [
    {
     "data": {
      "text/plain": [
       "2"
      ]
     },
     "execution_count": 50,
     "metadata": {},
     "output_type": "execute_result"
    }
   ],
   "source": [
    "instance = Solution()\n",
    "instance.minSubArrayLen(s,nums)"
   ]
  },
  {
   "cell_type": "code",
   "execution_count": null,
   "metadata": {},
   "outputs": [],
   "source": []
  }
 ],
 "metadata": {
  "kernelspec": {
   "display_name": "Python 3",
   "language": "python",
   "name": "python3"
  },
  "language_info": {
   "codemirror_mode": {
    "name": "ipython",
    "version": 3
   },
   "file_extension": ".py",
   "mimetype": "text/x-python",
   "name": "python",
   "nbconvert_exporter": "python",
   "pygments_lexer": "ipython3",
   "version": "3.7.3"
  }
 },
 "nbformat": 4,
 "nbformat_minor": 2
}
