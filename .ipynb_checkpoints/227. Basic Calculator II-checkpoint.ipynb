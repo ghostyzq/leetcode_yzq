{
 "cells": [
  {
   "cell_type": "code",
   "execution_count": 1,
   "metadata": {},
   "outputs": [],
   "source": [
    "class Solution:\n",
    "    def calculate(self, s: str) -> int:\n",
    "        stack = []\n",
    "        sign,tmp = '+',0\n",
    "        s = list(s)\n",
    "        for i in range(len(s)):\n",
    "            #print(stack)\n",
    "            if s[i].isdigit():\n",
    "                tmp = tmp*10+int(s[i])\n",
    "            if s[i] in '+-*/' or i == len(s)-1:\n",
    "                #print(i)\n",
    "                if sign == '+':\n",
    "                    stack.append(tmp)\n",
    "                if sign == '-':\n",
    "                    stack.append(-tmp)\n",
    "                if sign == '*':\n",
    "                    tmp = tmp*stack.pop()\n",
    "                    #print(tmp)\n",
    "                    stack.append(tmp)\n",
    "                if sign == '/':\n",
    "                    vertex = stack.pop()\n",
    "                    if vertex >= 0:\n",
    "                        stack.append(vertex//tmp)\n",
    "                    if vertex < 0:\n",
    "                        tmpsb = (-vertex)//tmp\n",
    "                        stack.append(-tmpsb)\n",
    "                tmp = 0\n",
    "                sign = s[i]\n",
    "        return sum(stack)\n",
    "        "
   ]
  },
  {
   "cell_type": "code",
   "execution_count": 2,
   "metadata": {},
   "outputs": [
    {
     "data": {
      "text/plain": [
       "7"
      ]
     },
     "execution_count": 2,
     "metadata": {},
     "output_type": "execute_result"
    }
   ],
   "source": [
    "s = \"3+2*2\"\n",
    "instance = Solution()\n",
    "instance.calculate(s)"
   ]
  },
  {
   "cell_type": "code",
   "execution_count": null,
   "metadata": {},
   "outputs": [],
   "source": []
  }
 ],
 "metadata": {
  "kernelspec": {
   "display_name": "Python 3",
   "language": "python",
   "name": "python3"
  },
  "language_info": {
   "codemirror_mode": {
    "name": "ipython",
    "version": 3
   },
   "file_extension": ".py",
   "mimetype": "text/x-python",
   "name": "python",
   "nbconvert_exporter": "python",
   "pygments_lexer": "ipython3",
   "version": "3.7.3"
  }
 },
 "nbformat": 4,
 "nbformat_minor": 2
}
