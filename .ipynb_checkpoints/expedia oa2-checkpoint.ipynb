{
 "cells": [
  {
   "cell_type": "code",
   "execution_count": 28,
   "metadata": {},
   "outputs": [],
   "source": [
    "def arrange(sentence):\n",
    "    # Write your code here\n",
    "    if not sentence:\n",
    "        return 'null input'\n",
    "    if type(sentence) is not str:\n",
    "        return 'error input'\n",
    "    tmp_sentence = sentence\n",
    "    sentence = sentence.split(\" \")\n",
    "    arr_word = []\n",
    "    tmp_index = 0\n",
    "    for x in sentence:\n",
    "        tmp = x.replace('.','')\n",
    "        tmp = tmp.lower()\n",
    "        arr_word.append([len(tmp),tmp,tmp_index])\n",
    "        tmp_index += 1\n",
    "    arr_word = sorted(arr_word,key = lambda x:(x[0],x[2]))\n",
    "    result = str()\n",
    "    tmp_str = arr_word[0][1]\n",
    "    tmp_str = tmp_str[0].upper() + tmp_str[1:]\n",
    "    result = result + tmp_str\n",
    "    arr_word.pop(0)\n",
    "    for word in arr_word:\n",
    "        result = result + ' '\n",
    "        result = result + word[1]\n",
    "    result = result + '.'\n",
    "    return result\n"
   ]
  },
  {
   "cell_type": "code",
   "execution_count": 29,
   "metadata": {},
   "outputs": [
    {
     "data": {
      "text/plain": [
       "'In the are lines order printed reverse.'"
      ]
     },
     "execution_count": 29,
     "metadata": {},
     "output_type": "execute_result"
    }
   ],
   "source": [
    "sentence = 'The lines are printed in reverse order.'\n",
    "arrange(sentence)"
   ]
  },
  {
   "cell_type": "code",
   "execution_count": null,
   "metadata": {},
   "outputs": [],
   "source": []
  }
 ],
 "metadata": {
  "kernelspec": {
   "display_name": "Python 3",
   "language": "python",
   "name": "python3"
  },
  "language_info": {
   "codemirror_mode": {
    "name": "ipython",
    "version": 3
   },
   "file_extension": ".py",
   "mimetype": "text/x-python",
   "name": "python",
   "nbconvert_exporter": "python",
   "pygments_lexer": "ipython3",
   "version": "3.7.3"
  }
 },
 "nbformat": 4,
 "nbformat_minor": 2
}
