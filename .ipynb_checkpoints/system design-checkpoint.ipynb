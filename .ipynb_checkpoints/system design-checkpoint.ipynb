{
 "cells": [
  {
   "cell_type": "code",
   "execution_count": 13,
   "metadata": {},
   "outputs": [],
   "source": [
    "class Node(object):\n",
    "    def __init__(self,data=None,is_head=False):\n",
    "        self.val = data\n",
    "        self.next = None\n",
    "        self.pre = None\n",
    "        if is_head:\n",
    "            self.index = 0\n",
    "        else: \n",
    "            self.index = None\n",
    "class my_list():\n",
    "    def __init__(self,head):\n",
    "        self.head = head\n",
    "        self.length = head.index + 1\n",
    "        #self.head.next = self.tail\n",
    "    def add(self,node):\n",
    "        tail = node\n",
    "        tail.index = self.length \n",
    "        tail.pre =  self.head\n",
    "        self.head.next = tail\n",
    "    def remove(self,index):\n",
    "        target = self.head\n",
    "        while index:\n",
    "            target = target.next\n",
    "            index -= 1\n",
    "        target.val = None\n",
    "        "
   ]
  },
  {
   "cell_type": "code",
   "execution_count": 14,
   "metadata": {},
   "outputs": [],
   "source": [
    "head = Node(data = 2,is_head=True)\n",
    "instance = my_list(head)\n",
    "tail = Node(data = 3,is_head = False)\n",
    "instance.add(tail)"
   ]
  },
  {
   "cell_type": "code",
   "execution_count": 15,
   "metadata": {},
   "outputs": [
    {
     "data": {
      "text/plain": [
       "1"
      ]
     },
     "execution_count": 15,
     "metadata": {},
     "output_type": "execute_result"
    }
   ],
   "source": [
    "instance.head.next.index"
   ]
  },
  {
   "cell_type": "code",
   "execution_count": 16,
   "metadata": {},
   "outputs": [],
   "source": [
    "instance.remove(1)"
   ]
  },
  {
   "cell_type": "code",
   "execution_count": 20,
   "metadata": {},
   "outputs": [],
   "source": [
    "instance.head.next.val"
   ]
  },
  {
   "cell_type": "code",
   "execution_count": null,
   "metadata": {},
   "outputs": [],
   "source": []
  }
 ],
 "metadata": {
  "kernelspec": {
   "display_name": "Python 3",
   "language": "python",
   "name": "python3"
  },
  "language_info": {
   "codemirror_mode": {
    "name": "ipython",
    "version": 3
   },
   "file_extension": ".py",
   "mimetype": "text/x-python",
   "name": "python",
   "nbconvert_exporter": "python",
   "pygments_lexer": "ipython3",
   "version": "3.7.3"
  }
 },
 "nbformat": 4,
 "nbformat_minor": 2
}
