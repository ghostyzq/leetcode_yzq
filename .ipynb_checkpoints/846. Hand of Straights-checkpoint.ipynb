{
 "cells": [
  {
   "cell_type": "code",
   "execution_count": 7,
   "metadata": {},
   "outputs": [],
   "source": [
    "class Solution:\n",
    "    def isNStraightHand(self, hand, w: int) -> bool:\n",
    "        if len(hand) % w != 0:\n",
    "            return False\n",
    "        hand.sort(reverse = False)\n",
    "        lib = dict()\n",
    "        for x in hand:\n",
    "            if x not in lib:\n",
    "                lib[x] = 1\n",
    "            else:\n",
    "                lib[x] += 1\n",
    "        print(lib)\n",
    "        for item in lib.keys():\n",
    "            while lib[item] > 0:\n",
    "                print(item)\n",
    "                for i in range(w):\n",
    "                    if item+i not in lib:\n",
    "                        return False\n",
    "                    if lib[item+i] > 0:\n",
    "                        lib[item+i] -= 1\n",
    "                    else:\n",
    "                        return False\n",
    "        return True\n",
    "            \n",
    "        "
   ]
  },
  {
   "cell_type": "code",
   "execution_count": 8,
   "metadata": {},
   "outputs": [],
   "source": [
    "instance = Solution()\n",
    "hand = [1,5]\n",
    "w = 1"
   ]
  },
  {
   "cell_type": "code",
   "execution_count": 9,
   "metadata": {},
   "outputs": [
    {
     "name": "stdout",
     "output_type": "stream",
     "text": [
      "{1: 1, 5: 1}\n",
      "1\n",
      "5\n"
     ]
    },
    {
     "data": {
      "text/plain": [
       "True"
      ]
     },
     "execution_count": 9,
     "metadata": {},
     "output_type": "execute_result"
    }
   ],
   "source": [
    "instance.isNStraightHand(hand,w)"
   ]
  },
  {
   "cell_type": "code",
   "execution_count": null,
   "metadata": {},
   "outputs": [],
   "source": []
  }
 ],
 "metadata": {
  "kernelspec": {
   "display_name": "Python 3",
   "language": "python",
   "name": "python3"
  },
  "language_info": {
   "codemirror_mode": {
    "name": "ipython",
    "version": 3
   },
   "file_extension": ".py",
   "mimetype": "text/x-python",
   "name": "python",
   "nbconvert_exporter": "python",
   "pygments_lexer": "ipython3",
   "version": "3.7.3"
  }
 },
 "nbformat": 4,
 "nbformat_minor": 2
}
