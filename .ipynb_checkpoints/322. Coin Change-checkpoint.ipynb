{
 "cells": [
  {
   "cell_type": "code",
   "execution_count": 12,
   "metadata": {},
   "outputs": [],
   "source": [
    "from collections import deque\n",
    "\n",
    "class Solution:\n",
    "    def coinChange(self, coins, amount) -> int:\n",
    "        if amount < 1:\n",
    "            return 0\n",
    "        stack = deque([])\n",
    "        stack.append((amount,0))\n",
    "        #coins.sort(reverse=True)\n",
    "        print(coins)\n",
    "        while stack:\n",
    "            current_amount,current_coin = stack.pop()\n",
    "            if current_amount == 0:\n",
    "                return current_coin\n",
    "            if current_amount > 0:\n",
    "                for x in coins:\n",
    "                    if current_amount-x >= 0:\n",
    "                        stack.append((current_amount-x,current_coin+1))\n",
    "        return -1\n",
    "        "
   ]
  },
  {
   "cell_type": "code",
   "execution_count": 14,
   "metadata": {},
   "outputs": [],
   "source": [
    "from collections import deque\n",
    "\n",
    "class Solution:\n",
    "    def coinChange(self, coins, amount) -> int:\n",
    "        if amount < 1:\n",
    "            return 0\n",
    "        stack = deque([])\n",
    "        stack.append((amount,0))\n",
    "        coins.sort()\n",
    "        #print(coins)\n",
    "        while stack:\n",
    "            current_amount,current_coin = stack.pop()\n",
    "            if current_amount == 0:\n",
    "                return current_coin\n",
    "            if current_amount > 0:\n",
    "                for x in coins:\n",
    "                    if current_amount-x >= 0:\n",
    "                        stack.append((current_amount-x,current_coin+1))\n",
    "        return -1"
   ]
  },
  {
   "cell_type": "code",
   "execution_count": 17,
   "metadata": {},
   "outputs": [],
   "source": [
    "class Solution:\n",
    "    def coinChange(self, coins, amount) -> int:\n",
    "        if amount < 1:\n",
    "            return 0\n",
    "        dp = [amount + 1] * (amount + 1)\n",
    "        dp[0] = 0\n",
    "        for amt in range(1, amount + 1):\n",
    "            for coin in coins:\n",
    "                if amt - coin >= 0:\n",
    "                    dp[amt] = min(dp[amt], 1 + dp[amt - coin])        \n",
    "        if dp[amount] > amount:\n",
    "            return -1\n",
    "        return dp[amount]"
   ]
  },
  {
   "cell_type": "code",
   "execution_count": 15,
   "metadata": {},
   "outputs": [
    {
     "data": {
      "text/plain": [
       "3"
      ]
     },
     "execution_count": 15,
     "metadata": {},
     "output_type": "execute_result"
    }
   ],
   "source": [
    "instance = Solution()\n",
    "coins = [1,2,3,5,10]\n",
    "amount = 23\n",
    "instance.coinChange(coins, amount)"
   ]
  },
  {
   "cell_type": "code",
   "execution_count": null,
   "metadata": {},
   "outputs": [],
   "source": []
  }
 ],
 "metadata": {
  "kernelspec": {
   "display_name": "Python 3",
   "language": "python",
   "name": "python3"
  },
  "language_info": {
   "codemirror_mode": {
    "name": "ipython",
    "version": 3
   },
   "file_extension": ".py",
   "mimetype": "text/x-python",
   "name": "python",
   "nbconvert_exporter": "python",
   "pygments_lexer": "ipython3",
   "version": "3.7.3"
  }
 },
 "nbformat": 4,
 "nbformat_minor": 2
}
