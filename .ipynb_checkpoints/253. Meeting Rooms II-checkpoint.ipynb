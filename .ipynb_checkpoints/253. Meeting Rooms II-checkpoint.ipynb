{
 "cells": [
  {
   "cell_type": "code",
   "execution_count": 2,
   "metadata": {},
   "outputs": [],
   "source": [
    "import heapq\n",
    "\n",
    "class Solution:\n",
    "    def minMeetingRooms(self, intervals) -> int:\n",
    "        if not intervals or not intervals[0]:\n",
    "            return 0\n",
    "        result = []\n",
    "        intervals.sort(key = lambda x : (x[0],x[1]-x[0]))\n",
    "        heapq.heappush(result,intervals[0][1])\n",
    "        for i in range(1,len(intervals)):\n",
    "            if intervals[i][0] >=  result[0]:\n",
    "                heapq.heappop(result)\n",
    "            heapq.heappush(result,intervals[i][1])\n",
    "        return len(result)"
   ]
  },
  {
   "cell_type": "code",
   "execution_count": 4,
   "metadata": {},
   "outputs": [
    {
     "data": {
      "text/plain": [
       "2"
      ]
     },
     "execution_count": 4,
     "metadata": {},
     "output_type": "execute_result"
    }
   ],
   "source": [
    "intervals = [[0, 30],[5, 10],[15, 20]]\n",
    "instance = Solution()\n",
    "instance.minMeetingRooms(intervals)"
   ]
  },
  {
   "cell_type": "code",
   "execution_count": null,
   "metadata": {},
   "outputs": [],
   "source": []
  }
 ],
 "metadata": {
  "kernelspec": {
   "display_name": "Python 3",
   "language": "python",
   "name": "python3"
  },
  "language_info": {
   "codemirror_mode": {
    "name": "ipython",
    "version": 3
   },
   "file_extension": ".py",
   "mimetype": "text/x-python",
   "name": "python",
   "nbconvert_exporter": "python",
   "pygments_lexer": "ipython3",
   "version": "3.7.3"
  }
 },
 "nbformat": 4,
 "nbformat_minor": 2
}
