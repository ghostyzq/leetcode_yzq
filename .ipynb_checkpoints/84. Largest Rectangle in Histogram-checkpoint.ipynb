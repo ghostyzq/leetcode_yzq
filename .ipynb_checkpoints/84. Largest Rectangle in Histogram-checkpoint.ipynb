{
 "cells": [
  {
   "cell_type": "code",
   "execution_count": 1,
   "metadata": {},
   "outputs": [],
   "source": [
    "#brute force\n",
    "class Solution:\n",
    "    def largestRectangleArea(self, heights) -> int:\n",
    "        maxarea = 0\n",
    "        if len(heights) == 1:\n",
    "            return heights[0]\n",
    "        if len(heights) == 2:\n",
    "            return max(max(heights),min(heights)*2)\n",
    "        for i in range(len(heights)):\n",
    "            for j in range(i,len(heights)):\n",
    "                height = min(heights[i:j+1])\n",
    "                maxarea = max(maxarea,height*(j-i+1))\n",
    "        return maxarea\n",
    "        "
   ]
  },
  {
   "cell_type": "code",
   "execution_count": 2,
   "metadata": {},
   "outputs": [
    {
     "data": {
      "text/plain": [
       "10"
      ]
     },
     "execution_count": 2,
     "metadata": {},
     "output_type": "execute_result"
    }
   ],
   "source": [
    "heights = [2,1,5,6,2,3]\n",
    "instance = Solution()\n",
    "instance.largestRectangleArea(heights)"
   ]
  },
  {
   "cell_type": "code",
   "execution_count": 4,
   "metadata": {},
   "outputs": [],
   "source": [
    "class Solution:\n",
    "    def largestRectangleArea(self, heights) -> int:\n",
    "        stack = []\n",
    "        stack.append(-1)\n",
    "        maxarea = 0\n",
    "        for i in range(len(heights)):\n",
    "            while stack[-1] != -1 and heights[stack[-1]] > heights[i]:\n",
    "                maxarea = max(maxarea,heights[stack.pop()]*(i-stack[-1]-1))\n",
    "            stack.append(i)\n",
    "        while stack[-1] != -1:\n",
    "            maxarea = max(maxarea,heights[stack.pop()]*(len(heights)-stack[-1]-1))\n",
    "        return maxarea"
   ]
  },
  {
   "cell_type": "code",
   "execution_count": 5,
   "metadata": {},
   "outputs": [
    {
     "data": {
      "text/plain": [
       "10"
      ]
     },
     "execution_count": 5,
     "metadata": {},
     "output_type": "execute_result"
    }
   ],
   "source": [
    "heights = [2,1,5,6,2,3]\n",
    "instance = Solution()\n",
    "instance.largestRectangleArea(heights)"
   ]
  },
  {
   "cell_type": "code",
   "execution_count": null,
   "metadata": {},
   "outputs": [],
   "source": []
  }
 ],
 "metadata": {
  "kernelspec": {
   "display_name": "Python 3",
   "language": "python",
   "name": "python3"
  },
  "language_info": {
   "codemirror_mode": {
    "name": "ipython",
    "version": 3
   },
   "file_extension": ".py",
   "mimetype": "text/x-python",
   "name": "python",
   "nbconvert_exporter": "python",
   "pygments_lexer": "ipython3",
   "version": "3.7.3"
  }
 },
 "nbformat": 4,
 "nbformat_minor": 2
}
