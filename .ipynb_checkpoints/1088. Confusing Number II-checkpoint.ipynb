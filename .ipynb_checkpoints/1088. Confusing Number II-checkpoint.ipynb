{
 "cells": [
  {
   "cell_type": "code",
   "execution_count": 1,
   "metadata": {},
   "outputs": [],
   "source": [
    "class Solution:\n",
    "    def backtracking(self,number):\n",
    "        # number should be less than self.N\n",
    "        if number != '':\n",
    "            numbertmp = int(number)\n",
    "            if numbertmp > self.N:\n",
    "                return\n",
    "            reverse = ''\n",
    "            for i in range(len(number)-1,-1,-1):\n",
    "                reverse += self.table[number[i]]\n",
    "            if numbertmp != int(reverse):\n",
    "                #print(int(reverse))\n",
    "                self.count += 1\n",
    "                \n",
    "        for x in self.nums:\n",
    "            candidate = number + x\n",
    "            if int(candidate) == 0:\n",
    "                continue\n",
    "            elif int(candidate) > self.N:\n",
    "                return\n",
    "            else:\n",
    "                self.backtracking(candidate)\n",
    "                candidate = number\n",
    "\n",
    "    def confusingNumberII(self, N: int) -> int:\n",
    "        self.N = N\n",
    "        self.table = {\n",
    "            '1':'1',\n",
    "            '0':'0',\n",
    "            '8':'8',\n",
    "            '6':'9',\n",
    "            '9':'6'\n",
    "        }\n",
    "        self.count = 0\n",
    "        self.nums = ['0','1','6','8','9']\n",
    "        self.backtracking(\"\")\n",
    "        return self.count\n",
    "        "
   ]
  },
  {
   "cell_type": "code",
   "execution_count": 2,
   "metadata": {},
   "outputs": [
    {
     "data": {
      "text/plain": [
       "6"
      ]
     },
     "execution_count": 2,
     "metadata": {},
     "output_type": "execute_result"
    }
   ],
   "source": [
    "N = 20\n",
    "instance = Solution()\n",
    "instance.confusingNumberII(N)"
   ]
  },
  {
   "cell_type": "code",
   "execution_count": null,
   "metadata": {},
   "outputs": [],
   "source": []
  }
 ],
 "metadata": {
  "kernelspec": {
   "display_name": "Python 3",
   "language": "python",
   "name": "python3"
  },
  "language_info": {
   "codemirror_mode": {
    "name": "ipython",
    "version": 3
   },
   "file_extension": ".py",
   "mimetype": "text/x-python",
   "name": "python",
   "nbconvert_exporter": "python",
   "pygments_lexer": "ipython3",
   "version": "3.7.3"
  }
 },
 "nbformat": 4,
 "nbformat_minor": 2
}
