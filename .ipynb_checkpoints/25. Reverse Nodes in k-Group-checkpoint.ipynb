{
 "cells": [
  {
   "cell_type": "code",
   "execution_count": 1,
   "metadata": {},
   "outputs": [],
   "source": [
    "class Solution:\n",
    "    def reverseKGroup(self, head, k: int):\n",
    "        if head == None:\n",
    "            return head\n",
    "        dummy = ListNode(0)\n",
    "        dummy.next = head\n",
    "        current,nextone = dummy,dummy.next\n",
    "        while nextone:\n",
    "            stack = []\n",
    "            for i in range(k):\n",
    "                if nextone:\n",
    "                    stack.append(nextone)\n",
    "                    nextone = nextone.next\n",
    "                else:\n",
    "                    break\n",
    "            if len(stack) < k:\n",
    "                return dummy.next\n",
    "            tmplen = k\n",
    "            while tmplen:\n",
    "                tmplen -= 1\n",
    "                current.next = stack.pop() \n",
    "                current = current.next\n",
    "            current.next = nextone\n",
    "        return dummy.next"
   ]
  },
  {
   "cell_type": "code",
   "execution_count": null,
   "metadata": {},
   "outputs": [],
   "source": []
  }
 ],
 "metadata": {
  "kernelspec": {
   "display_name": "Python 3",
   "language": "python",
   "name": "python3"
  },
  "language_info": {
   "codemirror_mode": {
    "name": "ipython",
    "version": 3
   },
   "file_extension": ".py",
   "mimetype": "text/x-python",
   "name": "python",
   "nbconvert_exporter": "python",
   "pygments_lexer": "ipython3",
   "version": "3.7.3"
  }
 },
 "nbformat": 4,
 "nbformat_minor": 2
}
