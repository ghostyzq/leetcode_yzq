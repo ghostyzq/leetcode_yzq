{
 "cells": [
  {
   "cell_type": "code",
   "execution_count": 2,
   "metadata": {},
   "outputs": [],
   "source": [
    "class Solution:\n",
    "    def computeLPSArray(self,pat, M, lps): \n",
    "        len = 0 # length of the previous longest prefix suffix \n",
    "\n",
    "        lps[0] # lps[0] is always 0 \n",
    "        i = 1\n",
    "\n",
    "        # the loop calculates lps[i] for i = 1 to M-1 \n",
    "        while i < M: \n",
    "            if pat[i]== pat[len]: \n",
    "                len += 1\n",
    "                lps[i] = len\n",
    "                i += 1\n",
    "            else: \n",
    "                # This is tricky. Consider the example. \n",
    "                # AAACAAAA and i = 7. The idea is similar  \n",
    "                # to search step. \n",
    "                if len != 0: \n",
    "                    len = lps[len-1] \n",
    "\n",
    "                    # Also, note that we do not increment i here \n",
    "                else: \n",
    "                    lps[i] = 0\n",
    "                    i += 1\n",
    "    def KMPSearch(self,pat, txt): \n",
    "        M = len(pat) \n",
    "        N = len(txt) \n",
    "\n",
    "        # create lps[] that will hold the longest prefix suffix  \n",
    "        # values for pattern \n",
    "        lps = [0]*M \n",
    "        j = 0 # index for pat[] \n",
    "\n",
    "        # Preprocess the pattern (calculate lps[] array) \n",
    "        self.computeLPSArray(pat, M, lps) \n",
    "\n",
    "        i = 0 # index for txt[] \n",
    "        while i < N: \n",
    "            if pat[j] == txt[i]: \n",
    "                i += 1\n",
    "                j += 1\n",
    "\n",
    "            if j == M: \n",
    "                return 1\n",
    "                j = lps[j-1] \n",
    "\n",
    "            # mismatch after j matches \n",
    "            elif i < N and pat[j] != txt[i]: \n",
    "                # Do not match lps[0..lps[j-1]] characters, \n",
    "                # they will match anyway \n",
    "                if j != 0: \n",
    "                    j = lps[j-1] \n",
    "                else: \n",
    "                    i += 1\n",
    "        return 0"
   ]
  },
  {
   "cell_type": "code",
   "execution_count": 12,
   "metadata": {},
   "outputs": [],
   "source": [
    "class Solution:\n",
    "    def findReplaceString(self, s: str, indexes, sources, targets) -> str:\n",
    "        tail = indexes[1]\n",
    "        tmp_result = list(s)\n",
    "        result = []\n",
    "        target_list = []\n",
    "        self.pointer = 0\n",
    "        for i in range(len(sources)):\n",
    "            sub_str = sources[i]\n",
    "            tmp_len = len(sub_str)\n",
    "            while self.pointer <= tail+1:\n",
    "                found = 0\n",
    "                if s[self.pointer:self.pointer+tmp_len] == sub_str:\n",
    "                    for x in targets[i]:\n",
    "                        result.append(x)\n",
    "                    self.pointer += tmp_len\n",
    "                    print(self.pointer)\n",
    "                    found = 1\n",
    "                    break\n",
    "                if not found:\n",
    "                    result.append(s[self.pointer])\n",
    "                    self.pointer += 1\n",
    "        if len(result) < len(s):\n",
    "            for item in s[len(result):]:\n",
    "                result.append(item)\n",
    "        return \"\".join(result)\n",
    "        \n",
    "        \n",
    "        "
   ]
  },
  {
   "cell_type": "code",
   "execution_count": 13,
   "metadata": {},
   "outputs": [
    {
     "name": "stdout",
     "output_type": "stream",
     "text": [
      "1\n",
      "4\n"
     ]
    },
    {
     "data": {
      "text/plain": [
       "'eeebffff'"
      ]
     },
     "execution_count": 13,
     "metadata": {},
     "output_type": "execute_result"
    }
   ],
   "source": [
    "instance = Solution()\n",
    "s = \"abcd\"\n",
    "indexes = [0, 2]\n",
    "sources = [\"a\", \"cd\"]\n",
    "targets = [\"eee\", \"ffff\"]\n",
    "instance.findReplaceString(s, indexes, sources, targets)"
   ]
  },
  {
   "cell_type": "code",
   "execution_count": 6,
   "metadata": {},
   "outputs": [],
   "source": [
    "S = \"abcd\""
   ]
  },
  {
   "cell_type": "code",
   "execution_count": 7,
   "metadata": {},
   "outputs": [
    {
     "data": {
      "text/plain": [
       "'bc'"
      ]
     },
     "execution_count": 7,
     "metadata": {},
     "output_type": "execute_result"
    }
   ],
   "source": [
    "S[1:3]"
   ]
  },
  {
   "cell_type": "code",
   "execution_count": null,
   "metadata": {},
   "outputs": [],
   "source": []
  }
 ],
 "metadata": {
  "kernelspec": {
   "display_name": "Python 3",
   "language": "python",
   "name": "python3"
  },
  "language_info": {
   "codemirror_mode": {
    "name": "ipython",
    "version": 3
   },
   "file_extension": ".py",
   "mimetype": "text/x-python",
   "name": "python",
   "nbconvert_exporter": "python",
   "pygments_lexer": "ipython3",
   "version": "3.7.3"
  }
 },
 "nbformat": 4,
 "nbformat_minor": 2
}
