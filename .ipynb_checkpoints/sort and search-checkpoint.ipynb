{
 "cells": [
  {
   "cell_type": "code",
   "execution_count": 1,
   "metadata": {},
   "outputs": [],
   "source": [
    "test_case = [1,3,2,4,81,12,3]"
   ]
  },
  {
   "cell_type": "code",
   "execution_count": 2,
   "metadata": {},
   "outputs": [
    {
     "data": {
      "text/plain": [
       "[1, 3, 2, 4, 81, 12, 3]"
      ]
     },
     "execution_count": 2,
     "metadata": {},
     "output_type": "execute_result"
    }
   ],
   "source": [
    "test_case"
   ]
  },
  {
   "cell_type": "code",
   "execution_count": 5,
   "metadata": {},
   "outputs": [],
   "source": [
    "def BubbleSort(nums):\n",
    "        for i in range(len(nums) - 1): # 遍历 len(nums)-1 次\n",
    "            for j in range(len(nums) - i - 1): # 已排好序的部分不用再次遍历\n",
    "                if nums[j] > nums[j+1]:\n",
    "                    nums[j], nums[j+1] = nums[j+1], nums[j] \n",
    "        return nums"
   ]
  },
  {
   "cell_type": "code",
   "execution_count": 6,
   "metadata": {},
   "outputs": [
    {
     "data": {
      "text/plain": [
       "[1, 2, 3, 3, 4, 12, 81]"
      ]
     },
     "execution_count": 6,
     "metadata": {},
     "output_type": "execute_result"
    }
   ],
   "source": [
    "test_case = [1,3,2,4,81,12,3]\n",
    "BubbleSort(test_case)"
   ]
  },
  {
   "cell_type": "code",
   "execution_count": 7,
   "metadata": {},
   "outputs": [],
   "source": [
    "def selectionSort(nums):\n",
    "    for i in range(len(nums) - 1):  # 遍历 len(nums)-1 次\n",
    "        minIndex = i\n",
    "        for j in range(i + 1, len(nums)):\n",
    "            if nums[j] < nums[minIndex]:  # 更新最小值索引\n",
    "                minIndex = j  \n",
    "        nums[i], nums[minIndex] = nums[minIndex], nums[i] # 把最小数交换到前面\n",
    "    return nums"
   ]
  },
  {
   "cell_type": "code",
   "execution_count": 10,
   "metadata": {},
   "outputs": [
    {
     "data": {
      "text/plain": [
       "[1, 2, 3, 3, 4, 12, 81]"
      ]
     },
     "execution_count": 10,
     "metadata": {},
     "output_type": "execute_result"
    }
   ],
   "source": [
    "test_case = [1,3,2,4,81,12,3]\n",
    "selectionSort(test_case)"
   ]
  },
  {
   "cell_type": "code",
   "execution_count": 1,
   "metadata": {},
   "outputs": [],
   "source": [
    "def mergeSort(nums):\n",
    "    # 归并过程\n",
    "    def merge(left, right):\n",
    "        result = []  # 保存归并后的结果\n",
    "        i = j = 0\n",
    "        while i < len(left) and j < len(right):\n",
    "            if left[i] <= right[j]:\n",
    "                result.append(left[i])\n",
    "                i += 1\n",
    "            else:\n",
    "                result.append(right[j])\n",
    "                j += 1\n",
    "        result = result + left[i:] + right[j:] # 剩余的元素直接添加到末尾\n",
    "        return result\n",
    "    # 递归过程\n",
    "    if len(nums) <= 1:\n",
    "        return nums\n",
    "    mid = len(nums) // 2\n",
    "    left = mergeSort(nums[:mid])\n",
    "    right = mergeSort(nums[mid:])\n",
    "    return merge(left, right)"
   ]
  },
  {
   "cell_type": "code",
   "execution_count": 2,
   "metadata": {},
   "outputs": [
    {
     "data": {
      "text/plain": [
       "[1, 2, 3, 3, 4, 12, 81]"
      ]
     },
     "execution_count": 2,
     "metadata": {},
     "output_type": "execute_result"
    }
   ],
   "source": [
    "test_case = [1,3,2,4,81,12,3]\n",
    "mergeSort(test_case)"
   ]
  },
  {
   "cell_type": "code",
   "execution_count": 13,
   "metadata": {},
   "outputs": [],
   "source": [
    "def quickSort(nums):  # 这种写法的平均空间复杂度为 O(nlogn)\n",
    "    if len(nums) <= 1:\n",
    "        return nums\n",
    "    pivot = nums[0]  # 基准值\n",
    "    left = [nums[i] for i in range(1, len(nums)) if nums[i] < pivot] \n",
    "    right = [nums[i] for i in range(1, len(nums)) if nums[i] >= pivot]\n",
    "    return quickSort(left) + [pivot] + quickSort(right)"
   ]
  },
  {
   "cell_type": "code",
   "execution_count": 14,
   "metadata": {},
   "outputs": [
    {
     "data": {
      "text/plain": [
       "[1, 2, 3, 3, 4, 12, 81]"
      ]
     },
     "execution_count": 14,
     "metadata": {},
     "output_type": "execute_result"
    }
   ],
   "source": [
    "test_case = [1,3,2,4,81,12,3]\n",
    "quickSort(test_case)"
   ]
  },
  {
   "cell_type": "code",
   "execution_count": 36,
   "metadata": {},
   "outputs": [],
   "source": [
    "def quickSort2(nums, left, right):  # 这种写法的平均空间复杂度为 O(logn) \n",
    "    # 分区操作\n",
    "    def partition(nums, left, right):\n",
    "        pivot = nums[left]  # 基准值\n",
    "        while left < right:\n",
    "            while left < right and nums[right] >= pivot:\n",
    "                right -= 1\n",
    "            nums[left] = nums[right]  # 比基准小的交换到前面\n",
    "            while left < right and nums[left] <= pivot:\n",
    "                left += 1\n",
    "            nums[right] = nums[left]  # 比基准大交换到后面\n",
    "        nums[left] = pivot # 基准值的正确位置，也可以为 nums[right] = pivot\n",
    "        return left  # 返回基准值的索引，也可以为 return right\n",
    "    # 递归操作\n",
    "    if left < right:\n",
    "        pivotIndex = partition(nums, left, right)\n",
    "        quickSort2(nums, left, pivotIndex - 1)  # 左序列\n",
    "        quickSort2(nums, pivotIndex + 1, right) # 右序列\n",
    "    return nums"
   ]
  },
  {
   "cell_type": "code",
   "execution_count": 11,
   "metadata": {},
   "outputs": [],
   "source": [
    "def mergesort2(x):\n",
    "    if len(x) < 2:\n",
    "        return x\n",
    "    result = []          # moved!\n",
    "    mid = int(len(x) / 2)\n",
    "    y = mergesort2(x[:mid])\n",
    "    z = mergesort2(x[mid:])\n",
    "    while (len(y) > 0) and (len(z) > 0):\n",
    "        if y[0] > z[0]:\n",
    "            result.append(z[0])\n",
    "            z.pop(0)\n",
    "        else:\n",
    "            result.append(y[0])\n",
    "            y.pop(0)\n",
    "    result += y\n",
    "    result += z\n",
    "    return result"
   ]
  },
  {
   "cell_type": "code",
   "execution_count": 3,
   "metadata": {},
   "outputs": [],
   "source": [
    "def mergesort3(nums):\n",
    "    if len(nums) < 2:\n",
    "        return nums\n",
    "    result = []\n",
    "    mid = int(len(nums) / 2)\n",
    "    left = mergesort3(nums[:mid])\n",
    "    right = mergesort3(nums[mid:])\n",
    "    i = 0\n",
    "    j = 0\n",
    "    while i < len(left) and j < len(right):\n",
    "        if left[i] > right[j]:\n",
    "            result.append(right[j])\n",
    "            j += 1\n",
    "        else:\n",
    "            result.append(left[i])\n",
    "            i += 1\n",
    "    result += left[i:]\n",
    "    result += right[j:]\n",
    "    return result"
   ]
  },
  {
   "cell_type": "code",
   "execution_count": 4,
   "metadata": {},
   "outputs": [
    {
     "data": {
      "text/plain": [
       "[1, 2, 3, 3, 4, 12, 81]"
      ]
     },
     "execution_count": 4,
     "metadata": {},
     "output_type": "execute_result"
    }
   ],
   "source": [
    "test_case = [1,3,2,4,81,12,3]\n",
    "mergesort3(test_case)"
   ]
  },
  {
   "cell_type": "code",
   "execution_count": 13,
   "metadata": {},
   "outputs": [],
   "source": [
    "    def merge_sort(nums):\n",
    "        if len(nums)<2:\n",
    "            return nums\n",
    "        mid = len(nums)//2\n",
    "        left = merge_sort(nums[:mid])\n",
    "        right = merge_sort(nums[mid:])\n",
    "        i = 0\n",
    "        j = 0\n",
    "        result = []\n",
    "        while i < len(left) and j < len(right):\n",
    "            if left[i] > right[j]:\n",
    "                result.append(right[j])\n",
    "                j += 1\n",
    "            else:\n",
    "                result.append(left[i])\n",
    "                i += 1\n",
    "        result += left[i:]\n",
    "        result += right[j:]\n",
    "        return result \n",
    "    "
   ]
  },
  {
   "cell_type": "code",
   "execution_count": 14,
   "metadata": {},
   "outputs": [
    {
     "data": {
      "text/plain": [
       "[1, 2, 3, 3, 4, 12, 81]"
      ]
     },
     "execution_count": 14,
     "metadata": {},
     "output_type": "execute_result"
    }
   ],
   "source": [
    "test_case = [1,3,2,4,81,12,3]\n",
    "merge_sort(test_case)"
   ]
  },
  {
   "cell_type": "code",
   "execution_count": 17,
   "metadata": {},
   "outputs": [],
   "source": [
    "def bucketSort(nums):\n",
    "        _max=max(nums)\n",
    "        _min=min(nums)        \n",
    "        #建立max-min+1个桶，将min~max区间的数都置为0\n",
    "        #每个桶代表的值分别为min,min+1,min+2,...,max\n",
    "        s=[0 for i in range(_min,_max+1)]\n",
    "        #遍历数组，对于元素i，其对应的桶s[i-_min]加1\n",
    "        for i in nums:\n",
    "            s[i-_min]+=1\n",
    "        current=_min\n",
    "        n=0#n为新list的计数变量\n",
    "        #遍历每个桶，对于其元素i，若i>0则将其对应的原数组中的数current依次\n",
    "        #按从小到大放入list，current取值范围为min,min+1,min+2,...,max\n",
    "        #若i>1则说明同一个数出现了不止一次\n",
    "        for i in s:\n",
    "            while i>0:\n",
    "                nums[n]=current\n",
    "                i-=1\n",
    "                n+=1\n",
    "            current+=1\n",
    "        return nums\n"
   ]
  },
  {
   "cell_type": "code",
   "execution_count": 18,
   "metadata": {},
   "outputs": [
    {
     "data": {
      "text/plain": [
       "[1, 2, 3, 3, 4, 12, 81]"
      ]
     },
     "execution_count": 18,
     "metadata": {},
     "output_type": "execute_result"
    }
   ],
   "source": [
    "test_case = [1,3,2,4,81,12,3]\n",
    "bucketSort(test_case)"
   ]
  },
  {
   "cell_type": "code",
   "execution_count": null,
   "metadata": {},
   "outputs": [],
   "source": [
    "class Sort {\n",
    "    public static void main(int[] array){\n",
    "        if(array.length < 2)\n",
    "            return array;\n",
    "        for(int i = 0; i < array.length;i++)\n",
    "            for(int j = 0;j<array.length-i-1;j++)\n",
    "                if (array[i+1]<array[i]){\n",
    "                    int tmp = array[i+1];\n",
    "                    array[i+1] = tmp;\n",
    "                    array[i+1] = array[i];\n",
    "                    array[i] = tmp;\n",
    "                }\n",
    "\n",
    "        return array;\n",
    "\n",
    "    }\n",
    "}\n"
   ]
  }
 ],
 "metadata": {
  "kernelspec": {
   "display_name": "Python 3",
   "language": "python",
   "name": "python3"
  },
  "language_info": {
   "codemirror_mode": {
    "name": "ipython",
    "version": 3
   },
   "file_extension": ".py",
   "mimetype": "text/x-python",
   "name": "python",
   "nbconvert_exporter": "python",
   "pygments_lexer": "ipython3",
   "version": "3.7.3"
  }
 },
 "nbformat": 4,
 "nbformat_minor": 2
}
