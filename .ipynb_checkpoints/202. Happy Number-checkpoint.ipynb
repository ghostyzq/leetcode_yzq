{
 "cells": [
  {
   "cell_type": "code",
   "execution_count": 1,
   "metadata": {},
   "outputs": [],
   "source": [
    "class Solution:\n",
    "    def helper(self,n):\n",
    "        n = str(n)\n",
    "        output = 0\n",
    "        for x in n:\n",
    "            output += int(x)*int(x)\n",
    "        if output == 1:\n",
    "            return True\n",
    "        return output\n",
    "    \n",
    "    def isHappy(self, n: int) -> bool:\n",
    "        hashset = set()\n",
    "        hashset.add(n)\n",
    "        while self.helper(n) != True:\n",
    "            n = self.helper(n)\n",
    "            if n in hashset:\n",
    "                return False\n",
    "            hashset.add(n)\n",
    "        return True"
   ]
  },
  {
   "cell_type": "code",
   "execution_count": 3,
   "metadata": {},
   "outputs": [
    {
     "data": {
      "text/plain": [
       "True"
      ]
     },
     "execution_count": 3,
     "metadata": {},
     "output_type": "execute_result"
    }
   ],
   "source": [
    "instance = Solution()\n",
    "n = 19\n",
    "instance.isHappy(n) "
   ]
  },
  {
   "cell_type": "code",
   "execution_count": null,
   "metadata": {},
   "outputs": [],
   "source": []
  }
 ],
 "metadata": {
  "kernelspec": {
   "display_name": "Python 3",
   "language": "python",
   "name": "python3"
  },
  "language_info": {
   "codemirror_mode": {
    "name": "ipython",
    "version": 3
   },
   "file_extension": ".py",
   "mimetype": "text/x-python",
   "name": "python",
   "nbconvert_exporter": "python",
   "pygments_lexer": "ipython3",
   "version": "3.7.3"
  }
 },
 "nbformat": 4,
 "nbformat_minor": 2
}
