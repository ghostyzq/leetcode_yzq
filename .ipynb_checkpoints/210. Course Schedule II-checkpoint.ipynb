{
 "cells": [
  {
   "cell_type": "code",
   "execution_count": 31,
   "metadata": {},
   "outputs": [],
   "source": [
    "class Solution:\n",
    "    def findOrder(self, numCourses: int, prerequisites):\n",
    "        stack = []\n",
    "        result = []\n",
    "        remain = []\n",
    "        for i in range(numCourses):\n",
    "            for x,y in prerequisites:\n",
    "                if i == x:\n",
    "                    remain.append(i)\n",
    "                    break\n",
    "                else:\n",
    "                    continue\n",
    "            stack.append(i)\n",
    "        while stack:\n",
    "            vertex = stack.pop(0)\n",
    "            result.append(vertex)\n",
    "            new = []\n",
    "            for item in remain:\n",
    "                for x,y in prerequisites:\n",
    "                    if y not in stack and y not in result:\n",
    "                        break\n",
    "                stack.append(item)\n",
    "                new.append(item)\n",
    "            for item in new:\n",
    "                remain.remove(new[0])\n",
    "        return result\n",
    "                    \n",
    "            \n",
    "        "
   ]
  },
  {
   "cell_type": "code",
   "execution_count": 37,
   "metadata": {},
   "outputs": [],
   "source": [
    "class Solution:\n",
    "    def findOrder(self, numCourses: int, prerequisites):\n",
    "        if not prerequisites:\n",
    "            return [x for x in range(numCourses)]\n",
    "        self.adj = [set() for i in range(numCourses)]\n",
    "        for i,j in prerequisites:\n",
    "            self.adj[j].add(i)\n",
    "        self.visiting = set()\n",
    "        self.visited = set()\n",
    "        self.output = []\n",
    "        for i in range(len(self.adj)):\n",
    "            if i not in self.visiting and i not in self.visited:\n",
    "                possible = self.visit(i)\n",
    "                if not possible:\n",
    "                    return []\n",
    "        return self.output[::-1]\n",
    "    \n",
    "    def visit(self,u):\n",
    "        self.visiting.add(u)\n",
    "        possible = True\n",
    "        for v in self.adj[u]:\n",
    "            if v not in self.visiting and v not in self.visited:\n",
    "                possible = possible and self.visit(v)\n",
    "            if v in self.visiting:\n",
    "                possible = False\n",
    "                break\n",
    "        self.visiting.remove(u)\n",
    "        self.visited.add(u)\n",
    "        if possible:\n",
    "            self.output.append(u)\n",
    "        return possible"
   ]
  },
  {
   "cell_type": "code",
   "execution_count": 38,
   "metadata": {},
   "outputs": [],
   "source": [
    "numCoursesint = 4\n",
    "prerequisites = [[1,0],[2,0],[3,1],[3,2]]"
   ]
  },
  {
   "cell_type": "code",
   "execution_count": 39,
   "metadata": {},
   "outputs": [
    {
     "data": {
      "text/plain": [
       "[0, 2, 1, 3]"
      ]
     },
     "execution_count": 39,
     "metadata": {},
     "output_type": "execute_result"
    }
   ],
   "source": [
    "instance = Solution()\n",
    "instance.findOrder(numCoursesint, prerequisites)"
   ]
  },
  {
   "cell_type": "code",
   "execution_count": 13,
   "metadata": {},
   "outputs": [
    {
     "data": {
      "text/plain": [
       "0"
      ]
     },
     "execution_count": 13,
     "metadata": {},
     "output_type": "execute_result"
    }
   ],
   "source": [
    "a = [1,0]\n",
    "a.pop()"
   ]
  },
  {
   "cell_type": "code",
   "execution_count": 14,
   "metadata": {},
   "outputs": [],
   "source": [
    "a = [2,3]"
   ]
  },
  {
   "cell_type": "code",
   "execution_count": 15,
   "metadata": {},
   "outputs": [],
   "source": [
    "a.remove(3)"
   ]
  },
  {
   "cell_type": "code",
   "execution_count": 16,
   "metadata": {},
   "outputs": [
    {
     "data": {
      "text/plain": [
       "[2]"
      ]
     },
     "execution_count": 16,
     "metadata": {},
     "output_type": "execute_result"
    }
   ],
   "source": [
    "a"
   ]
  },
  {
   "cell_type": "code",
   "execution_count": 34,
   "metadata": {},
   "outputs": [],
   "source": [
    "adj = [set() for i in range(5)]"
   ]
  },
  {
   "cell_type": "code",
   "execution_count": 35,
   "metadata": {},
   "outputs": [
    {
     "data": {
      "text/plain": [
       "[set(), set(), set(), set(), set()]"
      ]
     },
     "execution_count": 35,
     "metadata": {},
     "output_type": "execute_result"
    }
   ],
   "source": [
    "adj"
   ]
  },
  {
   "cell_type": "code",
   "execution_count": null,
   "metadata": {},
   "outputs": [],
   "source": []
  }
 ],
 "metadata": {
  "kernelspec": {
   "display_name": "Python 3",
   "language": "python",
   "name": "python3"
  },
  "language_info": {
   "codemirror_mode": {
    "name": "ipython",
    "version": 3
   },
   "file_extension": ".py",
   "mimetype": "text/x-python",
   "name": "python",
   "nbconvert_exporter": "python",
   "pygments_lexer": "ipython3",
   "version": "3.7.3"
  }
 },
 "nbformat": 4,
 "nbformat_minor": 2
}
