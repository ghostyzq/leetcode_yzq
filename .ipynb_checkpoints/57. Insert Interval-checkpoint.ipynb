{
 "cells": [
  {
   "cell_type": "code",
   "execution_count": null,
   "metadata": {},
   "outputs": [],
   "source": [
    "        if len(intervals) == 1:\n",
    "            if intervals[0][1] < newInterval[0]:\n",
    "                result = [[intervals[0][0],intervals[0][1]],newInterval]\n",
    "                return result\n",
    "            if newInterval[0] < intervals[0][0]:\n",
    "                result = [newInterval,[intervals[0][0],intervals[0][1]]]\n",
    "                return result\n",
    "            if intervals[0][0] > newInterval[0]:\n",
    "                intervals[0][0] =  newInterval[0]\n",
    "            if intervals[0][1] < newInterval[1]:\n",
    "                intervals[0][1] =  newInterval[1]\n",
    "            return intervals"
   ]
  },
  {
   "cell_type": "code",
   "execution_count": 9,
   "metadata": {},
   "outputs": [],
   "source": [
    "class Solution:\n",
    "    def insert(self, intervals, newInterval):\n",
    "        changed = 0\n",
    "        if not intervals:\n",
    "            return [newInterval]\n",
    "        head,mid,tail = [],[],[]\n",
    "        start = 0\n",
    "        end = 0\n",
    "        for i in range(len(intervals)):\n",
    "            if intervals[i][0] < newInterval[0] and intervals[i][1] < newInterval[0]:\n",
    "                continue\n",
    "            else:\n",
    "                if intervals[i][0] < newInterval[1]:\n",
    "                    start = intervals[i][0]\n",
    "                else:\n",
    "                     start = intervals[i][1]\n",
    "                break\n",
    "        for j in range(len(intervals)):\n",
    "            if intervals[j][0] < newInterval[1] and intervals[j][1] < newInterval[1]:\n",
    "                continue\n",
    "            else:\n",
    "                if intervals[j][0] == newInterval[1]:\n",
    "                    end = intervals[j][1]\n",
    "                    print(end)\n",
    "                    changed = 1\n",
    "                else:\n",
    "                    end = newInterval[1]\n",
    "                break\n",
    "        if changed:\n",
    "            tail = intervals[j+1:]\n",
    "        else:\n",
    "            tail = intervals[j:]\n",
    "        head =  intervals[:i]\n",
    "        if intervals[0][0] > newInterval[0]:\n",
    "            start = newInterval[0]\n",
    "            mid = [[start,end]]\n",
    "            result = mid + tail\n",
    "            return result\n",
    "        if intervals[-1][1] < newInterval[1]:\n",
    "            end = newInterval[1]\n",
    "            mid = [[start,end]]\n",
    "            result = head + mid\n",
    "            return result\n",
    "        mid = [[start,end]]\n",
    "        result = head+mid+tail\n",
    "        return result\n",
    "                    \n",
    "        "
   ]
  },
  {
   "cell_type": "code",
   "execution_count": 13,
   "metadata": {},
   "outputs": [
    {
     "data": {
      "text/plain": [
       "[[-1, -1], [1, 2], [3, 5], [6, 7], [8, 10], [12, 16]]"
      ]
     },
     "execution_count": 13,
     "metadata": {},
     "output_type": "execute_result"
    }
   ],
   "source": [
    "instance = Solution()\n",
    "intervals = [[1,2],[3,5],[6,7],[8,10],[12,16]]\n",
    "newInterval = [-1,-1]\n",
    "instance.insert(intervals, newInterval)"
   ]
  },
  {
   "cell_type": "code",
   "execution_count": 14,
   "metadata": {},
   "outputs": [
    {
     "data": {
      "text/plain": [
       "[[1, 2], [3, 5], [6, 7], [8, 100]]"
      ]
     },
     "execution_count": 14,
     "metadata": {},
     "output_type": "execute_result"
    }
   ],
   "source": [
    "instance = Solution()\n",
    "intervals = [[1,2],[3,5],[6,7],[8,10],[12,16]]\n",
    "newInterval = [9,100]\n",
    "instance.insert(intervals, newInterval)"
   ]
  },
  {
   "cell_type": "code",
   "execution_count": 21,
   "metadata": {},
   "outputs": [
    {
     "name": "stdout",
     "output_type": "stream",
     "text": [
      "10\n"
     ]
    },
    {
     "data": {
      "text/plain": [
       "[[1, 2], [3, 10], [12, 16]]"
      ]
     },
     "execution_count": 21,
     "metadata": {},
     "output_type": "execute_result"
    }
   ],
   "source": [
    "instance = Solution()\n",
    "intervals = [[1,2],[3,5],[6,7],[8,10],[12,16]]\n",
    "newInterval = [4,8]\n",
    "instance.insert(intervals, newInterval)"
   ]
  },
  {
   "cell_type": "code",
   "execution_count": null,
   "metadata": {},
   "outputs": [],
   "source": []
  }
 ],
 "metadata": {
  "kernelspec": {
   "display_name": "Python 3",
   "language": "python",
   "name": "python3"
  },
  "language_info": {
   "codemirror_mode": {
    "name": "ipython",
    "version": 3
   },
   "file_extension": ".py",
   "mimetype": "text/x-python",
   "name": "python",
   "nbconvert_exporter": "python",
   "pygments_lexer": "ipython3",
   "version": "3.7.3"
  }
 },
 "nbformat": 4,
 "nbformat_minor": 2
}
