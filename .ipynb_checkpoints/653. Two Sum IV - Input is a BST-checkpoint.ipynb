{
 "cells": [
  {
   "cell_type": "code",
   "execution_count": 2,
   "metadata": {},
   "outputs": [],
   "source": [
    "class Solution:\n",
    "    def findTarget(self, root, k: int) -> bool:\n",
    "        tmp_arr = []\n",
    "        stack = []\n",
    "        stack.append(root)\n",
    "        while stack:\n",
    "            vertex = stack.pop()\n",
    "            tmp_arr.append(vertex.val)\n",
    "            if vertex.left:\n",
    "                stack.append(vertex.left)\n",
    "            if vertex.right:\n",
    "                stack.append(vertex.right)\n",
    "        tmp_arr.sort()\n",
    "        left = 0\n",
    "        right = len(tmp_arr)-1\n",
    "        while left<right:\n",
    "            if tmp_arr[left] + tmp_arr[right] == k:\n",
    "                return 1\n",
    "            if tmp_arr[left] + tmp_arr[right] < k:\n",
    "                left += 1\n",
    "            if tmp_arr[left] + tmp_arr[right] > k:\n",
    "                right -= 1\n",
    "        return 0\n",
    "            \n",
    "            \n",
    "        "
   ]
  },
  {
   "cell_type": "code",
   "execution_count": 4,
   "metadata": {},
   "outputs": [],
   "source": [
    "class Solution:\n",
    "    def findTarget(self, root, k: int) -> bool:\n",
    "        tmp_arr = []\n",
    "        queue = []\n",
    "        target = []\n",
    "        queue.append(root)\n",
    "        while queue:\n",
    "            vertex = queue.pop(0)\n",
    "            if vertex.val in target:\n",
    "                return 1\n",
    "            target.append(k-vertex.val)\n",
    "            if vertex.left:\n",
    "                queue.append(vertex.left)\n",
    "            if vertex.right:\n",
    "                queue.append(vertex.right)\n",
    "        return 0"
   ]
  },
  {
   "cell_type": "code",
   "execution_count": null,
   "metadata": {},
   "outputs": [],
   "source": []
  }
 ],
 "metadata": {
  "kernelspec": {
   "display_name": "Python 3",
   "language": "python",
   "name": "python3"
  },
  "language_info": {
   "codemirror_mode": {
    "name": "ipython",
    "version": 3
   },
   "file_extension": ".py",
   "mimetype": "text/x-python",
   "name": "python",
   "nbconvert_exporter": "python",
   "pygments_lexer": "ipython3",
   "version": "3.7.3"
  }
 },
 "nbformat": 4,
 "nbformat_minor": 2
}
