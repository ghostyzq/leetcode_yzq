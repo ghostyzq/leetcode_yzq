{
 "cells": [
  {
   "cell_type": "code",
   "execution_count": 2,
   "metadata": {},
   "outputs": [],
   "source": [
    "a = dict()"
   ]
  },
  {
   "cell_type": "code",
   "execution_count": 62,
   "metadata": {},
   "outputs": [],
   "source": [
    "import copy\n",
    "\n",
    "class Solution:\n",
    "    def groupAnagrams(self, strs):\n",
    "        if strs == [\"\",\"\"]:\n",
    "            return [[\"\",\"\"]]\n",
    "        table = dict()\n",
    "        for item in strs:\n",
    "            tmp = {}\n",
    "            for letter in list(set(item)):\n",
    "                tmp.update({letter:item.count(letter)})\n",
    "            table.update({item:tmp})\n",
    "        result = []\n",
    "        while len(table)>0:\n",
    "            result_tmp = []\n",
    "            for i in table.keys():\n",
    "                tmp = copy.deepcopy(i)\n",
    "                break\n",
    "            tmp_table = copy.deepcopy(table)\n",
    "            #print(table[tmp])\n",
    "            for each_strs,tmp_table(each_strs) in tmp_table.keys():\n",
    "                #print(each_values)\n",
    "                if each_values == tmp_table[tmp]:\n",
    "                    result_tmp.append(each_strs)\n",
    "                    table.pop(each_strs)\n",
    "            #print(table)\n",
    "            result.append(result_tmp)\n",
    "        if len(table) == 1:\n",
    "            result.append(table.popitem()[0])\n",
    "        return result\n",
    "        "
   ]
  },
  {
   "cell_type": "code",
   "execution_count": 63,
   "metadata": {},
   "outputs": [
    {
     "data": {
      "text/plain": [
       "[['eat', 'tea', 'ate'], ['tan', 'nat'], ['bat']]"
      ]
     },
     "execution_count": 63,
     "metadata": {},
     "output_type": "execute_result"
    }
   ],
   "source": [
    "solution = Solution()\n",
    "solution.groupAnagrams([\"eat\", \"tea\", \"tan\", \"ate\", \"nat\", \"bat\"])"
   ]
  },
  {
   "cell_type": "code",
   "execution_count": 66,
   "metadata": {},
   "outputs": [],
   "source": [
    "import collections\n",
    "ans = collections.defaultdict(list)"
   ]
  },
  {
   "cell_type": "code",
   "execution_count": 67,
   "metadata": {},
   "outputs": [
    {
     "data": {
      "text/plain": [
       "defaultdict(list, {})"
      ]
     },
     "execution_count": 67,
     "metadata": {},
     "output_type": "execute_result"
    }
   ],
   "source": [
    "ans"
   ]
  },
  {
   "cell_type": "code",
   "execution_count": null,
   "metadata": {},
   "outputs": [],
   "source": []
  }
 ],
 "metadata": {
  "kernelspec": {
   "display_name": "Python 3",
   "language": "python",
   "name": "python3"
  },
  "language_info": {
   "codemirror_mode": {
    "name": "ipython",
    "version": 3
   },
   "file_extension": ".py",
   "mimetype": "text/x-python",
   "name": "python",
   "nbconvert_exporter": "python",
   "pygments_lexer": "ipython3",
   "version": "3.7.3"
  }
 },
 "nbformat": 4,
 "nbformat_minor": 2
}
