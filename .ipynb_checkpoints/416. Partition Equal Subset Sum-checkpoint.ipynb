{
 "cells": [
  {
   "cell_type": "code",
   "execution_count": 80,
   "metadata": {},
   "outputs": [],
   "source": [
    "import numpy as np\n",
    "\n",
    "#dp solution\n",
    "class Solution:\n",
    "    @staticmethod\n",
    "    def canPartition(nums):\n",
    "        \"\"\"\n",
    "        :type nums: List[int]\n",
    "        :rtype: bool\n",
    "        \"\"\"\n",
    "        s = sum(nums)\n",
    "        if s % 2 == 1:\n",
    "            return False\n",
    "        target = s // 2\n",
    "        if target in nums:\n",
    "            return True\n",
    "        dp = [list()]*(s+1)\n",
    "        result = []\n",
    "        dp[0] = [0]\n",
    "        for i in nums:\n",
    "            for j in range(s, -1, -1):\n",
    "                print(j)\n",
    "                if dp[j]:\n",
    "                    tmp = dp[j]\n",
    "                    tmp.append(i)\n",
    "                    #print(tmp)\n",
    "                    dp[j+i] = tmp\n",
    "                if dp[target] != []:\n",
    "                    result = dp[target]\n",
    "                    result.remove(0)\n",
    "                    return dp[target]\n",
    "                    #print(result)\n",
    "        return False"
   ]
  },
  {
   "cell_type": "code",
   "execution_count": 81,
   "metadata": {},
   "outputs": [
    {
     "name": "stdout",
     "output_type": "stream",
     "text": [
      "16\n",
      "15\n",
      "14\n",
      "13\n",
      "12\n",
      "11\n",
      "10\n",
      "9\n",
      "8\n",
      "7\n",
      "6\n",
      "5\n",
      "4\n",
      "3\n",
      "2\n",
      "1\n",
      "0\n",
      "16\n",
      "15\n",
      "14\n",
      "13\n",
      "12\n",
      "11\n",
      "10\n",
      "9\n",
      "8\n",
      "7\n",
      "6\n"
     ]
    },
    {
     "data": {
      "text/plain": [
       "[6, 2]"
      ]
     },
     "execution_count": 81,
     "metadata": {},
     "output_type": "execute_result"
    }
   ],
   "source": [
    "nums = [6, 2, 2, 2,4]\n",
    "instance = Solution()\n",
    "instance.canPartition(nums)"
   ]
  },
  {
   "cell_type": "code",
   "execution_count": 65,
   "metadata": {},
   "outputs": [],
   "source": [
    "def canPartition(nums):\n",
    "        s, n, memo = sum(nums), len(nums), {0: True}\n",
    "        if s & 1: return False\n",
    "        nums.sort(reverse=True)\n",
    "        def dfs(i, x):\n",
    "            if x not in memo:\n",
    "                memo[x] = False\n",
    "                if x > 0:\n",
    "                    for j in range(i, n):\n",
    "                        if dfs(j+1, x-nums[j]):\n",
    "                            memo[x] = True\n",
    "                            break\n",
    "            return memo[x]\n",
    "        return dfs(0, s >> 1)"
   ]
  },
  {
   "cell_type": "code",
   "execution_count": 66,
   "metadata": {},
   "outputs": [
    {
     "data": {
      "text/plain": [
       "True"
      ]
     },
     "execution_count": 66,
     "metadata": {},
     "output_type": "execute_result"
    }
   ],
   "source": [
    "canPartition(nums)"
   ]
  },
  {
   "cell_type": "code",
   "execution_count": null,
   "metadata": {},
   "outputs": [],
   "source": []
  }
 ],
 "metadata": {
  "kernelspec": {
   "display_name": "Python 3",
   "language": "python",
   "name": "python3"
  },
  "language_info": {
   "codemirror_mode": {
    "name": "ipython",
    "version": 3
   },
   "file_extension": ".py",
   "mimetype": "text/x-python",
   "name": "python",
   "nbconvert_exporter": "python",
   "pygments_lexer": "ipython3",
   "version": "3.7.3"
  }
 },
 "nbformat": 4,
 "nbformat_minor": 2
}
