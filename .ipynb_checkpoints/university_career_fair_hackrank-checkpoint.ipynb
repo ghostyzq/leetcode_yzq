{
 "cells": [
  {
   "cell_type": "code",
   "execution_count": 8,
   "metadata": {},
   "outputs": [],
   "source": [
    "def careerFair(arrival, duration):\n",
    "    interval = []\n",
    "    for i in range(len(arrival)):\n",
    "        interval.append([arrival[i], arrival[i] + duration[i]])\n",
    "    interval.sort(key = lambda x : (x[0], x[1]))\n",
    "    not_working = []\n",
    "    prev = interval[0][1]\n",
    "    for i in range(1, len(interval)):\n",
    "        if interval[i][0] < prev:\n",
    "            not_working.append(1)\n",
    "        else:\n",
    "            prev = interval[i][1]\n",
    "    return len(arrival) - len(not_working)"
   ]
  },
  {
   "cell_type": "code",
   "execution_count": 18,
   "metadata": {},
   "outputs": [
    {
     "data": {
      "text/plain": [
       "4"
      ]
     },
     "execution_count": 18,
     "metadata": {},
     "output_type": "execute_result"
    }
   ],
   "source": [
    "careerFair([1, 3, 3, 5, 7], [2, 2, 1, 2, 1])"
   ]
  },
  {
   "cell_type": "code",
   "execution_count": 21,
   "metadata": {},
   "outputs": [
    {
     "name": "stdout",
     "output_type": "stream",
     "text": [
      "1\n"
     ]
    }
   ],
   "source": [
    "print(careerFair([1, 2], [7, 3]))"
   ]
  },
  {
   "cell_type": "code",
   "execution_count": 17,
   "metadata": {},
   "outputs": [],
   "source": [
    "def careerFair(arrival, duration):\n",
    "    interval = []\n",
    "    for i in range(len(arrival)):\n",
    "        interval.append([arrival[i], arrival[i] + duration[i]])\n",
    "    interval.sort(key = lambda x : (x[0], x[1]))\n",
    "    not_working = []\n",
    "    prev = interval[0][1]\n",
    "    for i in range(1, len(interval)):\n",
    "        if interval[i][0] < interval[i-1][1]:\n",
    "            not_working.append(1)\n",
    "    return len(arrival) - len(not_working)"
   ]
  },
  {
   "cell_type": "code",
   "execution_count": 8,
   "metadata": {},
   "outputs": [],
   "source": [
    "i = 10000000"
   ]
  },
  {
   "cell_type": "code",
   "execution_count": 6,
   "metadata": {},
   "outputs": [],
   "source": [
    "b = pow(2,32)"
   ]
  },
  {
   "cell_type": "code",
   "execution_count": 9,
   "metadata": {},
   "outputs": [
    {
     "data": {
      "text/plain": [
       "4284967296"
      ]
     },
     "execution_count": 9,
     "metadata": {},
     "output_type": "execute_result"
    }
   ],
   "source": [
    "b - i"
   ]
  },
  {
   "cell_type": "code",
   "execution_count": 10,
   "metadata": {},
   "outputs": [
    {
     "data": {
      "text/plain": [
       "4294967296"
      ]
     },
     "execution_count": 10,
     "metadata": {},
     "output_type": "execute_result"
    }
   ],
   "source": [
    "b"
   ]
  },
  {
   "cell_type": "code",
   "execution_count": null,
   "metadata": {},
   "outputs": [],
   "source": []
  }
 ],
 "metadata": {
  "kernelspec": {
   "display_name": "Python 3",
   "language": "python",
   "name": "python3"
  },
  "language_info": {
   "codemirror_mode": {
    "name": "ipython",
    "version": 3
   },
   "file_extension": ".py",
   "mimetype": "text/x-python",
   "name": "python",
   "nbconvert_exporter": "python",
   "pygments_lexer": "ipython3",
   "version": "3.7.3"
  }
 },
 "nbformat": 4,
 "nbformat_minor": 2
}
