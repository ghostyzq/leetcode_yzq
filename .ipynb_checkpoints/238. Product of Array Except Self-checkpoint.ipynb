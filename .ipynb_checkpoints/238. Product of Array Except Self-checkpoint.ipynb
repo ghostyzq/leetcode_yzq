{
 "cells": [
  {
   "cell_type": "code",
   "execution_count": 39,
   "metadata": {},
   "outputs": [],
   "source": [
    "class Solution:\n",
    "    def productExceptSelf(self, nums):\n",
    "        if not nums:\n",
    "            return []\n",
    "        if len(nums) <= 2:\n",
    "            nums.reverse()\n",
    "            return nums\n",
    "        forward,backward = [nums[0]],[nums[-1]]\n",
    "        result = []\n",
    "        for i in range(1,len(nums)-1):\n",
    "            forward.append(forward[-1]*nums[i])\n",
    "            backward.append(backward[-1]*nums[len(nums)-i-1])\n",
    "        result.append(backward[-1])\n",
    "        for i in range(1,len(nums)-1):\n",
    "            result.append(forward[i-1]*backward[len(backward)-i-1])\n",
    "        result.append(forward[-1])\n",
    "        return result\n",
    "        "
   ]
  },
  {
   "cell_type": "code",
   "execution_count": 40,
   "metadata": {},
   "outputs": [
    {
     "data": {
      "text/plain": [
       "[24, 12, 8, 6]"
      ]
     },
     "execution_count": 40,
     "metadata": {},
     "output_type": "execute_result"
    }
   ],
   "source": [
    "nums = [1,2,3,4]\n",
    "instance = Solution()\n",
    "instance.productExceptSelf(nums)"
   ]
  },
  {
   "cell_type": "code",
   "execution_count": 41,
   "metadata": {},
   "outputs": [],
   "source": [
    "nums = [0,0]"
   ]
  },
  {
   "cell_type": "code",
   "execution_count": 42,
   "metadata": {},
   "outputs": [],
   "source": [
    "nums.reverse()"
   ]
  },
  {
   "cell_type": "code",
   "execution_count": null,
   "metadata": {},
   "outputs": [],
   "source": []
  }
 ],
 "metadata": {
  "kernelspec": {
   "display_name": "Python 3",
   "language": "python",
   "name": "python3"
  },
  "language_info": {
   "codemirror_mode": {
    "name": "ipython",
    "version": 3
   },
   "file_extension": ".py",
   "mimetype": "text/x-python",
   "name": "python",
   "nbconvert_exporter": "python",
   "pygments_lexer": "ipython3",
   "version": "3.7.3"
  }
 },
 "nbformat": 4,
 "nbformat_minor": 2
}
