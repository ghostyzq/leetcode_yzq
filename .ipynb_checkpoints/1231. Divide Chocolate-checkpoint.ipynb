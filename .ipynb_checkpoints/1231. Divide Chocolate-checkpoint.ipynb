{
 "cells": [
  {
   "cell_type": "code",
   "execution_count": 3,
   "metadata": {},
   "outputs": [],
   "source": [
    "class Solution:\n",
    "    def helper(self,min_sweet):\n",
    "        #greedy\n",
    "        sweet,cut = 0,0\n",
    "        for i in range(len(self.sweetness)):\n",
    "            sweet += self.sweetness[i]\n",
    "            if sweet >= min_sweet:\n",
    "                cut += 1\n",
    "                sweet = 0\n",
    "        return cut >= self.k+1\n",
    "        \n",
    "    def maximizeSweetness(self, sweetness, k: int) -> int:\n",
    "        self.sweetness,self.k = sweetness,k\n",
    "        if k >= len(sweetness):\n",
    "            return 'impossible'\n",
    "        if k == len(sweetness)-1:\n",
    "            return min(sweetness)\n",
    "        start,target = min(sweetness),sum(sweetness)//(k+1)\n",
    "        while start <= target:\n",
    "            # binary search\n",
    "            mid = (start + target) // 2\n",
    "            if self.helper(mid):\n",
    "                if start == mid:\n",
    "                    if self.helper(target):\n",
    "                        return target\n",
    "                    else:\n",
    "                        return start\n",
    "                start = mid\n",
    "            else:\n",
    "                target = mid - 1"
   ]
  },
  {
   "cell_type": "code",
   "execution_count": 4,
   "metadata": {},
   "outputs": [
    {
     "data": {
      "text/plain": [
       "6"
      ]
     },
     "execution_count": 4,
     "metadata": {},
     "output_type": "execute_result"
    }
   ],
   "source": [
    "sweetness = [1,2,3,4,5,6,7,8,9]\n",
    "k = 5\n",
    "instance = Solution()\n",
    "instance.maximizeSweetness(sweetness,k)"
   ]
  },
  {
   "cell_type": "code",
   "execution_count": null,
   "metadata": {},
   "outputs": [],
   "source": []
  }
 ],
 "metadata": {
  "kernelspec": {
   "display_name": "Python 3",
   "language": "python",
   "name": "python3"
  },
  "language_info": {
   "codemirror_mode": {
    "name": "ipython",
    "version": 3
   },
   "file_extension": ".py",
   "mimetype": "text/x-python",
   "name": "python",
   "nbconvert_exporter": "python",
   "pygments_lexer": "ipython3",
   "version": "3.7.3"
  }
 },
 "nbformat": 4,
 "nbformat_minor": 2
}
