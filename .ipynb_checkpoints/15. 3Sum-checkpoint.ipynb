{
 "cells": [
  {
   "cell_type": "code",
   "execution_count": 26,
   "metadata": {},
   "outputs": [],
   "source": [
    "import numpy as np\n",
    "\n",
    "class Solution:\n",
    "    def threeSum(self, nums: []):\n",
    "        result = []\n",
    "        if len(nums) < 3:\n",
    "            return []\n",
    "        nums.sort()\n",
    "        sb = np.zeros(len(nums),dtype=int)\n",
    "        if nums == list(sb):\n",
    "            return [[0,0,0]]\n",
    "        if len(nums) == 3:\n",
    "            if sum(nums) == 0:\n",
    "                return [nums]\n",
    "            else:\n",
    "                return []\n",
    "        for i in range(1,len(nums)-1):\n",
    "            target = -nums[i]\n",
    "            left = 0\n",
    "            right = len(nums)-1\n",
    "            while left < i and right > i:\n",
    "                tmp = nums[left] + nums[right]\n",
    "                if tmp == target:\n",
    "                    tmp_arr = [nums[left],nums[i],nums[right]]\n",
    "                    result.append(tmp_arr)\n",
    "                    left += 1\n",
    "                if tmp > target:\n",
    "                    right -= 1\n",
    "                if tmp < target:\n",
    "                    left += 1\n",
    "        result = sorted(result,key = lambda x : x[0])\n",
    "        result_tmp = []\n",
    "        for j in range(0,len(result)):\n",
    "            try:\n",
    "                if result[j+1] == result[j]:\n",
    "                    pass\n",
    "                else:\n",
    "                    result_tmp.append(result[j])\n",
    "            except:\n",
    "                result_tmp.append(result[j])\n",
    "        return result_tmp           \n",
    "        "
   ]
  },
  {
   "cell_type": "code",
   "execution_count": 28,
   "metadata": {},
   "outputs": [
    {
     "data": {
      "text/plain": [
       "[[-1, -1, 2], [-1, 0, 1]]"
      ]
     },
     "execution_count": 28,
     "metadata": {},
     "output_type": "execute_result"
    }
   ],
   "source": [
    "nums = [-1, 0, 1, 2, -1, -4]\n",
    "instance = Solution()\n",
    "instance.threeSum(nums)"
   ]
  },
  {
   "cell_type": "code",
   "execution_count": null,
   "metadata": {},
   "outputs": [],
   "source": []
  }
 ],
 "metadata": {
  "kernelspec": {
   "display_name": "Python 3",
   "language": "python",
   "name": "python3"
  },
  "language_info": {
   "codemirror_mode": {
    "name": "ipython",
    "version": 3
   },
   "file_extension": ".py",
   "mimetype": "text/x-python",
   "name": "python",
   "nbconvert_exporter": "python",
   "pygments_lexer": "ipython3",
   "version": "3.7.3"
  }
 },
 "nbformat": 4,
 "nbformat_minor": 2
}
