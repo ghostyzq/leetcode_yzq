{
 "cells": [
  {
   "cell_type": "code",
   "execution_count": 16,
   "metadata": {},
   "outputs": [],
   "source": [
    "class Solution:\n",
    "    def bfs(self,grid,i,j):\n",
    "        queue = []\n",
    "        queue.append((i,j))\n",
    "        while queue:\n",
    "            i, j = queue.pop(0) \n",
    "            if i+1<len(grid) and grid[i+1][j] == '1':\n",
    "                queue.append((i+1, j))\n",
    "                self.grid[i+1][j] = '0'\n",
    "            if i-1>=0 and grid[i-1][j] == '1':\n",
    "                queue.append((i-1, j))\n",
    "                self.grid[i-1][j] = '0'\n",
    "            if j+1<len(grid[0]) and grid[i][j+1] == '1':\n",
    "                queue.append((i, j+1))\n",
    "                self.grid[i][j+1] = '0'\n",
    "            if j-1>=0 and grid[i][j-1] == '1':\n",
    "                queue.append((i, j-1))\n",
    "                self.grid[i][j-1] = '0'\n",
    "        \n",
    "        \n",
    "    def numIslands(self, grid):\n",
    "        if not grid:\n",
    "            return 0 \n",
    "        result = 0\n",
    "        self.grid = grid\n",
    "        for i in range(len(grid)):\n",
    "            for j in range(len(grid[0])):\n",
    "                if self.grid[i][j] == '1':\n",
    "                    self.grid[i][j] = '0'\n",
    "                    self.bfs(grid,i,j)\n",
    "                    result += 1 \n",
    "        return result"
   ]
  },
  {
   "cell_type": "code",
   "execution_count": 17,
   "metadata": {},
   "outputs": [
    {
     "data": {
      "text/plain": [
       "1"
      ]
     },
     "execution_count": 17,
     "metadata": {},
     "output_type": "execute_result"
    }
   ],
   "source": [
    "grid = [[\"1\",\"1\",\"1\",\"1\",\"0\"],[\"1\",\"1\",\"0\",\"1\",\"0\"],[\"1\",\"1\",\"0\",\"0\",\"0\"],[\"0\",\"0\",\"0\",\"0\",\"0\"]]\n",
    "grid = [['1']]\n",
    "instance = Solution()\n",
    "instance.numIslands(grid)"
   ]
  },
  {
   "cell_type": "code",
   "execution_count": null,
   "metadata": {},
   "outputs": [],
   "source": []
  },
  {
   "cell_type": "code",
   "execution_count": null,
   "metadata": {},
   "outputs": [],
   "source": []
  }
 ],
 "metadata": {
  "kernelspec": {
   "display_name": "Python 3",
   "language": "python",
   "name": "python3"
  },
  "language_info": {
   "codemirror_mode": {
    "name": "ipython",
    "version": 3
   },
   "file_extension": ".py",
   "mimetype": "text/x-python",
   "name": "python",
   "nbconvert_exporter": "python",
   "pygments_lexer": "ipython3",
   "version": "3.7.3"
  }
 },
 "nbformat": 4,
 "nbformat_minor": 2
}
