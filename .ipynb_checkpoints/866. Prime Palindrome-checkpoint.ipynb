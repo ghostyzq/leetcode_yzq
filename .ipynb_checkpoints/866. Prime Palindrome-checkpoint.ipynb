{
 "cells": [
  {
   "cell_type": "code",
   "execution_count": 1,
   "metadata": {},
   "outputs": [],
   "source": [
    "class Solution:\n",
    "    def is_prime(self,number):\n",
    "        if number == 1:\n",
    "            return False\n",
    "        if number == 2:\n",
    "            return True\n",
    "        k = 2\n",
    "        while k < number:\n",
    "            if number / k == number //k:\n",
    "                return False\n",
    "            k += 1\n",
    "        return True\n",
    "    \n",
    "    def is_palindrome(self,number):\n",
    "        if len(number) == 1:\n",
    "            return True\n",
    "        else:\n",
    "            left = 0\n",
    "            right = len(number)-1\n",
    "        while left < right:\n",
    "            if number[left] != number[right]:\n",
    "                return False\n",
    "            left += 1\n",
    "            right -= 1\n",
    "        return True\n",
    "        \n",
    "    def primePalindrome(self, N: int) -> int:\n",
    "        if N == 2:\n",
    "            return 2\n",
    "        result = N\n",
    "        while result < 2 * pow(10,8):\n",
    "            if self.is_palindrome(str(result)) and self.is_prime(result):\n",
    "                return result\n",
    "            result += 1\n",
    "        return False\n",
    "        "
   ]
  },
  {
   "cell_type": "code",
   "execution_count": 3,
   "metadata": {},
   "outputs": [
    {
     "data": {
      "text/plain": [
       "7521257"
      ]
     },
     "execution_count": 3,
     "metadata": {},
     "output_type": "execute_result"
    }
   ],
   "source": [
    "instance = Solution()\n",
    "instance.primePalindrome(7519158)"
   ]
  },
  {
   "cell_type": "code",
   "execution_count": null,
   "metadata": {},
   "outputs": [],
   "source": []
  }
 ],
 "metadata": {
  "kernelspec": {
   "display_name": "Python 3",
   "language": "python",
   "name": "python3"
  },
  "language_info": {
   "codemirror_mode": {
    "name": "ipython",
    "version": 3
   },
   "file_extension": ".py",
   "mimetype": "text/x-python",
   "name": "python",
   "nbconvert_exporter": "python",
   "pygments_lexer": "ipython3",
   "version": "3.7.3"
  }
 },
 "nbformat": 4,
 "nbformat_minor": 2
}
