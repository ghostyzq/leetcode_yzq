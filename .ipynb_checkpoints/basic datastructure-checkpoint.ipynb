{
 "cells": [
  {
   "cell_type": "code",
   "execution_count": 6,
   "metadata": {},
   "outputs": [],
   "source": [
    "class HashMap(object):\n",
    "    def __init__(self):\n",
    "        self.hashmap = [[] for i in range(256)]\n",
    "        self.size = 0\n",
    "\n",
    "    def insert(self, key, value):\n",
    "        hash_key = hash(key) % 256\n",
    "        key_exists = False\n",
    "        bucket = self.hashmap[hash_key]\n",
    "        for i, kv in enumerate(bucket):\n",
    "            k, v = kv\n",
    "            if key == k:\n",
    "                key_exists = True\n",
    "                break\n",
    "        if key_exists:\n",
    "            bucket[i] = ((key, value))\n",
    "        else:\n",
    "            bucket.append((key,value))\n",
    "            self.size += 1\n",
    "        \n",
    "    \n",
    "    def get(self, key):\n",
    "        hash_key = hash(key) % 256\n",
    "        bucket = self.hashmap[hash_key]\n",
    "        for i, kv in enumerate(bucket):\n",
    "            k, v = kv\n",
    "            return v\n",
    "        raise KeyError\n",
    "    \n",
    "    def remove(self,key):\n",
    "        hash_key = hash(key) % 256\n",
    "        key_exists = False\n",
    "        bucket = self.hashmap[hash_key]\n",
    "        tmpi = 0\n",
    "        try:\n",
    "            for i, kv in enumerate(bucket):\n",
    "                k, v = kv\n",
    "                if key == k:\n",
    "                    key_exists = True\n",
    "                    tmpi = i\n",
    "                    break\n",
    "            if key_exists == True:\n",
    "                self.hashmap[hash_key][i] = None\n",
    "                self.size -= 1\n",
    "                return 'remove successfully'\n",
    "        except:\n",
    "                return 'not in hashmap'"
   ]
  },
  {
   "cell_type": "code",
   "execution_count": 8,
   "metadata": {},
   "outputs": [
    {
     "data": {
      "text/plain": [
       "1"
      ]
     },
     "execution_count": 8,
     "metadata": {},
     "output_type": "execute_result"
    }
   ],
   "source": [
    "instance = HashMap()\n",
    "instance.insert(1,2)\n",
    "instance.insert('1',2)\n",
    "instance.remove('1')\n",
    "instance.size\n",
    "#instance.get('1')"
   ]
  },
  {
   "cell_type": "code",
   "execution_count": 7,
   "metadata": {},
   "outputs": [],
   "source": [
    "class queue(object):\n",
    "    def __init__(self):\n",
    "        self.size = 0\n",
    "        self.element = []\n",
    "    \n",
    "    def pop(self):\n",
    "        if self.size >=1 :\n",
    "            self.element.pop()\n",
    "            self.size -= 1\n",
    "            \n",
    "    def push(self,value):\n",
    "        self.element.append(value)\n",
    "        self.size += 1"
   ]
  },
  {
   "cell_type": "code",
   "execution_count": 8,
   "metadata": {},
   "outputs": [
    {
     "data": {
      "text/plain": [
       "1"
      ]
     },
     "execution_count": 8,
     "metadata": {},
     "output_type": "execute_result"
    }
   ],
   "source": [
    "queue_instance = queue()\n",
    "queue_instance.push(1)\n",
    "queue_instance.push(2)\n",
    "queue_instance.pop()\n",
    "queue_instance.size"
   ]
  },
  {
   "cell_type": "code",
   "execution_count": 10,
   "metadata": {},
   "outputs": [],
   "source": [
    "class stack(object):\n",
    "    def __init__(self):\n",
    "        self.size = 0\n",
    "        self.element = []\n",
    "    \n",
    "    def pop(self):\n",
    "        if self.size >=1 :\n",
    "            self.element.pop(0)\n",
    "            self.size -= 1\n",
    "            \n",
    "    def push(self,value):\n",
    "        self.element.append(value)\n",
    "        self.size += 1"
   ]
  },
  {
   "cell_type": "code",
   "execution_count": 11,
   "metadata": {},
   "outputs": [
    {
     "name": "stdout",
     "output_type": "stream",
     "text": [
      "[2]\n"
     ]
    }
   ],
   "source": [
    "stack_instance = stack()\n",
    "stack_instance.push(1)\n",
    "stack_instance.push(2)\n",
    "stack_instance.pop()\n",
    "stack_instance.size\n",
    "print(stack_instance.element)"
   ]
  },
  {
   "cell_type": "code",
   "execution_count": 13,
   "metadata": {},
   "outputs": [],
   "source": [
    "class Node(object):\n",
    "    def __init__(self,val):\n",
    "        self.val = val\n",
    "        self.next = None"
   ]
  },
  {
   "cell_type": "code",
   "execution_count": 14,
   "metadata": {},
   "outputs": [],
   "source": [
    "class TreeNode(object):\n",
    "    def __init__(self,val):\n",
    "        self.val = val\n",
    "        self.left = None\n",
    "        self.right = None"
   ]
  },
  {
   "cell_type": "code",
   "execution_count": 15,
   "metadata": {},
   "outputs": [],
   "source": [
    "Node1 = TreeNode(1)"
   ]
  },
  {
   "cell_type": "code",
   "execution_count": 16,
   "metadata": {},
   "outputs": [],
   "source": [
    "Node2_left = TreeNode(2)"
   ]
  },
  {
   "cell_type": "code",
   "execution_count": 17,
   "metadata": {},
   "outputs": [],
   "source": [
    "Node1.left = Node2_left"
   ]
  },
  {
   "cell_type": "code",
   "execution_count": 4,
   "metadata": {},
   "outputs": [],
   "source": [
    "def my_hash(key):\n",
    "    if type(key) is int:\n",
    "        return key\n",
    "    mysum = 1\n",
    "    for pos in range(len(key)):\n",
    "        mysum = mysum * ord(key[pos])\n",
    "    return mysum"
   ]
  },
  {
   "cell_type": "code",
   "execution_count": 6,
   "metadata": {},
   "outputs": [
    {
     "data": {
      "text/plain": [
       "1"
      ]
     },
     "execution_count": 6,
     "metadata": {},
     "output_type": "execute_result"
    }
   ],
   "source": [
    "my_hash(1)"
   ]
  },
  {
   "cell_type": "code",
   "execution_count": 1,
   "metadata": {},
   "outputs": [],
   "source": [
    "class PriorityQueue(object): \n",
    "    def __init__(self): \n",
    "        self.queue = [] \n",
    "  \n",
    "    def __str__(self): \n",
    "        return ' '.join([str(i) for i in self.queue]) \n",
    "  \n",
    "    # for checking if the queue is empty \n",
    "    def isEmpty(self):\n",
    "        if self.queue:\n",
    "            return False\n",
    "        return True\n",
    "  \n",
    "    # for inserting an element in the queue \n",
    "    def insert(self, data): \n",
    "        self.queue.append(data) \n",
    "  \n",
    "    # for popping an element based on Priority \n",
    "    def delete(self): \n",
    "        try: \n",
    "            max = 0\n",
    "            for i in range(len(self.queue)): \n",
    "                if self.queue[i] > self.queue[max]: \n",
    "                    max = i \n",
    "            item = self.queue[max] \n",
    "            del self.queue[max] \n",
    "            return item \n",
    "        except IndexError: \n",
    "            print() \n",
    "            exit() \n",
    "\n",
    "            \n",
    "myQueue = PriorityQueue() \n",
    "myQueue.insert(12) \n",
    "myQueue.insert(1) \n",
    "myQueue.insert(14) \n",
    "myQueue.insert(7) "
   ]
  },
  {
   "cell_type": "code",
   "execution_count": 2,
   "metadata": {},
   "outputs": [
    {
     "name": "stdout",
     "output_type": "stream",
     "text": [
      "12 1 14 7\n"
     ]
    }
   ],
   "source": [
    "print(myQueue)"
   ]
  },
  {
   "cell_type": "code",
   "execution_count": 3,
   "metadata": {},
   "outputs": [
    {
     "name": "stdout",
     "output_type": "stream",
     "text": [
      "14\n",
      "12\n",
      "7\n",
      "1\n"
     ]
    }
   ],
   "source": [
    "while not myQueue.isEmpty(): \n",
    "    print(myQueue.delete()) "
   ]
  },
  {
   "cell_type": "code",
   "execution_count": null,
   "metadata": {},
   "outputs": [],
   "source": [
    "len([])"
   ]
  },
  {
   "cell_type": "code",
   "execution_count": null,
   "metadata": {},
   "outputs": [],
   "source": []
  }
 ],
 "metadata": {
  "kernelspec": {
   "display_name": "Python 3",
   "language": "python",
   "name": "python3"
  },
  "language_info": {
   "codemirror_mode": {
    "name": "ipython",
    "version": 3
   },
   "file_extension": ".py",
   "mimetype": "text/x-python",
   "name": "python",
   "nbconvert_exporter": "python",
   "pygments_lexer": "ipython3",
   "version": "3.7.3"
  }
 },
 "nbformat": 4,
 "nbformat_minor": 2
}
