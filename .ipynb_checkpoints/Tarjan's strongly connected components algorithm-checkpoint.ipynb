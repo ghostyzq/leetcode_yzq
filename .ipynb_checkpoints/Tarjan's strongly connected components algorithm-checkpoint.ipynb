{
 "cells": [
  {
   "cell_type": "markdown",
   "metadata": {},
   "source": [
    "algorithm tarjan is\n",
    "    input: graph G = (V, E)\n",
    "    output: set of strongly connected components (sets of vertices)\n",
    "   \n",
    "    index := 0\n",
    "    S := empty stack\n",
    "    for each v in V do\n",
    "        if v.index is undefined then\n",
    "            strongconnect(v)\n",
    "        end if\n",
    "    end for\n",
    "   \n",
    "    function strongconnect(v)\n",
    "        // Set the depth index for v to the smallest unused index\n",
    "        v.index := index\n",
    "        v.lowlink := index\n",
    "        index := index + 1\n",
    "        S.push(v)\n",
    "        v.onStack := true\n",
    "      \n",
    "        // Consider successors of v\n",
    "        for each (v, w) in E do\n",
    "            if w.index is undefined then\n",
    "                // Successor w has not yet been visited; recurse on it\n",
    "                strongconnect(w)\n",
    "                v.lowlink := min(v.lowlink, w.lowlink)\n",
    "            else if w.onStack then\n",
    "                // Successor w is in stack S and hence in the current SCC\n",
    "                // If w is not on stack, then (v, w) is a cross-edge in the DFS tree and must be ignored\n",
    "                // Note: The next line may look odd - but is correct.\n",
    "                // It says w.index not w.lowlink; that is deliberate and from the original paper\n",
    "                v.lowlink := min(v.lowlink, w.index)\n",
    "            end if\n",
    "        end for\n",
    "      \n",
    "        // If v is a root node, pop the stack and generate an SCC\n",
    "        if v.lowlink = v.index then\n",
    "            start a new strongly connected component\n",
    "            repeat\n",
    "                w := S.pop()\n",
    "                w.onStack := false\n",
    "                add w to current strongly connected component\n",
    "            while w ≠ v\n",
    "            output the current strongly connected component\n",
    "        end if\n",
    "    end function"
   ]
  }
 ],
 "metadata": {
  "kernelspec": {
   "display_name": "Python 3",
   "language": "python",
   "name": "python3"
  },
  "language_info": {
   "codemirror_mode": {
    "name": "ipython",
    "version": 3
   },
   "file_extension": ".py",
   "mimetype": "text/x-python",
   "name": "python",
   "nbconvert_exporter": "python",
   "pygments_lexer": "ipython3",
   "version": "3.7.3"
  }
 },
 "nbformat": 4,
 "nbformat_minor": 2
}
