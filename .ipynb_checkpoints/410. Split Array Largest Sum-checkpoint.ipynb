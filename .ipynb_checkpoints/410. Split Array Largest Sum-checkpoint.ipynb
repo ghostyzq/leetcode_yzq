{
 "cells": [
  {
   "cell_type": "code",
   "execution_count": 2,
   "metadata": {},
   "outputs": [],
   "source": [
    "class Solution:\n",
    "    def minimumMoves(self, arr) -> int:\n",
    "        if not arr or not arr[0]:\n",
    "            return 0\n",
    "        dp = [[0 for i in range(len(arr))] for j in range(len(arr))]\n",
    "        for i in range(len(arr)-1,-1,-1):\n",
    "            for j in range(i,len(arr)):\n",
    "                if i == j:\n",
    "                    dp[i][j] = 1\n",
    "                elif i+1 == j:\n",
    "                    if arr[i] == arr[j]: # case : 121 131\n",
    "                        dp[i][j] = 1\n",
    "                    else:\n",
    "                        dp[i][j] = 2 # case: 123\n",
    "                else:\n",
    "                    dp[i][j] = min(dp[i][j-1]+1,dp[i+1][j]+1,dp[i+1][j-1] + (0 if arr[i] == arr[j] else 2))\n",
    "                    #   case : 11112,21111    12221 or 12223\n",
    "                    for k in range(i,j):\n",
    "                        dp[i][j] = min(dp[i][k]+dp[k+1][j],dp[i][j])\n",
    "        return dp[0][-1]"
   ]
  },
  {
   "cell_type": "code",
   "execution_count": 3,
   "metadata": {},
   "outputs": [
    {
     "data": {
      "text/plain": [
       "1"
      ]
     },
     "execution_count": 3,
     "metadata": {},
     "output_type": "execute_result"
    }
   ],
   "source": [
    "arr = [1,2,1]\n",
    "instance = Solution()\n",
    "instance.minimumMoves(arr)"
   ]
  },
  {
   "cell_type": "code",
   "execution_count": null,
   "metadata": {},
   "outputs": [],
   "source": []
  }
 ],
 "metadata": {
  "kernelspec": {
   "display_name": "Python 3",
   "language": "python",
   "name": "python3"
  },
  "language_info": {
   "codemirror_mode": {
    "name": "ipython",
    "version": 3
   },
   "file_extension": ".py",
   "mimetype": "text/x-python",
   "name": "python",
   "nbconvert_exporter": "python",
   "pygments_lexer": "ipython3",
   "version": "3.7.3"
  }
 },
 "nbformat": 4,
 "nbformat_minor": 2
}
