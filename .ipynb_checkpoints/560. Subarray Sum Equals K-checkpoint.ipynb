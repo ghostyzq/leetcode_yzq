{
 "cells": [
  {
   "cell_type": "code",
   "execution_count": 2,
   "metadata": {},
   "outputs": [],
   "source": [
    "class Solution:\n",
    "    def subarraySum(self, nums, k) -> int:\n",
    "        start_point = 0\n",
    "        end_point = 1\n",
    "        if not nums:\n",
    "            return 0\n",
    "        if len(nums) == 1:\n",
    "            if nums[0] == k:\n",
    "                return 1\n",
    "            else:\n",
    "                return 0\n",
    "        sub_sum = nums[0] + nums[1]\n",
    "        result = 0\n",
    "        while end_point <= len(nums):\n",
    "            if sub_sum == k:\n",
    "                print('equal')\n",
    "                result = result+1\n",
    "                end_point += 1\n",
    "                if end_point > len(nums)-1:\n",
    "                    break\n",
    "                sub_sum += nums[end_point]\n",
    "            elif sub_sum < k:\n",
    "                print('smaller')\n",
    "                end_point += 1\n",
    "                if end_point > len(nums)-1:\n",
    "                    break\n",
    "                sub_sum += nums[end_point]\n",
    "            elif sub_sum > k:\n",
    "                print('bigger')\n",
    "                start_point += 1\n",
    "                if start_point == end_point:\n",
    "                    end_point += 1\n",
    "                sub_sum -= nums[start_point-1]\n",
    "            print(sub_sum)\n",
    "        return result\n",
    "                \n",
    "                \n",
    "        "
   ]
  },
  {
   "cell_type": "code",
   "execution_count": 3,
   "metadata": {},
   "outputs": [
    {
     "name": "stdout",
     "output_type": "stream",
     "text": [
      "equal\n",
      "3\n",
      "bigger\n",
      "2\n",
      "equal\n"
     ]
    },
    {
     "data": {
      "text/plain": [
       "2"
      ]
     },
     "execution_count": 3,
     "metadata": {},
     "output_type": "execute_result"
    }
   ],
   "source": [
    "nums = [1,1,1]\n",
    "k = 2\n",
    "instance = Solution()\n",
    "instance.subarraySum(nums,k)"
   ]
  },
  {
   "cell_type": "code",
   "execution_count": null,
   "metadata": {},
   "outputs": [],
   "source": []
  }
 ],
 "metadata": {
  "kernelspec": {
   "display_name": "Python 3",
   "language": "python",
   "name": "python3"
  },
  "language_info": {
   "codemirror_mode": {
    "name": "ipython",
    "version": 3
   },
   "file_extension": ".py",
   "mimetype": "text/x-python",
   "name": "python",
   "nbconvert_exporter": "python",
   "pygments_lexer": "ipython3",
   "version": "3.7.3"
  }
 },
 "nbformat": 4,
 "nbformat_minor": 2
}
