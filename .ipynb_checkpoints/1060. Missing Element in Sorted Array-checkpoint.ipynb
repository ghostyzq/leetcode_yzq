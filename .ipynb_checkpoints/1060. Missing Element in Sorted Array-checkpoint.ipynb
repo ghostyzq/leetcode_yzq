{
 "cells": [
  {
   "cell_type": "code",
   "execution_count": 7,
   "metadata": {},
   "outputs": [],
   "source": [
    "class Solution:\n",
    "    def missingElement(self, nums, k):\n",
    "        if not nums:\n",
    "            return None\n",
    "        next_pointer = 1 #start searching from nums[1]\n",
    "        while nums[0] + k >= nums[next_pointer] and next_pointer < len(nums)-1:\n",
    "            k += 1 # it take 1 more missing number \n",
    "            next_pointer += 1 # see whether next one meet the requirement\n",
    "        if next_pointer == len(nums) - 1:\n",
    "            k += 1\n",
    "        return nums[0] + k\n",
    "            "
   ]
  },
  {
   "cell_type": "code",
   "execution_count": 8,
   "metadata": {},
   "outputs": [
    {
     "data": {
      "text/plain": [
       "8"
      ]
     },
     "execution_count": 8,
     "metadata": {},
     "output_type": "execute_result"
    }
   ],
   "source": [
    "A = [4,7,9,10]\n",
    "K = 3\n",
    "instance = Solution()\n",
    "instance.missingElement(A,K)"
   ]
  },
  {
   "cell_type": "code",
   "execution_count": null,
   "metadata": {},
   "outputs": [],
   "source": []
  }
 ],
 "metadata": {
  "kernelspec": {
   "display_name": "Python 3",
   "language": "python",
   "name": "python3"
  },
  "language_info": {
   "codemirror_mode": {
    "name": "ipython",
    "version": 3
   },
   "file_extension": ".py",
   "mimetype": "text/x-python",
   "name": "python",
   "nbconvert_exporter": "python",
   "pygments_lexer": "ipython3",
   "version": "3.7.3"
  }
 },
 "nbformat": 4,
 "nbformat_minor": 2
}
