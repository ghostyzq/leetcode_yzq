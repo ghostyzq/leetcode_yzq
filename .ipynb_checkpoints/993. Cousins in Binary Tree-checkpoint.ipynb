{
 "cells": [
  {
   "cell_type": "code",
   "execution_count": null,
   "metadata": {},
   "outputs": [],
   "source": [
    "class Solution:\n",
    "    def isCousins(self, root: TreeNode, x: int, y: int) -> bool:\n",
    "        queue = []\n",
    "        heightx,heighty = 0,0\n",
    "        parrentx,parrenty = 0,0\n",
    "        queue.append((root,0,root.val))\n",
    "        while queue:\n",
    "            vertex,height,parrent = queue.pop(0)\n",
    "            if vertex.val == x :\n",
    "                heightx = height\n",
    "                parrentx = parrent\n",
    "            if vertex.val == y :\n",
    "                heighty = height\n",
    "                parrenty = parrent\n",
    "            if heighty != 0 and heightx != 0:\n",
    "                break\n",
    "            if vertex.left:\n",
    "                queue.append((vertex.left,height+1,vertex))\n",
    "            if vertex.right:\n",
    "                queue.append((vertex.right,height+1,vertex))\n",
    "        if heightx == 1 and heighty == 1:\n",
    "            return False\n",
    "        return (heightx == heighty) and (parrentx != parrenty)\n",
    "        "
   ]
  }
 ],
 "metadata": {
  "kernelspec": {
   "display_name": "Python 3",
   "language": "python",
   "name": "python3"
  },
  "language_info": {
   "codemirror_mode": {
    "name": "ipython",
    "version": 3
   },
   "file_extension": ".py",
   "mimetype": "text/x-python",
   "name": "python",
   "nbconvert_exporter": "python",
   "pygments_lexer": "ipython3",
   "version": "3.7.3"
  }
 },
 "nbformat": 4,
 "nbformat_minor": 2
}
