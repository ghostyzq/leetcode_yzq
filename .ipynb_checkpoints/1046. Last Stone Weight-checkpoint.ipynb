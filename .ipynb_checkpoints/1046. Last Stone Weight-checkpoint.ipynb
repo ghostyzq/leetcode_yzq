{
 "cells": [
  {
   "cell_type": "code",
   "execution_count": 1,
   "metadata": {},
   "outputs": [],
   "source": [
    "class Solution:\n",
    "    def lastStoneWeight(self, stones) -> int:\n",
    "        if not stones:\n",
    "            return []\n",
    "        stones.sort()\n",
    "        if len(stones) == 1:\n",
    "            return stones[0]\n",
    "        while len(stones)>=3:\n",
    "            greater = stones.pop()\n",
    "            smaller = stones.pop()\n",
    "            stones.append(greater-smaller)\n",
    "            stones.sort()\n",
    "        return stones[1]-stones[0]"
   ]
  },
  {
   "cell_type": "code",
   "execution_count": 2,
   "metadata": {},
   "outputs": [
    {
     "data": {
      "text/plain": [
       "1"
      ]
     },
     "execution_count": 2,
     "metadata": {},
     "output_type": "execute_result"
    }
   ],
   "source": [
    "stones = [2,7,4,1,8,1]\n",
    "instance = Solution()\n",
    "instance.lastStoneWeight(stones)"
   ]
  },
  {
   "cell_type": "code",
   "execution_count": null,
   "metadata": {},
   "outputs": [],
   "source": []
  }
 ],
 "metadata": {
  "kernelspec": {
   "display_name": "Python 3",
   "language": "python",
   "name": "python3"
  },
  "language_info": {
   "codemirror_mode": {
    "name": "ipython",
    "version": 3
   },
   "file_extension": ".py",
   "mimetype": "text/x-python",
   "name": "python",
   "nbconvert_exporter": "python",
   "pygments_lexer": "ipython3",
   "version": "3.7.3"
  }
 },
 "nbformat": 4,
 "nbformat_minor": 2
}
