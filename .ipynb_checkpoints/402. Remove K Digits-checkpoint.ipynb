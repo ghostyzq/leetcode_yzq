{
 "cells": [
  {
   "cell_type": "code",
   "execution_count": 1,
   "metadata": {},
   "outputs": [],
   "source": [
    "class Solution:\n",
    "    def removeKdigits(self, num: str, k: int) -> str:\n",
    "        if len(num) <= k:\n",
    "            return '0'\n",
    "        stack = []\n",
    "        for digit in num:\n",
    "            while k and stack and stack[-1] > int(digit):\n",
    "                stack.pop()\n",
    "                k -=1\n",
    "            stack.append(int(digit))\n",
    "        if k > 0:\n",
    "            stack = stack[:-k]\n",
    "        output = ''\n",
    "        for digit in stack:\n",
    "            if output == '' and digit == 0:\n",
    "                continue\n",
    "            else:\n",
    "                output += str(digit)\n",
    "        if output == '':\n",
    "            return '0'\n",
    "        return output"
   ]
  },
  {
   "cell_type": "code",
   "execution_count": 2,
   "metadata": {},
   "outputs": [
    {
     "data": {
      "text/plain": [
       "'200'"
      ]
     },
     "execution_count": 2,
     "metadata": {},
     "output_type": "execute_result"
    }
   ],
   "source": [
    "instance = Solution()\n",
    "num = \"10200\"\n",
    "k = 1\n",
    "instance.removeKdigits(num,k)"
   ]
  },
  {
   "cell_type": "code",
   "execution_count": null,
   "metadata": {},
   "outputs": [],
   "source": []
  }
 ],
 "metadata": {
  "kernelspec": {
   "display_name": "Python 3",
   "language": "python",
   "name": "python3"
  },
  "language_info": {
   "codemirror_mode": {
    "name": "ipython",
    "version": 3
   },
   "file_extension": ".py",
   "mimetype": "text/x-python",
   "name": "python",
   "nbconvert_exporter": "python",
   "pygments_lexer": "ipython3",
   "version": "3.7.3"
  }
 },
 "nbformat": 4,
 "nbformat_minor": 2
}
