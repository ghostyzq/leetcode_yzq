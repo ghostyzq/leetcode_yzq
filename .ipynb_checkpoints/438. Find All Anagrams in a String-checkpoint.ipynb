{
 "cells": [
  {
   "cell_type": "code",
   "execution_count": 40,
   "metadata": {},
   "outputs": [],
   "source": [
    "class Solution:\n",
    "    def findAnagrams(self, s: str, p: str):\n",
    "        if len(s)<len(p):\n",
    "            return []\n",
    "        left,right = 0,len(p)\n",
    "        output = []\n",
    "        target,cache = dict(),dict()\n",
    "        for letter in p:\n",
    "            if letter not in cache:\n",
    "                cache[letter] = 0\n",
    "            if letter not in target:\n",
    "                target[letter] = 1\n",
    "            else:\n",
    "                target[letter] += 1\n",
    "        for letter in s[left:right]:\n",
    "            if letter not in cache:\n",
    "                continue\n",
    "            else:\n",
    "                cache[letter] += 1\n",
    "        while right<=len(s):\n",
    "            if target == cache:\n",
    "                output.append(left)\n",
    "            if right < len(s) and s[right] in cache:\n",
    "                cache[s[right]] += 1\n",
    "            if s[left] in cache:\n",
    "                cache[s[left]] -= 1\n",
    "            left += 1\n",
    "            right += 1\n",
    "        return output"
   ]
  },
  {
   "cell_type": "code",
   "execution_count": 41,
   "metadata": {},
   "outputs": [
    {
     "data": {
      "text/plain": [
       "[1]"
      ]
     },
     "execution_count": 41,
     "metadata": {},
     "output_type": "execute_result"
    }
   ],
   "source": [
    "instance = Solution()\n",
    "s,p = 'baa','aa'\n",
    "instance.findAnagrams(s,p)"
   ]
  },
  {
   "cell_type": "code",
   "execution_count": null,
   "metadata": {},
   "outputs": [],
   "source": []
  }
 ],
 "metadata": {
  "kernelspec": {
   "display_name": "Python 3",
   "language": "python",
   "name": "python3"
  },
  "language_info": {
   "codemirror_mode": {
    "name": "ipython",
    "version": 3
   },
   "file_extension": ".py",
   "mimetype": "text/x-python",
   "name": "python",
   "nbconvert_exporter": "python",
   "pygments_lexer": "ipython3",
   "version": "3.7.3"
  }
 },
 "nbformat": 4,
 "nbformat_minor": 2
}
