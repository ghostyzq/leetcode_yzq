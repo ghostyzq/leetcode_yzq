{
 "cells": [
  {
   "cell_type": "code",
   "execution_count": 13,
   "metadata": {},
   "outputs": [],
   "source": [
    "class Solution:\n",
    "    def searchMatrix(self, matrix, target):\n",
    "        \"\"\"\n",
    "        :type matrix: List[List[int]]\n",
    "        :type target: int\n",
    "        :rtype: bool\n",
    "        \"\"\"\n",
    "        queue = []\n",
    "        if matrix: #test whether the input is empty shit\n",
    "            queue.append([[0],[0]])\n",
    "        if len(matrix) == 1:\n",
    "            if target in matrix[0]:\n",
    "                return True\n",
    "            else:\n",
    "                return False\n",
    "        print(len(matrix))\n",
    "        visited = []\n",
    "        while queue:\n",
    "            j_change = 0\n",
    "            vertex = queue.pop(0)\n",
    "            #print(vertex)\n",
    "            j = vertex[0][0]\n",
    "            i = vertex[1][0]\n",
    "            visited.append(vertex)\n",
    "            if matrix[j][i] == target:\n",
    "                return True\n",
    "            if i < len(matrix[0])-1 and j < len(matrix)-1:\n",
    "                if [[j+1],[i+1]] not in visited and [[j+1],[i+1]] not in queue:\n",
    "                    queue.append([[j+1],[i+1]])\n",
    "            if j < len(matrix)-1:\n",
    "                if [[j+1],[i]] not in visited and [[j+1],[i]] not in queue:\n",
    "                    queue.append([[j+1],[i]])\n",
    "            if i < len(matrix[0])-1: \n",
    "                if [[j],[i+1]] not in visited and [[j],[i+1]] not in queue:\n",
    "                    queue.append([[j],[i+1]])\n",
    "                    #print([[i],[i+1]])\n",
    "        return False\n",
    "        "
   ]
  },
  {
   "cell_type": "code",
   "execution_count": 11,
   "metadata": {},
   "outputs": [
    {
     "name": "stdout",
     "output_type": "stream",
     "text": [
      "2\n"
     ]
    }
   ],
   "source": [
    "a = []\n",
    "if 1 not in a:\n",
    "    print(2)"
   ]
  },
  {
   "cell_type": "code",
   "execution_count": null,
   "metadata": {},
   "outputs": [],
   "source": []
  }
 ],
 "metadata": {
  "kernelspec": {
   "display_name": "Python 3",
   "language": "python",
   "name": "python3"
  },
  "language_info": {
   "codemirror_mode": {
    "name": "ipython",
    "version": 3
   },
   "file_extension": ".py",
   "mimetype": "text/x-python",
   "name": "python",
   "nbconvert_exporter": "python",
   "pygments_lexer": "ipython3",
   "version": "3.7.3"
  }
 },
 "nbformat": 4,
 "nbformat_minor": 2
}
