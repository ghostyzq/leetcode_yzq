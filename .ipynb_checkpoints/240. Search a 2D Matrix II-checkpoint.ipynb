{
 "cells": [
  {
   "cell_type": "code",
   "execution_count": 13,
   "metadata": {},
   "outputs": [],
   "source": [
    "class Solution:\n",
    "    def searchMatrix(self, matrix, target):\n",
    "        \"\"\"\n",
    "        :type matrix: List[List[int]]\n",
    "        :type target: int\n",
    "        :rtype: bool\n",
    "        \"\"\"\n",
    "        queue = []\n",
    "        if matrix: #test whether the input is empty shit\n",
    "            queue.append([[0],[0]])\n",
    "        if len(matrix) == 1:\n",
    "            if target in matrix[0]:\n",
    "                return True\n",
    "            else:\n",
    "                return False\n",
    "        print(len(matrix))\n",
    "        visited = []\n",
    "        while queue:\n",
    "            j_change = 0\n",
    "            vertex = queue.pop(0)\n",
    "            #print(vertex)\n",
    "            j = vertex[0][0]\n",
    "            i = vertex[1][0]\n",
    "            visited.append(vertex)\n",
    "            if matrix[j][i] == target:\n",
    "                return True\n",
    "            if i < len(matrix[0])-1 and j < len(matrix)-1:\n",
    "                if [[j+1],[i+1]] not in visited and [[j+1],[i+1]] not in queue:\n",
    "                    queue.append([[j+1],[i+1]])\n",
    "            if j < len(matrix)-1:\n",
    "                if [[j+1],[i]] not in visited and [[j+1],[i]] not in queue:\n",
    "                    queue.append([[j+1],[i]])\n",
    "            if i < len(matrix[0])-1: \n",
    "                if [[j],[i+1]] not in visited and [[j],[i+1]] not in queue:\n",
    "                    queue.append([[j],[i+1]])\n",
    "                    #print([[i],[i+1]])\n",
    "        return False\n",
    "        "
   ]
  },
  {
   "cell_type": "code",
   "execution_count": 11,
   "metadata": {},
   "outputs": [
    {
     "name": "stdout",
     "output_type": "stream",
     "text": [
      "2\n"
     ]
    }
   ],
   "source": [
    "a = []\n",
    "if 1 not in a:\n",
    "    print(2)"
   ]
  },
  {
   "cell_type": "code",
   "execution_count": 1,
   "metadata": {},
   "outputs": [],
   "source": [
    "class Solution:\n",
    "    def searchMatrix(self, matrix, target):\n",
    "        \"\"\"\n",
    "        :type matrix: List[List[int]]\n",
    "        :type target: int\n",
    "        :rtype: bool\n",
    "        \"\"\"\n",
    "        if len(matrix) == 0: return False\n",
    "        # we initialize the pointer at the bottom-left of the matrix\n",
    "        r,c = len(matrix)-1,0\n",
    "        while r >=0 and c <len(matrix[0]):\n",
    "            if matrix[r][c] == target:\n",
    "                return True\n",
    "            else:\n",
    "                if matrix[r][c] < target:\n",
    "                    c += 1\n",
    "                else:\n",
    "                    r -= 1\n",
    "        return False"
   ]
  },
  {
   "cell_type": "code",
   "execution_count": 2,
   "metadata": {},
   "outputs": [
    {
     "data": {
      "text/plain": [
       "True"
      ]
     },
     "execution_count": 2,
     "metadata": {},
     "output_type": "execute_result"
    }
   ],
   "source": [
    "instance = Solution()\n",
    "matrix = [\n",
    "  [1,   4,  7, 11, 15],\n",
    "  [2,   5,  8, 12, 19],\n",
    "  [3,   6,  9, 16, 22],\n",
    "  [10, 13, 14, 17, 24],\n",
    "  [18, 21, 23, 26, 30]\n",
    "]\n",
    "target = 5\n",
    "instance.searchMatrix( matrix, target)"
   ]
  },
  {
   "cell_type": "code",
   "execution_count": 3,
   "metadata": {},
   "outputs": [
    {
     "data": {
      "text/plain": [
       "False"
      ]
     },
     "execution_count": 3,
     "metadata": {},
     "output_type": "execute_result"
    }
   ],
   "source": [
    "target = 100\n",
    "instance.searchMatrix( matrix, target)"
   ]
  },
  {
   "cell_type": "code",
   "execution_count": null,
   "metadata": {},
   "outputs": [],
   "source": []
  }
 ],
 "metadata": {
  "kernelspec": {
   "display_name": "Python 3",
   "language": "python",
   "name": "python3"
  },
  "language_info": {
   "codemirror_mode": {
    "name": "ipython",
    "version": 3
   },
   "file_extension": ".py",
   "mimetype": "text/x-python",
   "name": "python",
   "nbconvert_exporter": "python",
   "pygments_lexer": "ipython3",
   "version": "3.7.3"
  }
 },
 "nbformat": 4,
 "nbformat_minor": 2
}
