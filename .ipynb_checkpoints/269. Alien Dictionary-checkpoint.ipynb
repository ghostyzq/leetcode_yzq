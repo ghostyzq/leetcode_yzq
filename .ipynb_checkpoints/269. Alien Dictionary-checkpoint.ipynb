{
 "cells": [
  {
   "cell_type": "code",
   "execution_count": 1,
   "metadata": {},
   "outputs": [],
   "source": [
    "class Solution:\n",
    "    def alienOrder(self, words):\n",
    "        ln = len(words)\n",
    "        if ln == 0:\n",
    "            return \"\"\n",
    "\n",
    "        self.mp = {}\n",
    "        self.visited = {}\n",
    "        self.visiting = {}\n",
    "        for word in words:\n",
    "            for ch in word:\n",
    "                self.mp[ch] = []\n",
    "                self.visited[ch] = False\n",
    "                self.visiting[ch] = False\n",
    "\n",
    "        for itr in range(ln-1):\n",
    "            word1 = words[itr]\n",
    "            word2 = words[itr+1]\n",
    "            if word1 == word2:\n",
    "                continue\n",
    "\n",
    "            ln1, ln2 = len(word1), len(word2)\n",
    "            i = j = 0\n",
    "            while i < ln1 and j < ln2 and word1[i] == word2[j]:\n",
    "                i += 1\n",
    "                j += 1\n",
    "\n",
    "            # As words are not equal(checked above) and if ln1 > ln2, that means there is an extra character in ln1, \n",
    "            # so word2 is substring of word1 - hence invalid lexicographical order\n",
    "            if j == ln2:\n",
    "                return \"\"\n",
    "\n",
    "            if i != ln1:\n",
    "                self.mp[word1[i]].append(word2[j])\n",
    "\n",
    "\n",
    "        self.res = []\n",
    "        for key in self.mp.keys():\n",
    "            if not self.visited[key]:\n",
    "                if self.dfs(key):  #found cycle\n",
    "                    return \"\"\n",
    "\n",
    "        return \"\".join(self.res)\n",
    "\n",
    "    \n",
    "    def dfs(self, parent):\n",
    "        self.visiting[parent] = True\n",
    "        kids = self.mp[parent]\n",
    "        for kid in kids:\n",
    "            if self.visiting[kid]:\n",
    "                return True\n",
    "\n",
    "            if not self.visited[kid]:\n",
    "                if self.dfs(kid):\n",
    "                    return True\n",
    "\n",
    "        self.visited[parent] = True\n",
    "        self.visiting[parent] = False\n",
    "        self.res.insert(0, parent)\n",
    "        return False"
   ]
  },
  {
   "cell_type": "code",
   "execution_count": 2,
   "metadata": {},
   "outputs": [],
   "source": [
    "word = [\n",
    "  \"wrt\",\n",
    "  \"wrf\",\n",
    "  \"er\",\n",
    "  \"ett\",\n",
    "  \"rftt\"\n",
    "]"
   ]
  },
  {
   "cell_type": "code",
   "execution_count": 3,
   "metadata": {},
   "outputs": [
    {
     "data": {
      "text/plain": [
       "'wertf'"
      ]
     },
     "execution_count": 3,
     "metadata": {},
     "output_type": "execute_result"
    }
   ],
   "source": [
    "instance = Solution()\n",
    "instance.alienOrder(word)"
   ]
  },
  {
   "cell_type": "code",
   "execution_count": null,
   "metadata": {},
   "outputs": [],
   "source": []
  }
 ],
 "metadata": {
  "kernelspec": {
   "display_name": "Python 3",
   "language": "python",
   "name": "python3"
  },
  "language_info": {
   "codemirror_mode": {
    "name": "ipython",
    "version": 3
   },
   "file_extension": ".py",
   "mimetype": "text/x-python",
   "name": "python",
   "nbconvert_exporter": "python",
   "pygments_lexer": "ipython3",
   "version": "3.7.3"
  }
 },
 "nbformat": 4,
 "nbformat_minor": 2
}
