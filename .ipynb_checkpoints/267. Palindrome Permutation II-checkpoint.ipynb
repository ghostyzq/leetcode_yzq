{
 "cells": [
  {
   "cell_type": "code",
   "execution_count": 17,
   "metadata": {},
   "outputs": [],
   "source": [
    "class Solution:\n",
    "    #def helper(self,table:\n",
    "    def generatePalindromes(self, s: str):\n",
    "        if not s:\n",
    "            return []\n",
    "        table = dict()\n",
    "        for letter in s:\n",
    "            if letter in table:\n",
    "                table[letter] += 1\n",
    "            else:\n",
    "                table[letter] = 1\n",
    "        count = 0\n",
    "        for key in table:\n",
    "            if table[key] % 2 == 0:\n",
    "                continue\n",
    "            else:\n",
    "                count += 1\n",
    "        if count > 1:\n",
    "            return []\n",
    "            "
   ]
  },
  {
   "cell_type": "code",
   "execution_count": 18,
   "metadata": {},
   "outputs": [],
   "source": [
    "instance = Solution()\n",
    "s = 'abba'\n",
    "instance.generatePalindromes(s)"
   ]
  },
  {
   "cell_type": "code",
   "execution_count": 19,
   "metadata": {},
   "outputs": [
    {
     "data": {
      "text/plain": [
       "[]"
      ]
     },
     "execution_count": 19,
     "metadata": {},
     "output_type": "execute_result"
    }
   ],
   "source": [
    "instance = Solution()\n",
    "s = 'abc'\n",
    "instance.generatePalindromes(s)"
   ]
  },
  {
   "cell_type": "code",
   "execution_count": null,
   "metadata": {},
   "outputs": [],
   "source": []
  }
 ],
 "metadata": {
  "kernelspec": {
   "display_name": "Python 3",
   "language": "python",
   "name": "python3"
  },
  "language_info": {
   "codemirror_mode": {
    "name": "ipython",
    "version": 3
   },
   "file_extension": ".py",
   "mimetype": "text/x-python",
   "name": "python",
   "nbconvert_exporter": "python",
   "pygments_lexer": "ipython3",
   "version": "3.7.3"
  }
 },
 "nbformat": 4,
 "nbformat_minor": 2
}
