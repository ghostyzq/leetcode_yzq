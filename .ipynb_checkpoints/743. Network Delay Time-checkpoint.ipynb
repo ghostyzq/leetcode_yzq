{
 "cells": [
  {
   "cell_type": "code",
   "execution_count": 1,
   "metadata": {},
   "outputs": [],
   "source": [
    "class Solution(object):\n",
    "    def networkDelayTime(self, times, N, K):\n",
    "        graph = collections.defaultdict(list)\n",
    "        for u, v, w in times:\n",
    "            graph[u].append((v, w))\n",
    "\n",
    "        dist = {node: float('inf') for node in range(1, N+1)}\n",
    "        seen = [False] * (N+1)\n",
    "        dist[K] = 0\n",
    "\n",
    "        while True:\n",
    "            cand_node = -1\n",
    "            cand_dist = float('inf')\n",
    "            for i in range(1, N+1):\n",
    "                if not seen[i] and dist[i] < cand_dist:\n",
    "                    cand_dist = dist[i]\n",
    "                    cand_node = i\n",
    "\n",
    "            if cand_node < 0: break\n",
    "            seen[cand_node] = True\n",
    "            for nei, d in graph[cand_node]:\n",
    "                dist[nei] = min(dist[nei], dist[cand_node] + d)\n",
    "\n",
    "        ans = max(dist.values())\n",
    "        return ans if ans < float('inf') else -1"
   ]
  },
  {
   "cell_type": "code",
   "execution_count": null,
   "metadata": {},
   "outputs": [],
   "source": []
  }
 ],
 "metadata": {
  "kernelspec": {
   "display_name": "Python 3",
   "language": "python",
   "name": "python3"
  },
  "language_info": {
   "codemirror_mode": {
    "name": "ipython",
    "version": 3
   },
   "file_extension": ".py",
   "mimetype": "text/x-python",
   "name": "python",
   "nbconvert_exporter": "python",
   "pygments_lexer": "ipython3",
   "version": "3.7.3"
  }
 },
 "nbformat": 4,
 "nbformat_minor": 2
}
