{
 "cells": [
  {
   "cell_type": "code",
   "execution_count": 189,
   "metadata": {},
   "outputs": [],
   "source": [
    "# backtracking\n",
    "class Solution:\n",
    "    def helper(self,candidates,target,n,tmp_result):\n",
    "        for i in range(len(candidates)):\n",
    "            x = candidates[i]\n",
    "            if target - x >= 0:\n",
    "                tmp = tmp_result.copy()\n",
    "                tmp.append(x)\n",
    "                self.helper(candidates[i:],target-x,n-1,tmp)\n",
    "                tmp.pop()\n",
    "            if target == 0:\n",
    "                tmp = tmp_result.copy()\n",
    "                tmp.append(x)\n",
    "                if tmp not in self.result:\n",
    "                    #print(tmp)\n",
    "                    self.result += [tmp]\n",
    "                tmp.pop()\n",
    "                return\n",
    "        return\n",
    "        \n",
    "    def combinationSum(self, candidates, target: int) :\n",
    "        if not candidates:\n",
    "            return []\n",
    "        candidates.sort()\n",
    "        self.candidates = candidates\n",
    "        self.target = target\n",
    "        #print(candidates)\n",
    "        self.result = []\n",
    "        for i in range(1,int(target/candidates[0])+1):\n",
    "            self.helper(candidates,target,i,[])\n",
    "        self.result.sort(key=lambda x:x[0])\n",
    "        true_result = []\n",
    "        for i in range(len(self.result)):\n",
    "            if self.result[i] not in true_result:\n",
    "                true_result.append(self.result[i])\n",
    "        return true_result"
   ]
  },
  {
   "cell_type": "code",
   "execution_count": 190,
   "metadata": {},
   "outputs": [
    {
     "data": {
      "text/plain": [
       "[[2, 2, 3], [7]]"
      ]
     },
     "execution_count": 190,
     "metadata": {},
     "output_type": "execute_result"
    }
   ],
   "source": [
    "candidates = [2,3,6,7]\n",
    "target = 7\n",
    "instance = Solution()\n",
    "instance.combinationSum(candidates,target)"
   ]
  },
  {
   "cell_type": "code",
   "execution_count": 220,
   "metadata": {},
   "outputs": [],
   "source": [
    "# dfs\n",
    "class Solution:\n",
    "    def combinationSum(self, candidates, target: int) :\n",
    "        if not candidates:\n",
    "            return []\n",
    "        candidates.sort()\n",
    "        self.candidates = candidates\n",
    "        result = []\n",
    "        stack = []\n",
    "        for i in range(len(candidates)):\n",
    "            x = candidates[i]\n",
    "            stack.append((target-x,[x],candidates[i:]))\n",
    "        print(stack)\n",
    "        while stack:\n",
    "            remain,tmp_res,remain_candidate = stack.pop(0)\n",
    "            #print(tmp_res)\n",
    "            if remain == 0:\n",
    "                result.append(tmp_res)\n",
    "            for i in range(len(remain_candidate)):\n",
    "                x = remain_candidate[i]\n",
    "                if remain - x >= 0:\n",
    "                    tmp = tmp_res.copy()\n",
    "                    tmp.append(x)\n",
    "                    stack.append((remain-x,tmp,remain_candidate[i:]))\n",
    "        return result"
   ]
  },
  {
   "cell_type": "code",
   "execution_count": 221,
   "metadata": {},
   "outputs": [
    {
     "name": "stdout",
     "output_type": "stream",
     "text": [
      "[(5, [2], [2, 3, 6, 7]), (4, [3], [3, 6, 7]), (1, [6], [6, 7]), (0, [7], [7])]\n"
     ]
    },
    {
     "data": {
      "text/plain": [
       "[[7], [2, 2, 3]]"
      ]
     },
     "execution_count": 221,
     "metadata": {},
     "output_type": "execute_result"
    }
   ],
   "source": [
    "candidates = [2,3,6,7]\n",
    "target = 7\n",
    "instance = Solution()\n",
    "instance.combinationSum(candidates,target)"
   ]
  },
  {
   "cell_type": "code",
   "execution_count": null,
   "metadata": {},
   "outputs": [],
   "source": []
  },
  {
   "cell_type": "code",
   "execution_count": null,
   "metadata": {},
   "outputs": [],
   "source": []
  }
 ],
 "metadata": {
  "kernelspec": {
   "display_name": "Python 3",
   "language": "python",
   "name": "python3"
  },
  "language_info": {
   "codemirror_mode": {
    "name": "ipython",
    "version": 3
   },
   "file_extension": ".py",
   "mimetype": "text/x-python",
   "name": "python",
   "nbconvert_exporter": "python",
   "pygments_lexer": "ipython3",
   "version": "3.7.3"
  }
 },
 "nbformat": 4,
 "nbformat_minor": 2
}
