{
 "cells": [
  {
   "cell_type": "code",
   "execution_count": 3,
   "metadata": {},
   "outputs": [],
   "source": [
    "class Solution:\n",
    "    def bstFromPreorder(self, preorder):\n",
    "        if not preorder:\n",
    "            return None\n",
    "        stack = []\n",
    "        root = TreeNode(preorder[0])\n",
    "        stack.append(root)\n",
    "        for i in range(1,len(preorder)):\n",
    "            node,child = stack[-1],TreeNode(preorder[i])\n",
    "            while stack and stack[-1].val < child.val:\n",
    "                node = stack.pop()\n",
    "            if node.val < child.val:\n",
    "                node.right = child\n",
    "            else:\n",
    "                node.left = child\n",
    "            stack.append(child)\n",
    "        return root\n",
    "        \n",
    "        "
   ]
  },
  {
   "cell_type": "code",
   "execution_count": null,
   "metadata": {},
   "outputs": [],
   "source": []
  }
 ],
 "metadata": {
  "kernelspec": {
   "display_name": "Python 3",
   "language": "python",
   "name": "python3"
  },
  "language_info": {
   "codemirror_mode": {
    "name": "ipython",
    "version": 3
   },
   "file_extension": ".py",
   "mimetype": "text/x-python",
   "name": "python",
   "nbconvert_exporter": "python",
   "pygments_lexer": "ipython3",
   "version": "3.7.3"
  }
 },
 "nbformat": 4,
 "nbformat_minor": 2
}
