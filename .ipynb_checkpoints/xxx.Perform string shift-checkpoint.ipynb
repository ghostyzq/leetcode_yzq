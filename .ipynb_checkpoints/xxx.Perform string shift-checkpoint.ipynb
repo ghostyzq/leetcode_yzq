{
 "cells": [
  {
   "cell_type": "code",
   "execution_count": 1,
   "metadata": {},
   "outputs": [],
   "source": [
    "class Solution:\n",
    "    def stringShift(self, s: str, shift) -> str:\n",
    "        tmp = 0\n",
    "        for item in shift:\n",
    "            if item[0] == 0:\n",
    "                tmp -= item[1]\n",
    "            else:\n",
    "                tmp += item[1]\n",
    "        if tmp == 0:\n",
    "            return s\n",
    "        if tmp > 0:\n",
    "            vector = [1,tmp]\n",
    "        else:\n",
    "            vector = [0,-tmp]\n",
    "        while vector[1] >= len(s):\n",
    "             vector[1] -= len(s)\n",
    "        if vector[1] == 0:\n",
    "            return s\n",
    "        output = []\n",
    "        s = list(s)\n",
    "        if vector[0] == 0:\n",
    "            for i in range(vector[1],len(s)):\n",
    "                output.append(s[i])\n",
    "            for j in range(0,vector[1]):\n",
    "                output.append(s[j])\n",
    "        else:\n",
    "            for i in range(len(s)-vector[1],len(s)):\n",
    "                output.append(s[i])\n",
    "            for j in range(0,len(s)-vector[1]):\n",
    "                output.append(s[j])\n",
    "        return \"\".join(output)"
   ]
  },
  {
   "cell_type": "code",
   "execution_count": 2,
   "metadata": {},
   "outputs": [
    {
     "data": {
      "text/plain": [
       "'efgabcd'"
      ]
     },
     "execution_count": 2,
     "metadata": {},
     "output_type": "execute_result"
    }
   ],
   "source": [
    "s = \"abcdefg\"\n",
    "shift = [[1,1],[1,1],[0,2],[1,3]]\n",
    "instance = Solution()\n",
    "instance.stringShift(s,shift)"
   ]
  },
  {
   "cell_type": "code",
   "execution_count": null,
   "metadata": {},
   "outputs": [],
   "source": []
  }
 ],
 "metadata": {
  "kernelspec": {
   "display_name": "Python 3",
   "language": "python",
   "name": "python3"
  },
  "language_info": {
   "codemirror_mode": {
    "name": "ipython",
    "version": 3
   },
   "file_extension": ".py",
   "mimetype": "text/x-python",
   "name": "python",
   "nbconvert_exporter": "python",
   "pygments_lexer": "ipython3",
   "version": "3.7.3"
  }
 },
 "nbformat": 4,
 "nbformat_minor": 2
}
