{
 "cells": [
  {
   "cell_type": "code",
   "execution_count": 10,
   "metadata": {},
   "outputs": [],
   "source": [
    "class Solution:\n",
    "    def isPerfectSquare(self, num: int) -> bool:\n",
    "        if num < 0:\n",
    "            return False\n",
    "        if num == 1:\n",
    "            return True\n",
    "        visited = set()\n",
    "        left,right = 0,num//2 + 1\n",
    "        i = (left+right)//2\n",
    "        while left < right:\n",
    "            if i in visited:\n",
    "                if (i-1)*(i-1) == num or (i+1)*(i+1) == num:\n",
    "                    return True\n",
    "                return False\n",
    "            visited.add(i)\n",
    "            if i * i == num:\n",
    "                return True\n",
    "            if i * i < num:\n",
    "                left = i\n",
    "                i = i+(right-i)//2\n",
    "            else:\n",
    "                right = i\n",
    "                i = i//2+left//2\n",
    "        "
   ]
  },
  {
   "cell_type": "code",
   "execution_count": 11,
   "metadata": {},
   "outputs": [
    {
     "data": {
      "text/plain": [
       "True"
      ]
     },
     "execution_count": 11,
     "metadata": {},
     "output_type": "execute_result"
    }
   ],
   "source": [
    "instance = Solution()\n",
    "num = 309136\n",
    "instance.isPerfectSquare(num)"
   ]
  },
  {
   "cell_type": "code",
   "execution_count": 12,
   "metadata": {},
   "outputs": [
    {
     "data": {
      "text/plain": [
       "556.0"
      ]
     },
     "execution_count": 12,
     "metadata": {},
     "output_type": "execute_result"
    }
   ],
   "source": [
    "import math\n",
    "math.sqrt(309136)"
   ]
  },
  {
   "cell_type": "code",
   "execution_count": null,
   "metadata": {},
   "outputs": [],
   "source": []
  }
 ],
 "metadata": {
  "kernelspec": {
   "display_name": "Python 3",
   "language": "python",
   "name": "python3"
  },
  "language_info": {
   "codemirror_mode": {
    "name": "ipython",
    "version": 3
   },
   "file_extension": ".py",
   "mimetype": "text/x-python",
   "name": "python",
   "nbconvert_exporter": "python",
   "pygments_lexer": "ipython3",
   "version": "3.7.3"
  }
 },
 "nbformat": 4,
 "nbformat_minor": 2
}
