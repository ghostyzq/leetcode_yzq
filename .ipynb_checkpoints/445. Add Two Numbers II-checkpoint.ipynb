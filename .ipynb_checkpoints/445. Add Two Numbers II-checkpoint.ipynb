{
 "cells": [
  {
   "cell_type": "code",
   "execution_count": 60,
   "metadata": {},
   "outputs": [],
   "source": [
    "class ListNode:\n",
    "     def __init__(self, x):\n",
    "        self.val = x\n",
    "        self.next = None\n",
    "        \n",
    "        \n",
    "class Solution:\n",
    "    def helper(self,l1,l2):\n",
    "        len1,len2 = len(l1),len(l2)\n",
    "        pointer1,pointer2 = -1,-1\n",
    "        output = 0\n",
    "        multi = 1\n",
    "        while -pointer1 <= len1 and -pointer2 <= len2:\n",
    "            output += int(l1[pointer1])*multi\n",
    "            output += int(l2[pointer2])*multi\n",
    "            multi = multi*10\n",
    "            pointer1 -= 1\n",
    "            pointer2 -= 1\n",
    "        #print(output)\n",
    "        #print(pointer1)\n",
    "        if len1 == len2:\n",
    "            return output\n",
    "        if len2 > min(len1,len2):\n",
    "            output += int(l2[:pointer2+1])*multi\n",
    "            return output\n",
    "        if len1 > min(len1,len2):\n",
    "            output += int(l1[:pointer1+1])*multi\n",
    "            return output\n",
    "        \n",
    "        \n",
    "    def addTwoNumbers(self, l1: ListNode, l2: ListNode) -> ListNode:\n",
    "        str1,str2 = str(),str()\n",
    "        while l1:\n",
    "            str1 += str(l1.val)\n",
    "            l1 = l1.next\n",
    "        while l2:\n",
    "            str2 += str(l2.val)\n",
    "            l2 = l2.next\n",
    "        output = self.helper(str1,str2)\n",
    "        output = str(output)\n",
    "        print(output)\n",
    "        result = dummy = ListNode(0)\n",
    "        current = 0\n",
    "        while current < len(output):\n",
    "            dummy.next = ListNode(int(output[current]))\n",
    "            dummy = dummy.next\n",
    "            current += 1\n",
    "        return result.next"
   ]
  },
  {
   "cell_type": "code",
   "execution_count": 58,
   "metadata": {},
   "outputs": [],
   "source": [
    "l1 = '7243'\n",
    "l2 = '564'"
   ]
  },
  {
   "cell_type": "code",
   "execution_count": 59,
   "metadata": {},
   "outputs": [
    {
     "name": "stdout",
     "output_type": "stream",
     "text": [
      "-4\n",
      "-3\n"
     ]
    },
    {
     "data": {
      "text/plain": [
       "7807"
      ]
     },
     "execution_count": 59,
     "metadata": {},
     "output_type": "execute_result"
    }
   ],
   "source": [
    "helper(l1,l2)"
   ]
  },
  {
   "cell_type": "code",
   "execution_count": 43,
   "metadata": {},
   "outputs": [
    {
     "data": {
      "text/plain": [
       "1"
      ]
     },
     "execution_count": 43,
     "metadata": {},
     "output_type": "execute_result"
    }
   ],
   "source": [
    "int(l2[:-4+1])"
   ]
  },
  {
   "cell_type": "code",
   "execution_count": null,
   "metadata": {},
   "outputs": [],
   "source": []
  }
 ],
 "metadata": {
  "kernelspec": {
   "display_name": "Python 3",
   "language": "python",
   "name": "python3"
  },
  "language_info": {
   "codemirror_mode": {
    "name": "ipython",
    "version": 3
   },
   "file_extension": ".py",
   "mimetype": "text/x-python",
   "name": "python",
   "nbconvert_exporter": "python",
   "pygments_lexer": "ipython3",
   "version": "3.7.3"
  }
 },
 "nbformat": 4,
 "nbformat_minor": 2
}
