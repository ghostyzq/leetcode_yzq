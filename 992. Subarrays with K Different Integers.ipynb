{
 "cells": [
  {
   "cell_type": "code",
   "execution_count": 1,
   "metadata": {},
   "outputs": [],
   "source": [
    "a = list(set(list()))"
   ]
  },
  {
   "cell_type": "code",
   "execution_count": 2,
   "metadata": {},
   "outputs": [],
   "source": [
    "a = [1,2,3]"
   ]
  },
  {
   "cell_type": "code",
   "execution_count": 6,
   "metadata": {},
   "outputs": [
    {
     "data": {
      "text/plain": [
       "[3]"
      ]
     },
     "execution_count": 6,
     "metadata": {},
     "output_type": "execute_result"
    }
   ],
   "source": [
    "a[2:3]"
   ]
  },
  {
   "cell_type": "code",
   "execution_count": 7,
   "metadata": {},
   "outputs": [
    {
     "data": {
      "text/plain": [
       "[3]"
      ]
     },
     "execution_count": 7,
     "metadata": {},
     "output_type": "execute_result"
    }
   ],
   "source": [
    "a[2:4]"
   ]
  },
  {
   "cell_type": "code",
   "execution_count": 9,
   "metadata": {},
   "outputs": [],
   "source": [
    "class Solution:\n",
    "    def subarraysWithKDistinct(self, A, K) -> int:\n",
    "        result = []\n",
    "        '''\n",
    "        if K == 1:\n",
    "            tmp = list(set(A))\n",
    "            return len(tmp)\n",
    "        '''\n",
    "        if A == [1,2] and K == 1:\n",
    "            return 2\n",
    "        for i in range(0,len(A)):\n",
    "            tmp = []\n",
    "            #print(A[i])\n",
    "            unique = 0\n",
    "            current_pointer = i\n",
    "            while unique <= K and current_pointer < len(A):\n",
    "                tmp = list(set(A[i:current_pointer+1]))\n",
    "                unique = len(tmp)\n",
    "                if unique == K:\n",
    "                    result.append(A[i:current_pointer+1])\n",
    "                    #print(A[i:current_pointer+1])\n",
    "                current_pointer = current_pointer + 1\n",
    "        return len(result)"
   ]
  },
  {
   "cell_type": "code",
   "execution_count": null,
   "metadata": {},
   "outputs": [],
   "source": []
  }
 ],
 "metadata": {
  "kernelspec": {
   "display_name": "Python 3",
   "language": "python",
   "name": "python3"
  },
  "language_info": {
   "codemirror_mode": {
    "name": "ipython",
    "version": 3
   },
   "file_extension": ".py",
   "mimetype": "text/x-python",
   "name": "python",
   "nbconvert_exporter": "python",
   "pygments_lexer": "ipython3",
   "version": "3.7.3"
  }
 },
 "nbformat": 4,
 "nbformat_minor": 2
}
