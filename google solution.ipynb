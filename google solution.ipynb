{
 "cells": [
  {
   "cell_type": "code",
   "execution_count": 5,
   "metadata": {},
   "outputs": [],
   "source": [
    "import sys\n",
    "\n",
    "\n",
    "def solution(A):\n",
    "  \"\"\"Your solution goes here.\"\"\"\n",
    "  if not A:\n",
    "    return \"\"\n",
    "  tmp_dict = dict()\n",
    "  for i in A:\n",
    "    if i[1::] not in tmp_dict:\n",
    "      if i[0] == \"+\":\n",
    "        tmp_dict[i[1::]] = 1\n",
    "      else:\n",
    "         tmp_dict[i[1::]]= 0\n",
    "    else:\n",
    "      if i[0] == \"+\":\n",
    "        tmp_dict[i[1::]] += 1\n",
    "      if i[0] == \"-\" and tmp_dict[i[1::]] > 0:\n",
    "        tmp_dict[i[1::]] -= 1\n",
    "  result_room = \"1A\"\n",
    "  max_count = 0\n",
    "  #print(tmp_dict)\n",
    "  for room in tmp_dict:\n",
    "    if tmp_dict[room] > max_count:\n",
    "      result_room = room\n",
    "      max_count = tmp_dict[room]\n",
    "    if tmp_dict[room] == max_count and room[1] <= result_room[1]:\n",
    "      result_room = room\n",
    "  return result_room\n",
    "\n",
    "\n",
    "\n"
   ]
  },
  {
   "cell_type": "code",
   "execution_count": 6,
   "metadata": {},
   "outputs": [
    {
     "data": {
      "text/plain": [
       "'1A'"
      ]
     },
     "execution_count": 6,
     "metadata": {},
     "output_type": "execute_result"
    }
   ],
   "source": [
    "A = ['-1A','+1A','+1A','+3A']\n",
    "solution(A)"
   ]
  },
  {
   "cell_type": "code",
   "execution_count": 7,
   "metadata": {},
   "outputs": [],
   "source": [
    "def solution(T):\n",
    "  # Your solution goes here.\n",
    "  if type(T) is not str:\n",
    "    return \"input error\"\n",
    "  if len(T) > 5:\n",
    "    return \"input error\"\n",
    "  tmp = T.split(\":\")\n",
    "  # because there always exists a valid time obtained by substituting '?' with digits.\n",
    "  # which means I do not need to consider the situation that the input is invalid like \"2?:78\"\n",
    "  # but still I will need to check the input like 26:78 (because there is no ? in it\n",
    "  hour,minute = tmp[0],tmp[1]\n",
    "  if \"?\" not in T:\n",
    "    if int(minute) >= 60 or int(hour) >= 24: \n",
    "      return \"invalid input\"\n",
    "    else:\n",
    "      return T\n",
    "  # do number exchange for hour\n",
    "  if minute == \"??\":\n",
    "    minute = \"59\"\n",
    "  if minute[0] == \"?\":\n",
    "    minute = \"5\" + minute[1]\n",
    "  if minute[1] == \"?\":\n",
    "    minute = minute[0] + \"9\"\n",
    "   # do number change for hour\n",
    "  if hour == \"??\":\n",
    "    hour = \"23\"\n",
    "  if hour[0] == \"?\" and int(hour[1]) < 4:\n",
    "    hour = \"2\" + hour[1]\n",
    "  if hour[0] == \"?\" and int(hour[1]) >= 4:\n",
    "    hour = \"1\" + hour[1]\n",
    "  if hour[1] == \"?\" and int(hour[0]) <= 1:\n",
    "    hour = hour[0] + \"9\"\n",
    "  if hour[1] == \"?\" and int(hour[0]) > 1:\n",
    "    hour = hour[0] + \"3\"\n",
    "  result = hour + \":\" + minute\n",
    "  return result"
   ]
  },
  {
   "cell_type": "code",
   "execution_count": 9,
   "metadata": {},
   "outputs": [
    {
     "name": "stdout",
     "output_type": "stream",
     "text": [
      "invalid input\n",
      "23:58\n"
     ]
    }
   ],
   "source": [
    "T = \"26:78\"\n",
    "print(solution(T))\n",
    "T = \"2?:?8\"\n",
    "print(solution(T))"
   ]
  },
  {
   "cell_type": "code",
   "execution_count": null,
   "metadata": {},
   "outputs": [],
   "source": []
  }
 ],
 "metadata": {
  "kernelspec": {
   "display_name": "Python 3",
   "language": "python",
   "name": "python3"
  },
  "language_info": {
   "codemirror_mode": {
    "name": "ipython",
    "version": 3
   },
   "file_extension": ".py",
   "mimetype": "text/x-python",
   "name": "python",
   "nbconvert_exporter": "python",
   "pygments_lexer": "ipython3",
   "version": "3.7.3"
  }
 },
 "nbformat": 4,
 "nbformat_minor": 2
}
