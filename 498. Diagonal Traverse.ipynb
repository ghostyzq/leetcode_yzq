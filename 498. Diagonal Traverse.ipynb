{
 "cells": [
  {
   "cell_type": "code",
   "execution_count": 1,
   "metadata": {},
   "outputs": [],
   "source": [
    "class Solution:\n",
    "    def findDiagonalOrder(self, matrix):\n",
    "        if not matrix or not matrix[0]:\n",
    "            return []\n",
    "        m,n = len(matrix),len(matrix[0])\n",
    "        result = []\n",
    "        for i in range(m+n-1):\n",
    "            tmp = []\n",
    "            if i < n:\n",
    "                row,col = 0,i\n",
    "            else:\n",
    "                row,col = i-n+1,n-1\n",
    "            while row < m and col >=0:\n",
    "                tmp.append(matrix[row][col])\n",
    "                row += 1\n",
    "                col -= 1\n",
    "            if i%2:\n",
    "                result.extend(tmp)\n",
    "            else:\n",
    "                result.extend(tmp[::-1])\n",
    "        return result"
   ]
  },
  {
   "cell_type": "code",
   "execution_count": 2,
   "metadata": {},
   "outputs": [
    {
     "data": {
      "text/plain": [
       "[1, 2, 4, 7, 5, 3, 6, 8, 9]"
      ]
     },
     "execution_count": 2,
     "metadata": {},
     "output_type": "execute_result"
    }
   ],
   "source": [
    "instance = Solution()\n",
    "matrix =  [[ 1, 2, 3 ],[ 4, 5, 6 ],[ 7, 8, 9 ]]\n",
    "instance.findDiagonalOrder(matrix)"
   ]
  },
  {
   "cell_type": "code",
   "execution_count": null,
   "metadata": {},
   "outputs": [],
   "source": []
  }
 ],
 "metadata": {
  "kernelspec": {
   "display_name": "Python 3",
   "language": "python",
   "name": "python3"
  },
  "language_info": {
   "codemirror_mode": {
    "name": "ipython",
    "version": 3
   },
   "file_extension": ".py",
   "mimetype": "text/x-python",
   "name": "python",
   "nbconvert_exporter": "python",
   "pygments_lexer": "ipython3",
   "version": "3.7.3"
  }
 },
 "nbformat": 4,
 "nbformat_minor": 2
}
