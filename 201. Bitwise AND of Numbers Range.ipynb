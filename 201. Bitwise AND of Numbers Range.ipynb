{
 "cells": [
  {
   "cell_type": "code",
   "execution_count": 1,
   "metadata": {},
   "outputs": [],
   "source": [
    "class Solution:\n",
    "    def rangeBitwiseAnd(self, m: int, n: int) -> int:\n",
    "        if m == n == 1:\n",
    "            return 1\n",
    "        larger = max(m,n)\n",
    "        smaller = min(m,n)\n",
    "        larger,smaller = bin(larger),bin(smaller)\n",
    "        larger_pointer = len(larger)-1\n",
    "        #print(smaller)\n",
    "        output = ''\n",
    "        for i in range(len(smaller)-1,1,-1):\n",
    "            #print(larger[larger_pointer])\n",
    "            tmp = int(smaller[i])*int(larger[larger_pointer])\n",
    "            #print(tmp)\n",
    "            output = output + str(tmp)\n",
    "            larger_pointer -= 1\n",
    "        base,i,result = 1,len(output)-1,0\n",
    "        print(output)\n",
    "        if output == '0' or not output:\n",
    "            return 0\n",
    "        result = pow(2,len(output)-1)\n",
    "        '''\n",
    "        while i>=0:\n",
    "            result += base*int(output[i])\n",
    "            i -= 1\n",
    "            base = base*2\n",
    "            '''\n",
    "        return result\n",
    "            "
   ]
  },
  {
   "cell_type": "code",
   "execution_count": 2,
   "metadata": {},
   "outputs": [],
   "source": [
    "class Solution(object):\n",
    "    def rangeBitwiseAnd(self, m, n):\n",
    "        \"\"\"\n",
    "        :type m: int\n",
    "        :type n: int\n",
    "        :rtype: int\n",
    "        \"\"\"\n",
    "        while(m < n):\n",
    "            n -= (n & -n)\n",
    "        if m == n:\n",
    "            return m\n",
    "        return n"
   ]
  },
  {
   "cell_type": "code",
   "execution_count": 3,
   "metadata": {},
   "outputs": [
    {
     "data": {
      "text/plain": [
       "4"
      ]
     },
     "execution_count": 3,
     "metadata": {},
     "output_type": "execute_result"
    }
   ],
   "source": [
    "instance = Solution()\n",
    "m,n=5,7\n",
    "instance.rangeBitwiseAnd(m,n)"
   ]
  },
  {
   "cell_type": "code",
   "execution_count": null,
   "metadata": {},
   "outputs": [],
   "source": []
  }
 ],
 "metadata": {
  "kernelspec": {
   "display_name": "Python 3",
   "language": "python",
   "name": "python3"
  },
  "language_info": {
   "codemirror_mode": {
    "name": "ipython",
    "version": 3
   },
   "file_extension": ".py",
   "mimetype": "text/x-python",
   "name": "python",
   "nbconvert_exporter": "python",
   "pygments_lexer": "ipython3",
   "version": "3.7.3"
  }
 },
 "nbformat": 4,
 "nbformat_minor": 2
}
