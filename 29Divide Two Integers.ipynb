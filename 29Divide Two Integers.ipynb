{
 "cells": [
  {
   "cell_type": "code",
   "execution_count": null,
   "metadata": {},
   "outputs": [],
   "source": [
    "class Solution:\n",
    "    def divide(self, dividend: int, divisor: int) -> int:\n",
    "        tag = 0\n",
    "        if dividend >=pow(2,31) or dividend < -pow(2,31):\n",
    "            return []\n",
    "        if divisor == 0:\n",
    "            return 2**31-1\n",
    "        if divisor == 1:\n",
    "            return dividend\n",
    "        if divisor == -1:\n",
    "            return -dividend\n",
    "        if '-' in str(dividend):\n",
    "            dividend = abs(dividend)\n",
    "            tag = tag + 1\n",
    "        if '-' in str(divisor):\n",
    "            divisor = abs(divisor)\n",
    "            tag = tag + 1\n",
    "        result = 0\n",
    "        div = [[1,divisor]]\n",
    "        tmp = divisor\n",
    "        n = 1\n",
    "        while dividend >= divisor:\n",
    "            if dividend >= div[len(div)-1][1]:\n",
    "                result = result + len(div)\n",
    "                dividend = dividend - div[len(div)-1][1]\n",
    "                n = n + n\n",
    "                nex = 0\n",
    "                for x in range(n):\n",
    "                    nex = nex + divisor\n",
    "                div.append([n,tmp+nex])\n",
    "            else:\n",
    "                div.pop()\n",
    "        if tag == 0 or tag == 2:\n",
    "            return result\n",
    "        else:\n",
    "            return int('-'+str(result))"
   ]
  },
  {
   "cell_type": "code",
   "execution_count": 3,
   "metadata": {},
   "outputs": [],
   "source": [
    "a = {1:2}"
   ]
  },
  {
   "cell_type": "code",
   "execution_count": 9,
   "metadata": {},
   "outputs": [
    {
     "data": {
      "text/plain": [
       "1"
      ]
     },
     "execution_count": 9,
     "metadata": {},
     "output_type": "execute_result"
    }
   ],
   "source": [
    "len(a)"
   ]
  },
  {
   "cell_type": "code",
   "execution_count": 15,
   "metadata": {},
   "outputs": [
    {
     "ename": "TypeError",
     "evalue": "'int' object is not iterable",
     "output_type": "error",
     "traceback": [
      "\u001b[0;31m--------------------------------------------------------------------------\u001b[0m",
      "\u001b[0;31mTypeError\u001b[0m                                Traceback (most recent call last)",
      "\u001b[0;32m<ipython-input-15-0ffbaa31bc1b>\u001b[0m in \u001b[0;36m<module>\u001b[0;34m\u001b[0m\n\u001b[0;32m----> 1\u001b[0;31m \u001b[0ma\u001b[0m\u001b[0;34m.\u001b[0m\u001b[0mfromkeys\u001b[0m\u001b[0;34m(\u001b[0m\u001b[0;36m2\u001b[0m\u001b[0;34m)\u001b[0m\u001b[0;34m\u001b[0m\u001b[0;34m\u001b[0m\u001b[0m\n\u001b[0m",
      "\u001b[0;31mTypeError\u001b[0m: 'int' object is not iterable"
     ]
    }
   ],
   "source": [
    "a.(2)"
   ]
  },
  {
   "cell_type": "code",
   "execution_count": 16,
   "metadata": {},
   "outputs": [],
   "source": [
    "from math import log10"
   ]
  },
  {
   "cell_type": "code",
   "execution_count": null,
   "metadata": {},
   "outputs": [],
   "source": []
  }
 ],
 "metadata": {
  "kernelspec": {
   "display_name": "Python 3",
   "language": "python",
   "name": "python3"
  },
  "language_info": {
   "codemirror_mode": {
    "name": "ipython",
    "version": 3
   },
   "file_extension": ".py",
   "mimetype": "text/x-python",
   "name": "python",
   "nbconvert_exporter": "python",
   "pygments_lexer": "ipython3",
   "version": "3.7.3"
  }
 },
 "nbformat": 4,
 "nbformat_minor": 2
}
