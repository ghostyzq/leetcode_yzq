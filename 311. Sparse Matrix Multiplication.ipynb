{
 "cells": [
  {
   "cell_type": "code",
   "execution_count": 21,
   "metadata": {},
   "outputs": [],
   "source": [
    "class Solution: # on3\n",
    "    def multiply(self, A, B):\n",
    "        if not A or not B:\n",
    "            return []\n",
    "        result = []\n",
    "        i = 0\n",
    "        while i < len(A):\n",
    "            tmp = []\n",
    "            for k in range(len(B[0])):\n",
    "                tmp_value = 0\n",
    "                for j in range(len(A[0])):\n",
    "                    #print(j)\n",
    "                    #print(k)\n",
    "                    #print(i)\n",
    "                    tmp_value += A[i][j] * B[j][k]\n",
    "                tmp.append(tmp_value)\n",
    "            result.append(tmp)\n",
    "            i += 1\n",
    "        return result\n"
   ]
  },
  {
   "cell_type": "code",
   "execution_count": 22,
   "metadata": {},
   "outputs": [
    {
     "data": {
      "text/plain": [
       "[[17]]"
      ]
     },
     "execution_count": 22,
     "metadata": {},
     "output_type": "execute_result"
    }
   ],
   "source": [
    "instance = Solution()\n",
    "A = [[1,-5]]\n",
    "B = [[12],[-1]]\n",
    "\n",
    "instance.multiply(A, B)"
   ]
  },
  {
   "cell_type": "code",
   "execution_count": 16,
   "metadata": {},
   "outputs": [
    {
     "name": "stdout",
     "output_type": "stream",
     "text": [
      "0\n"
     ]
    }
   ],
   "source": [
    "for i in range(1):\n",
    "    print(i)"
   ]
  },
  {
   "cell_type": "code",
   "execution_count": null,
   "metadata": {},
   "outputs": [],
   "source": []
  }
 ],
 "metadata": {
  "kernelspec": {
   "display_name": "Python 3",
   "language": "python",
   "name": "python3"
  },
  "language_info": {
   "codemirror_mode": {
    "name": "ipython",
    "version": 3
   },
   "file_extension": ".py",
   "mimetype": "text/x-python",
   "name": "python",
   "nbconvert_exporter": "python",
   "pygments_lexer": "ipython3",
   "version": "3.7.3"
  }
 },
 "nbformat": 4,
 "nbformat_minor": 2
}
