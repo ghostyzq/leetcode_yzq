{
 "cells": [
  {
   "cell_type": "code",
   "execution_count": 36,
   "metadata": {},
   "outputs": [],
   "source": [
    "class Solution:\n",
    "    def helper(self,prices,hold,result,record,day,len_prices):\n",
    "        if day == len_prices - 2:#jump out\n",
    "            if hold == 1:\n",
    "                    if prices[len_prices-1] > prices[len_prices-2]:\n",
    "                        record[1] = copy.deepcopy(len_prices-1)\n",
    "                        result.append(record)\n",
    "                    else:\n",
    "                        record[1] = copy.deepcopy(len_prices-2)\n",
    "                        result.append(record)\n",
    "            else:\n",
    "                    if prices[len_prices-1] > prices[len_prices-2]:\n",
    "                        result.append([len_prices-2,len_prices-2])\n",
    "            return result,profit           \n",
    "        if prices[day+1] < prices[day] and hold == 1:#sell\n",
    "            profit = profit + prices[day]\n",
    "            hold = 0\n",
    "            result.append([record[0],day])\n",
    "            record = copy.deepcopy([0,0])\n",
    "        if prices[day+1] > prices[day] and hold == 0:#buy\n",
    "            profit = profit - prices[day]\n",
    "            hold = 1\n",
    "            record[0] = copy.deepcopy(day)\n",
    "            print(record)\n",
    "        day = day + 1\n",
    "        return helper(prices,hold,result,record,day,len_prices) \n",
    "    def maxProfit(self, k, prices):\n",
    "        if not prices:\n",
    "            return []\n",
    "        hold = 0\n",
    "        result = []\n",
    "        record = [0,0]\n",
    "        day = 0\n",
    "        len_prices = len(prices)\n",
    "        result = self.helper(prices,hold,result,record,day,len_prices)\n",
    "        "
   ]
  },
  {
   "cell_type": "code",
   "execution_count": 48,
   "metadata": {},
   "outputs": [],
   "source": [
    "    def helper(prices,hold,result,record,day,len_prices):\n",
    "        if day == len_prices - 2:#jump out\n",
    "            if hold == 1:\n",
    "                    if prices[len_prices-1] > prices[len_prices-2]:\n",
    "                        record[1] = copy.deepcopy(len_prices-1)\n",
    "                        result.append(record)\n",
    "                    else:\n",
    "                        record[1] = copy.deepcopy(len_prices-2)\n",
    "                        result.append(record)\n",
    "            else:\n",
    "                    if prices[len_prices-1] > prices[len_prices-2]:\n",
    "                        result.append([len_prices-2,len_prices-2])\n",
    "            return result           \n",
    "        if prices[day+1] < prices[day] and hold == 1:#sell\n",
    "            #profit = profit + prices[day]\n",
    "            hold = 0\n",
    "            result.append([record[0],day])\n",
    "            record = copy.deepcopy([0,0])\n",
    "        if prices[day+1] > prices[day] and hold == 0:#buy\n",
    "            #profit = profit - prices[day]\n",
    "            hold = 1\n",
    "            record[0] = copy.deepcopy(day)\n",
    "            print(record)\n",
    "        day = day + 1\n",
    "        return helper(prices,hold,result,record,day,len_prices)"
   ]
  },
  {
   "cell_type": "code",
   "execution_count": 49,
   "metadata": {},
   "outputs": [
    {
     "name": "stdout",
     "output_type": "stream",
     "text": [
      "[1, 0]\n",
      "[4, 0]\n",
      "[6, 0]\n",
      "[8, 0]\n"
     ]
    },
    {
     "data": {
      "text/plain": [
       "[[1, 2], [4, 5], [6, 7], [8, 10]]"
      ]
     },
     "execution_count": 49,
     "metadata": {},
     "output_type": "execute_result"
    }
   ],
   "source": [
    "        hold = 0\n",
    "        prices = [3,2,6,5,0,3,2,5,1,2,4]\n",
    "        result = []\n",
    "        record = [0,0]\n",
    "        day = 0\n",
    "        len_prices = len(prices)\n",
    "        helper(prices,hold,result,record,day,len_prices)"
   ]
  },
  {
   "cell_type": "code",
   "execution_count": 8,
   "metadata": {},
   "outputs": [
    {
     "data": {
      "text/plain": [
       "6"
      ]
     },
     "execution_count": 8,
     "metadata": {},
     "output_type": "execute_result"
    }
   ],
   "source": [
    "len_prices"
   ]
  },
  {
   "cell_type": "code",
   "execution_count": 19,
   "metadata": {},
   "outputs": [],
   "source": [
    "record = [0,0]"
   ]
  },
  {
   "cell_type": "code",
   "execution_count": 20,
   "metadata": {},
   "outputs": [],
   "source": [
    "record[1] = 2"
   ]
  },
  {
   "cell_type": "code",
   "execution_count": 21,
   "metadata": {},
   "outputs": [
    {
     "data": {
      "text/plain": [
       "[0, 2]"
      ]
     },
     "execution_count": 21,
     "metadata": {},
     "output_type": "execute_result"
    }
   ],
   "source": [
    "record"
   ]
  },
  {
   "cell_type": "code",
   "execution_count": 28,
   "metadata": {},
   "outputs": [],
   "source": [
    "import copy"
   ]
  },
  {
   "cell_type": "code",
   "execution_count": 29,
   "metadata": {},
   "outputs": [
    {
     "data": {
      "text/plain": [
       "[1, 1, 0]"
      ]
     },
     "execution_count": 29,
     "metadata": {},
     "output_type": "execute_result"
    }
   ],
   "source": [
    "record"
   ]
  },
  {
   "cell_type": "code",
   "execution_count": 30,
   "metadata": {},
   "outputs": [],
   "source": [
    "record[1] = copy.deepcopy(2)"
   ]
  },
  {
   "cell_type": "code",
   "execution_count": 31,
   "metadata": {},
   "outputs": [
    {
     "data": {
      "text/plain": [
       "[1, 2, 0]"
      ]
     },
     "execution_count": 31,
     "metadata": {},
     "output_type": "execute_result"
    }
   ],
   "source": [
    "record"
   ]
  },
  {
   "cell_type": "code",
   "execution_count": 50,
   "metadata": {},
   "outputs": [],
   "source": [
    "import xml.etree.ElementTree as ET"
   ]
  },
  {
   "cell_type": "code",
   "execution_count": null,
   "metadata": {},
   "outputs": [],
   "source": []
  }
 ],
 "metadata": {
  "kernelspec": {
   "display_name": "Python 3",
   "language": "python",
   "name": "python3"
  },
  "language_info": {
   "codemirror_mode": {
    "name": "ipython",
    "version": 3
   },
   "file_extension": ".py",
   "mimetype": "text/x-python",
   "name": "python",
   "nbconvert_exporter": "python",
   "pygments_lexer": "ipython3",
   "version": "3.7.3"
  }
 },
 "nbformat": 4,
 "nbformat_minor": 2
}
