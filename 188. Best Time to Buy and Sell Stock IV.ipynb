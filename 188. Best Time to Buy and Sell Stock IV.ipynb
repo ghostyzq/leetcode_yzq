{
 "cells": [
  {
   "cell_type": "code",
   "execution_count": 55,
   "metadata": {},
   "outputs": [],
   "source": [
    "class Solution:\n",
    "    def helper(self,record,prices,hold,day):\n",
    "        if day == len(prices) - 2:\n",
    "            if hold == 0 and prices[day] < prices[day+1]:\n",
    "                record.append([day,day+1])\n",
    "            if hold == 1 and prices[day] < prices[day+1]:\n",
    "                record[-1].append(day+1)\n",
    "            if hold == 1 and prices[day] > prices[day+1]:\n",
    "                record[-1].append(day)\n",
    "            return record\n",
    "        if hold == 0 and day < len(prices) - 2:\n",
    "            if prices[day+1] > prices[day]:\n",
    "                record.append([day])\n",
    "                hold = 1\n",
    "            return self.helper(record,prices,hold,day+1)\n",
    "        if hold == 1 and day < len(prices) - 2:\n",
    "            #print(record)\n",
    "            if prices[day+1] < prices[day]:\n",
    "                record[-1].append(day)\n",
    "                hold = 0\n",
    "            return self.helper(record,prices,hold,day+1)\n",
    "        \n",
    "    def maxProfit(self, k: int, prices) -> int:\n",
    "        global record\n",
    "        record,hold = [],0\n",
    "        record = self.helper(record,prices,hold,0)\n",
    "        #print(self.record)\n",
    "        output = []\n",
    "        for x in record:\n",
    "            profit = prices[x[1]]-prices[x[0]]\n",
    "            output.append(profit)\n",
    "        if k >= len(output):\n",
    "            return sum(output)\n",
    "        else:\n",
    "            newoutput = []\n",
    "            i = 0\n",
    "            while i < len(record) - 1:\n",
    "                if record[i][1] == record[i+1][0] - 1:\n",
    "                    newoutput.append(record[i+1][1]-record[i][0])\n",
    "                elif i != len(record)-2:\n",
    "                    newoutput.append(output[i])\n",
    "                else:\n",
    "                    newoutput.append(output[i])\n",
    "                    newoutput.append(output[i+1])\n",
    "                i += 1\n",
    "            output.sort(reverse=True)\n",
    "            return sum(output[0:k])\n",
    "                "
   ]
  },
  {
   "cell_type": "code",
   "execution_count": 56,
   "metadata": {
    "scrolled": true
   },
   "outputs": [
    {
     "data": {
      "text/plain": [
       "7"
      ]
     },
     "execution_count": 56,
     "metadata": {},
     "output_type": "execute_result"
    }
   ],
   "source": [
    "prices = [3,2,6,5,0,3,2,5,1,2,4]\n",
    "k = 2\n",
    "instance = Solution()\n",
    "instance.maxProfit(k,prices)"
   ]
  },
  {
   "cell_type": "code",
   "execution_count": 4,
   "metadata": {},
   "outputs": [
    {
     "name": "stdout",
     "output_type": "stream",
     "text": [
      "[1, 0]\n",
      "[4, 0]\n",
      "[6, 0]\n",
      "[8, 0]\n"
     ]
    },
    {
     "data": {
      "text/plain": [
       "[[1, 2], [4, 5], [6, 7], [8, 10]]"
      ]
     },
     "execution_count": 4,
     "metadata": {},
     "output_type": "execute_result"
    }
   ],
   "source": [
    "        hold = 0\n",
    "        prices = [3,2,6,5,0,3,2,5,1,2,4]\n",
    "        result = []\n",
    "        record = [0,0]\n",
    "        day = 0\n",
    "        len_prices = len(prices)\n",
    "        helper(prices,hold,result,record,day,len_prices)"
   ]
  },
  {
   "cell_type": "code",
   "execution_count": 8,
   "metadata": {},
   "outputs": [
    {
     "data": {
      "text/plain": [
       "6"
      ]
     },
     "execution_count": 8,
     "metadata": {},
     "output_type": "execute_result"
    }
   ],
   "source": [
    "len_prices"
   ]
  },
  {
   "cell_type": "code",
   "execution_count": 19,
   "metadata": {},
   "outputs": [],
   "source": [
    "record = [0,0]"
   ]
  },
  {
   "cell_type": "code",
   "execution_count": 20,
   "metadata": {},
   "outputs": [],
   "source": [
    "record[1] = 2"
   ]
  },
  {
   "cell_type": "code",
   "execution_count": 21,
   "metadata": {},
   "outputs": [
    {
     "data": {
      "text/plain": [
       "[0, 2]"
      ]
     },
     "execution_count": 21,
     "metadata": {},
     "output_type": "execute_result"
    }
   ],
   "source": [
    "record"
   ]
  },
  {
   "cell_type": "code",
   "execution_count": 3,
   "metadata": {},
   "outputs": [],
   "source": [
    "import copy"
   ]
  },
  {
   "cell_type": "code",
   "execution_count": null,
   "metadata": {},
   "outputs": [],
   "source": []
  },
  {
   "cell_type": "code",
   "execution_count": 29,
   "metadata": {},
   "outputs": [
    {
     "data": {
      "text/plain": [
       "[1, 1, 0]"
      ]
     },
     "execution_count": 29,
     "metadata": {},
     "output_type": "execute_result"
    }
   ],
   "source": [
    "record"
   ]
  },
  {
   "cell_type": "code",
   "execution_count": 30,
   "metadata": {},
   "outputs": [],
   "source": [
    "record[1] = copy.deepcopy(2)"
   ]
  },
  {
   "cell_type": "code",
   "execution_count": 31,
   "metadata": {},
   "outputs": [
    {
     "data": {
      "text/plain": [
       "[1, 2, 0]"
      ]
     },
     "execution_count": 31,
     "metadata": {},
     "output_type": "execute_result"
    }
   ],
   "source": [
    "record"
   ]
  },
  {
   "cell_type": "code",
   "execution_count": 50,
   "metadata": {},
   "outputs": [],
   "source": [
    "import xml.etree.ElementTree as ET"
   ]
  },
  {
   "cell_type": "code",
   "execution_count": null,
   "metadata": {},
   "outputs": [],
   "source": []
  }
 ],
 "metadata": {
  "kernelspec": {
   "display_name": "Python 3",
   "language": "python",
   "name": "python3"
  },
  "language_info": {
   "codemirror_mode": {
    "name": "ipython",
    "version": 3
   },
   "file_extension": ".py",
   "mimetype": "text/x-python",
   "name": "python",
   "nbconvert_exporter": "python",
   "pygments_lexer": "ipython3",
   "version": "3.7.3"
  }
 },
 "nbformat": 4,
 "nbformat_minor": 2
}
