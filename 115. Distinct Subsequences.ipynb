{
 "cells": [
  {
   "cell_type": "code",
   "execution_count": 1,
   "metadata": {},
   "outputs": [],
   "source": [
    "class Solution:\n",
    "    def helper(self,s_index,t_index,tmp_str):\n",
    "        if tmp_str == self.t:\n",
    "            self.output.append(tmp_str)\n",
    "            return\n",
    "        while s_index<=len(self.t) and s_index<len(self.s):\n",
    "            if self.s[s_index] == self.t[t_index]:\n",
    "                tmp_str.append(self.s[s_index])\n",
    "                return self.helper(s_index+1,t_index+1,tmp_str)\n",
    "                tmp_str.pop()\n",
    "            else:\n",
    "                return self.helper(s_index+1,t_index,tmp_str)\n",
    "            \n",
    "    def numDistinct(self, s: str, t: str) -> int:\n",
    "        self.s,self.t = list(s),list(t)\n",
    "        self.output = []\n",
    "        self.helper(0,0,[])\n",
    "        return len(self.output)\n",
    "        "
   ]
  },
  {
   "cell_type": "code",
   "execution_count": 5,
   "metadata": {},
   "outputs": [],
   "source": [
    "class Solution2:\n",
    "    def numDistinct(self, s: str, t: str) -> int:\n",
    "        memo = {}\n",
    "        M,N = len(s),len(t)\n",
    "        def helper(i,j):\n",
    "            if i == M or j == N or M-i < N-j:\n",
    "                return int(j == N)\n",
    "            if (i,j) in memo:\n",
    "                return memo[i,j]\n",
    "            ans = helper(i+1,j)\n",
    "            if s[i] == t[j]:\n",
    "                ans += helper(i+1,j+1)\n",
    "            memo[i,j] = ans\n",
    "            return ans\n",
    "        return helper(0,0)"
   ]
  },
  {
   "cell_type": "code",
   "execution_count": 9,
   "metadata": {},
   "outputs": [],
   "source": [
    "class Solution3:\n",
    "    def numDistinct(self, s: str, t: str) -> int:\n",
    "        m,n = len(s),len(t)\n",
    "        if len(s) < len(t):\n",
    "            return 0\n",
    "        dp = [[0 for i in range(n+1)] for j in range(m+1)]\n",
    "        for j in range(m+1):\n",
    "            dp[j][n] = 1\n",
    "        print(dp)\n",
    "        for i in range(m-1,-1,-1):\n",
    "            for j in range(n-1,-1,-1):\n",
    "                dp[i][j] = dp[i+1][j]\n",
    "                if s[i] == t[j]:\n",
    "                    dp[i][j] += dp[i+1][j+1]\n",
    "        return dp[0][0]"
   ]
  },
  {
   "cell_type": "code",
   "execution_count": 6,
   "metadata": {},
   "outputs": [
    {
     "data": {
      "text/plain": [
       "3"
      ]
     },
     "execution_count": 6,
     "metadata": {},
     "output_type": "execute_result"
    }
   ],
   "source": [
    "S = \"rabbbit\" \n",
    "T = \"rabbit\"\n",
    "instance = Solution()\n",
    "instance = Solution2()\n",
    "instance.numDistinct(S,T)"
   ]
  },
  {
   "cell_type": "code",
   "execution_count": 8,
   "metadata": {},
   "outputs": [
    {
     "data": {
      "text/plain": [
       "0"
      ]
     },
     "execution_count": 8,
     "metadata": {},
     "output_type": "execute_result"
    }
   ],
   "source": [
    "S = \"rabit\" \n",
    "T = \"rbbit\"\n",
    "instance = Solution()\n",
    "instance = Solution2()\n",
    "instance.numDistinct(S,T)"
   ]
  },
  {
   "cell_type": "code",
   "execution_count": null,
   "metadata": {},
   "outputs": [],
   "source": []
  }
 ],
 "metadata": {
  "kernelspec": {
   "display_name": "Python 3",
   "language": "python",
   "name": "python3"
  },
  "language_info": {
   "codemirror_mode": {
    "name": "ipython",
    "version": 3
   },
   "file_extension": ".py",
   "mimetype": "text/x-python",
   "name": "python",
   "nbconvert_exporter": "python",
   "pygments_lexer": "ipython3",
   "version": "3.7.3"
  }
 },
 "nbformat": 4,
 "nbformat_minor": 2
}
