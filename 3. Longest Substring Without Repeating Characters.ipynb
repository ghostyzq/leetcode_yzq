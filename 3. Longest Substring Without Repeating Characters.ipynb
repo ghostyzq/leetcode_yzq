{
 "cells": [
  {
   "cell_type": "code",
   "execution_count": null,
   "metadata": {},
   "outputs": [],
   "source": [
    "class Solution:\n",
    "    def lengthOfLongestSubstring(self, s: str) -> int:\n",
    "        if len(s) == 1:\n",
    "            return 1\n",
    "        str_len = []\n",
    "        #sub_str = []\n",
    "        #i = 0\n",
    "        if len(s) == 2:\n",
    "            if s[0] == s[1]:\n",
    "                return 1\n",
    "            else:\n",
    "                return 2\n",
    "        tmp = str()\n",
    "        for j in range(len(s)):\n",
    "            i = j\n",
    "            return_num  = 0\n",
    "            tmp = str()\n",
    "            while i < len(s) and return_num == 0:\n",
    "                #return_num = 0\n",
    "                    if s[i] not in tmp:\n",
    "                        tmp = tmp + s[i]\n",
    "                        #print(tmp)\n",
    "                        i = i + 1\n",
    "                        if i == len(s):\n",
    "                            str_len.append(len(tmp))\n",
    "                    else:\n",
    "                        #sub_str.append(tmp)\n",
    "                        str_len.append(len(tmp))\n",
    "                        return_num = 1\n",
    "                        i = i + 1\n",
    "            continue\n",
    "        if str_len:\n",
    "            return max(str_len)\n",
    "        else:\n",
    "            return 0\n",
    "        "
   ]
  }
 ],
 "metadata": {
  "kernelspec": {
   "display_name": "Python 3",
   "language": "python",
   "name": "python3"
  },
  "language_info": {
   "codemirror_mode": {
    "name": "ipython",
    "version": 3
   },
   "file_extension": ".py",
   "mimetype": "text/x-python",
   "name": "python",
   "nbconvert_exporter": "python",
   "pygments_lexer": "ipython3",
   "version": "3.7.3"
  }
 },
 "nbformat": 4,
 "nbformat_minor": 2
}
