{
 "cells": [
  {
   "cell_type": "code",
   "execution_count": 6,
   "metadata": {},
   "outputs": [],
   "source": [
    "class Solution(object):\n",
    "    def maximalSquare(self, matrix):\n",
    "        \"\"\"\n",
    "        :type matrix: List[List[str]]\n",
    "        :rtype: int\n",
    "        \"\"\"\n",
    "        if not matrix:\n",
    "            return 0\n",
    "        if len(matrix) == 1:\n",
    "            if \"1\" in matrix[0]:\n",
    "                return 1\n",
    "            return 0\n",
    "        if len(matrix) == 2:\n",
    "            if matrix == [[\"1\",\"1\"],[\"1\",\"1\"]]:\n",
    "                    return 4\n",
    "            if \"1\" in matrix[0] or \"1\" in matrix[1]:\n",
    "                return 1\n",
    "            return 0\n",
    "        row = [0]*len(matrix[0])\n",
    "        dp = []\n",
    "        for i in range(len(matrix)):\n",
    "            dp.append(row)\n",
    "        print(dp)\n",
    "        max_value = 0\n",
    "        for i in range(1,len(matrix)):\n",
    "            for j in range(1,len(matrix[0])):\n",
    "                if matrix[i-1][j-1] == \"1\":\n",
    "                    tmp = min(dp[i][j - 1], dp[i - 1][j])\n",
    "                    dp[i][j] = min(tmp, dp[i - 1][j - 1]) + 1\n",
    "                    print(dp)\n",
    "                    max_value = max(dp[i][j],max_value)\n",
    "        return pow(max_value,2)"
   ]
  },
  {
   "cell_type": "code",
   "execution_count": 7,
   "metadata": {},
   "outputs": [],
   "source": [
    "matrix = [[\"1\",\"0\",\"1\",\"0\",\"0\"],[\"1\",\"0\",\"1\",\"1\",\"1\"],[\"1\",\"1\",\"1\",\"1\",\"1\"],[\"1\",\"0\",\"0\",\"1\",\"0\"]]"
   ]
  },
  {
   "cell_type": "code",
   "execution_count": 8,
   "metadata": {},
   "outputs": [
    {
     "name": "stdout",
     "output_type": "stream",
     "text": [
      "[[0, 0, 0, 0, 0], [0, 0, 0, 0, 0], [0, 0, 0, 0, 0], [0, 0, 0, 0, 0]]\n",
      "[[0, 1, 0, 0, 0], [0, 1, 0, 0, 0], [0, 1, 0, 0, 0], [0, 1, 0, 0, 0]]\n",
      "[[0, 1, 0, 1, 0], [0, 1, 0, 1, 0], [0, 1, 0, 1, 0], [0, 1, 0, 1, 0]]\n",
      "[[0, 1, 0, 1, 0], [0, 1, 0, 1, 0], [0, 1, 0, 1, 0], [0, 1, 0, 1, 0]]\n",
      "[[0, 1, 0, 1, 0], [0, 1, 0, 1, 0], [0, 1, 0, 1, 0], [0, 1, 0, 1, 0]]\n",
      "[[0, 1, 0, 1, 1], [0, 1, 0, 1, 1], [0, 1, 0, 1, 1], [0, 1, 0, 1, 1]]\n",
      "[[0, 1, 0, 1, 1], [0, 1, 0, 1, 1], [0, 1, 0, 1, 1], [0, 1, 0, 1, 1]]\n",
      "[[0, 1, 1, 1, 1], [0, 1, 1, 1, 1], [0, 1, 1, 1, 1], [0, 1, 1, 1, 1]]\n",
      "[[0, 1, 1, 2, 1], [0, 1, 1, 2, 1], [0, 1, 1, 2, 1], [0, 1, 1, 2, 1]]\n",
      "[[0, 1, 1, 2, 2], [0, 1, 1, 2, 2], [0, 1, 1, 2, 2], [0, 1, 1, 2, 2]]\n"
     ]
    },
    {
     "data": {
      "text/plain": [
       "4"
      ]
     },
     "execution_count": 8,
     "metadata": {},
     "output_type": "execute_result"
    }
   ],
   "source": [
    "instance = Solution()\n",
    "instance.maximalSquare(matrix)"
   ]
  },
  {
   "cell_type": "code",
   "execution_count": null,
   "metadata": {},
   "outputs": [],
   "source": []
  }
 ],
 "metadata": {
  "kernelspec": {
   "display_name": "Python 3",
   "language": "python",
   "name": "python3"
  },
  "language_info": {
   "codemirror_mode": {
    "name": "ipython",
    "version": 3
   },
   "file_extension": ".py",
   "mimetype": "text/x-python",
   "name": "python",
   "nbconvert_exporter": "python",
   "pygments_lexer": "ipython3",
   "version": "3.7.3"
  }
 },
 "nbformat": 4,
 "nbformat_minor": 2
}
