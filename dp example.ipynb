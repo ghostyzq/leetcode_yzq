{
 "cells": [
  {
   "cell_type": "code",
   "execution_count": 12,
   "metadata": {},
   "outputs": [],
   "source": [
    "test_case = [1,2,4,1,7,8,3] #求最大的和 不能相邻"
   ]
  },
  {
   "cell_type": "code",
   "execution_count": 8,
   "metadata": {},
   "outputs": [],
   "source": [
    "import numpy as np"
   ]
  },
  {
   "cell_type": "code",
   "execution_count": 9,
   "metadata": {},
   "outputs": [],
   "source": [
    "def dp_for(array): #求最大的和 不能相邻\n",
    "    opt = np.zeros(len(array))\n",
    "    opt[0] = array[0]\n",
    "    opt[1] = max(array[1],array[0])\n",
    "    for i in range(2,len(array)):\n",
    "        a = opt[i-2] + array[i]\n",
    "        b = array[i-1]\n",
    "        opt[i] = max(a,b)\n",
    "    return opt[len(opt)-1]\n",
    "\n",
    "def "
   ]
  },
  {
   "cell_type": "code",
   "execution_count": 10,
   "metadata": {},
   "outputs": [
    {
     "data": {
      "text/plain": [
       "15.0"
      ]
     },
     "execution_count": 10,
     "metadata": {},
     "output_type": "execute_result"
    }
   ],
   "source": [
    "dp_for(test_case)"
   ]
  },
  {
   "cell_type": "code",
   "execution_count": 22,
   "metadata": {},
   "outputs": [],
   "source": [
    "target = 9\n",
    "test_case = [1,2,4,1,7,8,3,11,12] "
   ]
  },
  {
   "cell_type": "code",
   "execution_count": 18,
   "metadata": {},
   "outputs": [],
   "source": [
    "def sum_exist(array,target):\n",
    "    array.sort()\n",
    "    for i in range(len(array)):\n",
    "        if array[i] == target:\n",
    "            return True\n",
    "        if array[i] > target:\n",
    "            array = array[:i]\n",
    "            break\n",
    "    dp = np.zeros(len(array))\n",
    "    \n",
    "    if target == 0:\n",
    "        return True\n",
    "    if len(array) == 0 and target != 0:\n",
    "        return False\n",
    "        "
   ]
  },
  {
   "cell_type": "code",
   "execution_count": 19,
   "metadata": {},
   "outputs": [
    {
     "name": "stdout",
     "output_type": "stream",
     "text": [
      "[1, 1, 2, 3, 4, 7, 8]\n"
     ]
    }
   ],
   "source": [
    "sum_exist(test_case,target)"
   ]
  },
  {
   "cell_type": "code",
   "execution_count": 66,
   "metadata": {},
   "outputs": [],
   "source": [
    "def rec_subset(array,i,target,target_last):\n",
    "    if target == 0:\n",
    "        return True\n",
    "    elif i == 0:\n",
    "        if array[0] == target:\n",
    "            return True\n",
    "        else:\n",
    "            return False\n",
    "    elif array[i] > target:\n",
    "        return rec_subset(array,i-1,target,target_last)\n",
    "    else:\n",
    "        a = rec_subset(array,i-1,target,target_last)\n",
    "        b = rec_subset(array,i-1,target - array[i],target_last)\n",
    "        return a or b"
   ]
  },
  {
   "cell_type": "code",
   "execution_count": null,
   "metadata": {},
   "outputs": [],
   "source": [
    "def cyc_subset():"
   ]
  },
  {
   "cell_type": "code",
   "execution_count": 64,
   "metadata": {},
   "outputs": [],
   "source": [
    "result = []\n",
    "def rec_subset(array,i,target,target_last):\n",
    "    if target != target_last:\n",
    "        result.append(array[i])\n",
    "    target_last = target\n",
    "    if target == 0:\n",
    "        return result\n",
    "    elif i == 0:\n",
    "        if array[0] == target:\n",
    "            result.append(array[0])\n",
    "            return result\n",
    "        else:\n",
    "            return []\n",
    "    elif array[i] > target:\n",
    "        return rec_subset(array,i-1,target,target_last)\n",
    "    else:\n",
    "        a = rec_subset(array,i-1,target,target_last)\n",
    "        b = rec_subset(array,i-1,target - array[i],target_last)\n",
    "        return a or b"
   ]
  },
  {
   "cell_type": "code",
   "execution_count": 67,
   "metadata": {},
   "outputs": [
    {
     "data": {
      "text/plain": [
       "True"
      ]
     },
     "execution_count": 67,
     "metadata": {},
     "output_type": "execute_result"
    }
   ],
   "source": [
    "result = []\n",
    "rec_subset(test_case,len(test_case)-1,5,5)"
   ]
  },
  {
   "cell_type": "code",
   "execution_count": 59,
   "metadata": {},
   "outputs": [
    {
     "data": {
      "text/plain": [
       "[1, 2, 4, 1, 7, 8, 3, 11, 12]"
      ]
     },
     "execution_count": 59,
     "metadata": {},
     "output_type": "execute_result"
    }
   ],
   "source": [
    "test_case"
   ]
  },
  {
   "cell_type": "code",
   "execution_count": 37,
   "metadata": {},
   "outputs": [
    {
     "data": {
      "text/plain": [
       "0"
      ]
     },
     "execution_count": 37,
     "metadata": {},
     "output_type": "execute_result"
    }
   ],
   "source": [
    "1+1 & 2 + 2"
   ]
  },
  {
   "cell_type": "code",
   "execution_count": 43,
   "metadata": {},
   "outputs": [
    {
     "data": {
      "text/plain": [
       "4"
      ]
     },
     "execution_count": 43,
     "metadata": {},
     "output_type": "execute_result"
    }
   ],
   "source": [
    "a = 1\n",
    "b = 2\n",
    "(a+1) and (b + 2)"
   ]
  },
  {
   "cell_type": "code",
   "execution_count": 40,
   "metadata": {},
   "outputs": [
    {
     "data": {
      "text/plain": [
       "2"
      ]
     },
     "execution_count": 40,
     "metadata": {},
     "output_type": "execute_result"
    }
   ],
   "source": [
    "b"
   ]
  },
  {
   "cell_type": "code",
   "execution_count": 45,
   "metadata": {},
   "outputs": [
    {
     "data": {
      "text/plain": [
       "2"
      ]
     },
     "execution_count": 45,
     "metadata": {},
     "output_type": "execute_result"
    }
   ],
   "source": [
    "b"
   ]
  },
  {
   "cell_type": "code",
   "execution_count": null,
   "metadata": {},
   "outputs": [],
   "source": []
  }
 ],
 "metadata": {
  "kernelspec": {
   "display_name": "Python 3",
   "language": "python",
   "name": "python3"
  },
  "language_info": {
   "codemirror_mode": {
    "name": "ipython",
    "version": 3
   },
   "file_extension": ".py",
   "mimetype": "text/x-python",
   "name": "python",
   "nbconvert_exporter": "python",
   "pygments_lexer": "ipython3",
   "version": "3.7.3"
  }
 },
 "nbformat": 4,
 "nbformat_minor": 2
}
