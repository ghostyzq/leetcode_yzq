{
 "cells": [
  {
   "cell_type": "code",
   "execution_count": 6,
   "metadata": {},
   "outputs": [],
   "source": [
    "class Solution:\n",
    "    def floodFill(self, image, sr: int, sc: int, newColor: int) :\n",
    "        if not image or not image[0]:\n",
    "            return []\n",
    "        original_color = image[sr][sc]\n",
    "        if original_color == newColor:\n",
    "            return image\n",
    "        stack = []\n",
    "        stack.append((sr,sc))\n",
    "        image[sr][sc] = newColor\n",
    "        while stack:\n",
    "            currentrow,currentcolumn = stack.pop()\n",
    "            for x in range(-1,2,2):\n",
    "                for y in range(-1,2,2):\n",
    "                    if currentcolumn+y >= 0 and currentcolumn+y < len(image[0])  and image[currentrow][currentcolumn+y] == original_color:\n",
    "                        stack.append((currentrow,currentcolumn+y))\n",
    "                        image[currentrow][currentcolumn+y] = newColor\n",
    "                    if currentrow+x>=0 and currentrow+x < len(image) and image[currentrow+x][currentcolumn] == original_color:\n",
    "                        #print((currentrow+x,currentcolumn+y))\n",
    "                        stack.append((currentrow+x,currentcolumn))\n",
    "                        image[currentrow+x][currentcolumn] = newColor\n",
    "        return image\n",
    "        "
   ]
  },
  {
   "cell_type": "code",
   "execution_count": 7,
   "metadata": {},
   "outputs": [
    {
     "data": {
      "text/plain": [
       "[[2, 2, 2], [2, 2, 0], [2, 0, 1]]"
      ]
     },
     "execution_count": 7,
     "metadata": {},
     "output_type": "execute_result"
    }
   ],
   "source": [
    "image = [[1,1,1],[1,1,0],[1,0,1]]\n",
    "sr,sc,newColor = 1,1,2\n",
    "instance = Solution()\n",
    "instance.floodFill(image,sr,sc,newColor)"
   ]
  },
  {
   "cell_type": "code",
   "execution_count": null,
   "metadata": {},
   "outputs": [],
   "source": []
  },
  {
   "cell_type": "code",
   "execution_count": null,
   "metadata": {},
   "outputs": [],
   "source": []
  }
 ],
 "metadata": {
  "kernelspec": {
   "display_name": "Python 3",
   "language": "python",
   "name": "python3"
  },
  "language_info": {
   "codemirror_mode": {
    "name": "ipython",
    "version": 3
   },
   "file_extension": ".py",
   "mimetype": "text/x-python",
   "name": "python",
   "nbconvert_exporter": "python",
   "pygments_lexer": "ipython3",
   "version": "3.7.3"
  }
 },
 "nbformat": 4,
 "nbformat_minor": 2
}
