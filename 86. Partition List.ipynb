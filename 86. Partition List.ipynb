{
 "cells": [
  {
   "cell_type": "code",
   "execution_count": null,
   "metadata": {},
   "outputs": [],
   "source": [
    "# Definition for singly-linked list.\n",
    "# class ListNode:\n",
    "#     def __init__(self, x):\n",
    "#         self.val = x\n",
    "#         self.next = None\n",
    "\n",
    "class Solution(object):\n",
    "    def partition(self, head, x):\n",
    "        \"\"\"\n",
    "        :type head: ListNode\n",
    "        :type x: int\n",
    "        :rtype: ListNode\n",
    "        \"\"\"\n",
    "        before = before_head = ListNode(0)\n",
    "        after = after_head = ListNode(0)\n",
    "\n",
    "        while head:\n",
    "            if head.val < x:\n",
    "                before.next = head\n",
    "                before = before.next\n",
    "            else:\n",
    "                after.next = head\n",
    "                after = after.next\n",
    "\n",
    "            # move ahead in the original list\n",
    "            head = head.next\n",
    "\n",
    "        after.next = None\n",
    "        before.next = after_head.next\n",
    "\n",
    "        return before_head.next"
   ]
  }
 ],
 "metadata": {
  "kernelspec": {
   "display_name": "Python 3",
   "language": "python",
   "name": "python3"
  },
  "language_info": {
   "codemirror_mode": {
    "name": "ipython",
    "version": 3
   },
   "file_extension": ".py",
   "mimetype": "text/x-python",
   "name": "python",
   "nbconvert_exporter": "python",
   "pygments_lexer": "ipython3",
   "version": "3.7.3"
  }
 },
 "nbformat": 4,
 "nbformat_minor": 2
}
