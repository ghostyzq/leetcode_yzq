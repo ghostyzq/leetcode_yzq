{
 "cells": [
  {
   "cell_type": "code",
   "execution_count": 134,
   "metadata": {},
   "outputs": [],
   "source": [
    "import random\n",
    "def quick_select(nums,start,end,k):\n",
    "        if start == end:\n",
    "            return nums[start]\n",
    "        pivot_point = random.randint(start,end)\n",
    "        pivot_index = partitian(nums,start,end,pivot_point)\n",
    "        print(pivot_index)\n",
    "        if pivot_index == k:\n",
    "            return nums[k]\n",
    "        elif k < pivot_index:\n",
    "            return quick_select(nums,start,pivot_index-1,k)\n",
    "        else: \n",
    "            return quick_select(nums,pivot_index+1,end,k)\n",
    "    \n",
    "def partitian(nums,start,end,pivot):\n",
    "        pivot_val = nums[pivot]\n",
    "        nums[pivot],nums[end] = nums[end],nums[pivot]\n",
    "        i = start - 1\n",
    "        for j in range(start,end):\n",
    "            if nums[j] > pivot_val:\n",
    "                i += 1\n",
    "                nums[j], nums[i] = nums[i], nums[j]\n",
    "            \n",
    "        nums[i+1],nums[end] = nums[end],nums[i+1]\n",
    "        return i+1"
   ]
  },
  {
   "cell_type": "code",
   "execution_count": 135,
   "metadata": {},
   "outputs": [
    {
     "name": "stdout",
     "output_type": "stream",
     "text": [
      "4\n",
      "1\n",
      "3\n"
     ]
    },
    {
     "data": {
      "text/plain": [
       "1"
      ]
     },
     "execution_count": 135,
     "metadata": {},
     "output_type": "execute_result"
    }
   ],
   "source": [
    "nums = [1,4,2,3,0]\n",
    "quick_select(nums,0,len(nums)-1,4-1)"
   ]
  },
  {
   "cell_type": "code",
   "execution_count": 105,
   "metadata": {},
   "outputs": [
    {
     "data": {
      "text/plain": [
       "[4, 3, 2, 1, 0]"
      ]
     },
     "execution_count": 105,
     "metadata": {},
     "output_type": "execute_result"
    }
   ],
   "source": [
    "nums.sort(reverse=True)\n",
    "nums"
   ]
  },
  {
   "cell_type": "code",
   "execution_count": null,
   "metadata": {},
   "outputs": [],
   "source": []
  },
  {
   "cell_type": "code",
   "execution_count": null,
   "metadata": {},
   "outputs": [],
   "source": []
  }
 ],
 "metadata": {
  "kernelspec": {
   "display_name": "Python 3",
   "language": "python",
   "name": "python3"
  },
  "language_info": {
   "codemirror_mode": {
    "name": "ipython",
    "version": 3
   },
   "file_extension": ".py",
   "mimetype": "text/x-python",
   "name": "python",
   "nbconvert_exporter": "python",
   "pygments_lexer": "ipython3",
   "version": "3.7.3"
  }
 },
 "nbformat": 4,
 "nbformat_minor": 2
}
