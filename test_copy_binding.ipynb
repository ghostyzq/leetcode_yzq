{
 "cells": [
  {
   "cell_type": "code",
   "execution_count": 2,
   "metadata": {},
   "outputs": [],
   "source": [
    "copy_bind = [[2,1],[5,4],[7,8]]"
   ]
  },
  {
   "cell_type": "code",
   "execution_count": null,
   "metadata": {},
   "outputs": [],
   "source": [
    "wait_queue = []\n",
    "dp[] = np.zeros(len(copy_bind))\n",
    "result = []\n",
    "for x in copy_bind:\n",
    "    "
   ]
  },
  {
   "cell_type": "code",
   "execution_count": 8,
   "metadata": {},
   "outputs": [
    {
     "ename": "SyntaxError",
     "evalue": "unexpected EOF while parsing (<ipython-input-8-296d6280c3f8>, line 15)",
     "output_type": "error",
     "traceback": [
      "\u001b[0;36m  File \u001b[0;32m\"<ipython-input-8-296d6280c3f8>\"\u001b[0;36m, line \u001b[0;32m15\u001b[0m\n\u001b[0;31m    for i in range(len(copy_bind)):\u001b[0m\n\u001b[0m                                   ^\u001b[0m\n\u001b[0;31mSyntaxError\u001b[0m\u001b[0;31m:\u001b[0m unexpected EOF while parsing\n"
     ]
    }
   ],
   "source": [
    "def helper(the_ramain_task, binding_time, total_time,the_surpls_time):\n",
    "    if len(the_ramain_task) == 1:\n",
    "        total_time = max(the_ramain_task[0],0) + the_ramain_task[1]\n",
    "        return total_time\n",
    "    tmp = []\n",
    "    for x in the_ramain_task:\n",
    "        tmp.append(x[0]-binding_time)\n",
    "    i = the_ramain_task.index(min(tmp))\n",
    "    if the_ramain_task[i][0] < binding_time:\n",
    "        the_surpls_time = binding_time\n",
    "    total_time = total_time + binding_time - the_surpls_time\n",
    "    the_remain_task = the_remain_task.pop(i)\n",
    "    return helper(the_ramain_task, binding_time, total_time,the_surpls_time)\n",
    "def main(copy_bind):\n",
    "    dp = []\n",
    "    for i in range(len(copy_bind)):\n",
    "        total_time = copy_bind[i][0]\n",
    "        binding_time = copy_bind[i][1]\n",
    "        tmp = deepcopy(copy_bind)\n",
    "        the_ramain_task = tmp.pop(i)\n",
    "        result = helper(the_ramain_task, binding_time, total_time,the_surpls_time)\n",
    "        dp.append(result)\n",
    "    return min(dp)\n",
    "        "
   ]
  },
  {
   "cell_type": "code",
   "execution_count": 5,
   "metadata": {},
   "outputs": [],
   "source": [
    "a = [1,2,3]"
   ]
  },
  {
   "cell_type": "code",
   "execution_count": 7,
   "metadata": {},
   "outputs": [
    {
     "data": {
      "text/plain": [
       "1"
      ]
     },
     "execution_count": 7,
     "metadata": {},
     "output_type": "execute_result"
    }
   ],
   "source": [
    "a.index(2)"
   ]
  },
  {
   "cell_type": "code",
   "execution_count": null,
   "metadata": {},
   "outputs": [],
   "source": []
  }
 ],
 "metadata": {
  "kernelspec": {
   "display_name": "Python 3",
   "language": "python",
   "name": "python3"
  },
  "language_info": {
   "codemirror_mode": {
    "name": "ipython",
    "version": 3
   },
   "file_extension": ".py",
   "mimetype": "text/x-python",
   "name": "python",
   "nbconvert_exporter": "python",
   "pygments_lexer": "ipython3",
   "version": "3.7.3"
  }
 },
 "nbformat": 4,
 "nbformat_minor": 2
}
