{
 "cells": [
  {
   "cell_type": "code",
   "execution_count": 55,
   "metadata": {},
   "outputs": [],
   "source": [
    "class Solution:\n",
    "    def maxSubarraySumCircular(self, A) -> int:\n",
    "        step = 0\n",
    "        all_negetive = 1\n",
    "        for item in A:\n",
    "            if item > 0:\n",
    "                all_negetive = 0\n",
    "                break\n",
    "        if all_negetive:\n",
    "            return max(A)\n",
    "        dpmax,dpmin = [0] * len(A),[0] * len(A)\n",
    "        dpmax[0] = A[0]\n",
    "        #dpmax[0] = A[0]\n",
    "        while step <= len(A)-1:\n",
    "            dpmax[step] = max(dpmax[step-1]+A[step],A[step])\n",
    "            dpmin[step] = min(dpmin[step-1]+A[step],A[step])\n",
    "            step += 1\n",
    "        #print(dpmax)\n",
    "        #print(dpmin)\n",
    "        return max(max(dpmax),sum(A)-min(dpmin))"
   ]
  },
  {
   "cell_type": "code",
   "execution_count": 56,
   "metadata": {},
   "outputs": [
    {
     "data": {
      "text/plain": [
       "10"
      ]
     },
     "execution_count": 56,
     "metadata": {},
     "output_type": "execute_result"
    }
   ],
   "source": [
    "instance = Solution()\n",
    "A = [5,-3,5]\n",
    "instance.maxSubarraySumCircular(A)"
   ]
  },
  {
   "cell_type": "code",
   "execution_count": null,
   "metadata": {},
   "outputs": [],
   "source": []
  }
 ],
 "metadata": {
  "kernelspec": {
   "display_name": "Python 3",
   "language": "python",
   "name": "python3"
  },
  "language_info": {
   "codemirror_mode": {
    "name": "ipython",
    "version": 3
   },
   "file_extension": ".py",
   "mimetype": "text/x-python",
   "name": "python",
   "nbconvert_exporter": "python",
   "pygments_lexer": "ipython3",
   "version": "3.7.3"
  }
 },
 "nbformat": 4,
 "nbformat_minor": 2
}
