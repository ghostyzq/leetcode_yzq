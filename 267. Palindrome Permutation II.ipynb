{
 "cells": [
  {
   "cell_type": "code",
   "execution_count": 27,
   "metadata": {},
   "outputs": [],
   "source": [
    "class Solution:\n",
    "    def helper(self,table,tmp):\n",
    "        for letter in table:\n",
    "            if table[letter] % 2 == 1:\n",
    "                self.singleletter = letter\n",
    "                table[letter] -= 1\n",
    "            if table[letter] == 0:\n",
    "                continue\n",
    "            if table[letter] % 2 == 0:\n",
    "                table[letter] -= 2\n",
    "                self.helper(table,tmp+letter)\n",
    "                table[letter] += 2\n",
    "        #print(tmp+self.singleletter+tmp[::-1])\n",
    "        tmp = tmp+self.singleletter+tmp[::-1]\n",
    "        if len(tmp) == self.len:\n",
    "            self.output.append(tmp)\n",
    "        return\n",
    "        \n",
    "    def generatePalindromes(self, s: str):\n",
    "        if not s:\n",
    "            return []\n",
    "        self.len = len(s)\n",
    "        self.singleletter = ''\n",
    "        #print(len(s))\n",
    "        table = dict()\n",
    "        for letter in s:\n",
    "            if letter in table:\n",
    "                table[letter] += 1\n",
    "            else:\n",
    "                table[letter] = 1\n",
    "        count = 0\n",
    "        for key in table:\n",
    "            if table[key] % 2 == 0:\n",
    "                continue\n",
    "            else:\n",
    "                count += 1\n",
    "        if count > 1:\n",
    "            return []\n",
    "        self.output = []\n",
    "        self.helper(table,'')\n",
    "        return self.output"
   ]
  },
  {
   "cell_type": "code",
   "execution_count": 28,
   "metadata": {},
   "outputs": [
    {
     "data": {
      "text/plain": [
       "['abba', 'baab']"
      ]
     },
     "execution_count": 28,
     "metadata": {},
     "output_type": "execute_result"
    }
   ],
   "source": [
    "instance = Solution()\n",
    "s = 'abba'\n",
    "instance.generatePalindromes(s)"
   ]
  },
  {
   "cell_type": "code",
   "execution_count": 29,
   "metadata": {},
   "outputs": [
    {
     "data": {
      "text/plain": [
       "[]"
      ]
     },
     "execution_count": 29,
     "metadata": {},
     "output_type": "execute_result"
    }
   ],
   "source": [
    "instance = Solution()\n",
    "s = 'abc'\n",
    "instance.generatePalindromes(s)"
   ]
  },
  {
   "cell_type": "code",
   "execution_count": 33,
   "metadata": {},
   "outputs": [
    {
     "data": {
      "text/plain": [
       "['ababa', 'baaab']"
      ]
     },
     "execution_count": 33,
     "metadata": {},
     "output_type": "execute_result"
    }
   ],
   "source": [
    "instance = Solution()\n",
    "s = 'aaabb'\n",
    "instance.generatePalindromes(s)"
   ]
  },
  {
   "cell_type": "code",
   "execution_count": null,
   "metadata": {},
   "outputs": [],
   "source": []
  }
 ],
 "metadata": {
  "kernelspec": {
   "display_name": "Python 3",
   "language": "python",
   "name": "python3"
  },
  "language_info": {
   "codemirror_mode": {
    "name": "ipython",
    "version": 3
   },
   "file_extension": ".py",
   "mimetype": "text/x-python",
   "name": "python",
   "nbconvert_exporter": "python",
   "pygments_lexer": "ipython3",
   "version": "3.7.3"
  }
 },
 "nbformat": 4,
 "nbformat_minor": 2
}
