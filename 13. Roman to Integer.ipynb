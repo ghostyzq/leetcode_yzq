{
 "cells": [
  {
   "cell_type": "code",
   "execution_count": 2,
   "metadata": {},
   "outputs": [],
   "source": [
    "class Solution:\n",
    "    def romanToInt(self, s: str) -> int:\n",
    "        if not s:\n",
    "            return 0\n",
    "        value = {\n",
    "                \"I\": 1,\n",
    "                \"V\": 5,\n",
    "                \"X\": 10,\n",
    "                \"L\": 50,\n",
    "                \"C\": 100,\n",
    "                \"D\": 500,\n",
    "                \"M\": 1000,\n",
    "            }\n",
    "        output = 0\n",
    "        i = 0\n",
    "        while i < len(s):\n",
    "            if i+1 < len(s) and value[s[i]]<value[s[i+1]]:\n",
    "                output += value[s[i+1]] - value[s[i]]\n",
    "                i += 2\n",
    "            else:\n",
    "                output += value[s[i]]\n",
    "                i += 1\n",
    "        return output"
   ]
  },
  {
   "cell_type": "code",
   "execution_count": 3,
   "metadata": {},
   "outputs": [
    {
     "data": {
      "text/plain": [
       "58"
      ]
     },
     "execution_count": 3,
     "metadata": {},
     "output_type": "execute_result"
    }
   ],
   "source": [
    "instance = Solution()\n",
    "s = \"LVIII\"\n",
    "instance.romanToInt(s)"
   ]
  },
  {
   "cell_type": "code",
   "execution_count": null,
   "metadata": {},
   "outputs": [],
   "source": []
  }
 ],
 "metadata": {
  "kernelspec": {
   "display_name": "Python 3",
   "language": "python",
   "name": "python3"
  },
  "language_info": {
   "codemirror_mode": {
    "name": "ipython",
    "version": 3
   },
   "file_extension": ".py",
   "mimetype": "text/x-python",
   "name": "python",
   "nbconvert_exporter": "python",
   "pygments_lexer": "ipython3",
   "version": "3.7.3"
  }
 },
 "nbformat": 4,
 "nbformat_minor": 2
}
