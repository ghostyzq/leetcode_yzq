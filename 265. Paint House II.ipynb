{
 "cells": [
  {
   "cell_type": "code",
   "execution_count": 5,
   "metadata": {},
   "outputs": [],
   "source": [
    "class Solution:\n",
    "    def minCostII(self, costs) -> int:\n",
    "        if not costs or not costs[0]:\n",
    "            return 0\n",
    "        n,k = len(costs),len(costs[0])\n",
    "        pre_mincost,pre_second_mincost,pre_mincolor=None,None,None\n",
    "        for color,cost in enumerate(costs[0]):\n",
    "            if pre_mincost == None or cost < pre_mincost:\n",
    "                pre_second_mincost = pre_mincost\n",
    "                pre_mincost = cost\n",
    "                pre_mincolor = color\n",
    "            elif pre_second_mincost == None or cost<pre_second_mincost:\n",
    "                pre_second_mincost = cost\n",
    "            else:\n",
    "                continue\n",
    "        #print(pre_mincost)\n",
    "        for house in range(1,n):\n",
    "            min_cost = second_min_cost = min_color = None\n",
    "            print(min_cost)\n",
    "            for color in range(k):\n",
    "                cost = costs[house][color]\n",
    "                if color == pre_mincolor:\n",
    "                    cost += pre_second_mincost\n",
    "                else:\n",
    "                    cost += pre_mincost\n",
    "                if min_cost == None or cost < min_cost:\n",
    "                    second_min_cost = min_cost\n",
    "                    min_cost = cost\n",
    "                    min_color = color\n",
    "                elif second_min_cost == None or cost < second_min_cost:\n",
    "                    second_min_cost = cost\n",
    "                else:\n",
    "                    continue\n",
    "            pre_mincost,pre_second_mincost,pre_mincolor = min_cost,second_min_cost,min_color\n",
    "        return pre_mincost"
   ]
  },
  {
   "cell_type": "code",
   "execution_count": 6,
   "metadata": {},
   "outputs": [
    {
     "name": "stdout",
     "output_type": "stream",
     "text": [
      "None\n"
     ]
    },
    {
     "data": {
      "text/plain": [
       "5"
      ]
     },
     "execution_count": 6,
     "metadata": {},
     "output_type": "execute_result"
    }
   ],
   "source": [
    "instance = Solution()\n",
    "costs = [[1,5,3],[2,9,4]]\n",
    "instance.minCostII(costs)"
   ]
  },
  {
   "cell_type": "code",
   "execution_count": null,
   "metadata": {},
   "outputs": [],
   "source": []
  }
 ],
 "metadata": {
  "kernelspec": {
   "display_name": "Python 3",
   "language": "python",
   "name": "python3"
  },
  "language_info": {
   "codemirror_mode": {
    "name": "ipython",
    "version": 3
   },
   "file_extension": ".py",
   "mimetype": "text/x-python",
   "name": "python",
   "nbconvert_exporter": "python",
   "pygments_lexer": "ipython3",
   "version": "3.7.3"
  }
 },
 "nbformat": 4,
 "nbformat_minor": 2
}
