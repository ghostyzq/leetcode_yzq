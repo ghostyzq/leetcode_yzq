{
 "cells": [
  {
   "cell_type": "code",
   "execution_count": 1,
   "metadata": {},
   "outputs": [],
   "source": [
    "a = [1,2,3]"
   ]
  },
  {
   "cell_type": "code",
   "execution_count": 2,
   "metadata": {},
   "outputs": [
    {
     "data": {
      "text/plain": [
       "[1, 2]"
      ]
     },
     "execution_count": 2,
     "metadata": {},
     "output_type": "execute_result"
    }
   ],
   "source": [
    "a[:2]"
   ]
  },
  {
   "cell_type": "code",
   "execution_count": 4,
   "metadata": {},
   "outputs": [
    {
     "data": {
      "text/plain": [
       "[3]"
      ]
     },
     "execution_count": 4,
     "metadata": {},
     "output_type": "execute_result"
    }
   ],
   "source": [
    "a[2:3]"
   ]
  },
  {
   "cell_type": "code",
   "execution_count": 6,
   "metadata": {},
   "outputs": [
    {
     "data": {
      "text/plain": [
       "[3]"
      ]
     },
     "execution_count": 6,
     "metadata": {},
     "output_type": "execute_result"
    }
   ],
   "source": [
    "a[2:]"
   ]
  },
  {
   "cell_type": "code",
   "execution_count": null,
   "metadata": {},
   "outputs": [],
   "source": [
    "import numpy as np\n",
    "class Solution:\n",
    "    def findClosestElements(self, arr: List[int], k: int, x: int) -> List[int]:\n",
    "        if x <= arr[0]:\n",
    "            return arr[:k]\n",
    "        if x >= arr[-1]:\n",
    "            return arr[len(arr)-k:]\n",
    "        dp =[]\n",
    "        for j in range(len(arr)):\n",
    "            dp.append(abs(x-arr[j]))\n",
    "        init_index = dp.index(min(dp))\n",
    "        result = [arr[init_index]]\n",
    "        left = 1\n",
    "        right = 1\n",
    "        while k > 1:       \n",
    "            try:\n",
    "                if x - arr[init_index-left] <= arr[init_index+right] - x:\n",
    "                        #print(arr[init_index-left])\n",
    "                        print(arr[init_index-left])\n",
    "                        result.append(arr[init_index-left])\n",
    "                        left = left + 1\n",
    "                        #arr.pop(arr[init_index-left])\n",
    "                else:\n",
    "                        result.append(arr[init_index+right])\n",
    "                        print(arr[init_index+right])\n",
    "                        right = right + 1\n",
    "                        #arr.pop(arr[init_index+right])\n",
    "                k = k - 1\n",
    "            except:\n",
    "                break\n",
    "        #print(left)\n",
    "        if k > 1 and left == init_index+1:\n",
    "                for i in range(k-1):\n",
    "                    print(arr[i])\n",
    "                    result.append(arr[init_index+right+i]) \n",
    "        if k > 1 and right == len(arr)+1-init_index:\n",
    "                for i in range(k):\n",
    "                    print(arr[i])\n",
    "                    result.append(arr[init_index-right-i])\n",
    "        result.sort()\n",
    "        return result\n",
    "        \n",
    "        "
   ]
  },
  {
   "cell_type": "code",
   "execution_count": 14,
   "metadata": {},
   "outputs": [],
   "source": [
    "#import numpy as np\n",
    "class Solution:\n",
    "    def findClosestElements(self, arr, k: int, x: int) :\n",
    "        tmp = sorted(arr, key = lambda n: abs(x-n))\n",
    "        #print(tmp)\n",
    "        tmp = tmp[:k]\n",
    "        tmp.sort()\n",
    "        return tmp"
   ]
  },
  {
   "cell_type": "code",
   "execution_count": 15,
   "metadata": {},
   "outputs": [
    {
     "data": {
      "text/plain": [
       "[2, 3, 4]"
      ]
     },
     "execution_count": 15,
     "metadata": {},
     "output_type": "execute_result"
    }
   ],
   "source": [
    "instance = Solution()\n",
    "instance.findClosestElements([1,2,3,4],3,3)"
   ]
  },
  {
   "cell_type": "code",
   "execution_count": 16,
   "metadata": {},
   "outputs": [],
   "source": [
    "a = 'abcb'"
   ]
  },
  {
   "cell_type": "code",
   "execution_count": 17,
   "metadata": {},
   "outputs": [
    {
     "data": {
      "text/plain": [
       "'bc'"
      ]
     },
     "execution_count": 17,
     "metadata": {},
     "output_type": "execute_result"
    }
   ],
   "source": [
    "a[1:3]"
   ]
  },
  {
   "cell_type": "code",
   "execution_count": 18,
   "metadata": {},
   "outputs": [],
   "source": [
    "b = ['abcb','abcb']"
   ]
  },
  {
   "cell_type": "code",
   "execution_count": 19,
   "metadata": {},
   "outputs": [
    {
     "data": {
      "text/plain": [
       "{'abcb'}"
      ]
     },
     "execution_count": 19,
     "metadata": {},
     "output_type": "execute_result"
    }
   ],
   "source": [
    "set(b)"
   ]
  },
  {
   "cell_type": "code",
   "execution_count": 52,
   "metadata": {},
   "outputs": [],
   "source": [
    "import math\n",
    "\n",
    "def closestLocations(totalCrates, allLocations, truckCapacity):\n",
    "    # WRITE YOUR CODE HERE\n",
    "    allLocations_distance = []\n",
    "    for x in allLocations:\n",
    "        tmp = math.sqrt(x[0]*x[0]+x[1]*x[1])\n",
    "        allLocations_distance.append(tmp) \n",
    "    print(allLocations_distance)\n",
    "    tmp = sorted(allLocations, key = lambda x: x[0]*x[0]+x[1]*x[1])\n",
    "    print(tmp)"
   ]
  },
  {
   "cell_type": "code",
   "execution_count": 53,
   "metadata": {},
   "outputs": [],
   "source": [
    "allLocations = [[1,2],[3,4],[1,-1]]"
   ]
  },
  {
   "cell_type": "code",
   "execution_count": 54,
   "metadata": {},
   "outputs": [],
   "source": [
    "totalCrates = 3\n",
    "truckCapacity = 2"
   ]
  },
  {
   "cell_type": "code",
   "execution_count": 55,
   "metadata": {},
   "outputs": [
    {
     "name": "stdout",
     "output_type": "stream",
     "text": [
      "[2.23606797749979, 5.0, 1.4142135623730951]\n",
      "[[1, -1], [1, 2], [3, 4]]\n"
     ]
    }
   ],
   "source": [
    "closestLocations(totalCrates, allLocations, truckCapacity)"
   ]
  },
  {
   "cell_type": "code",
   "execution_count": 58,
   "metadata": {},
   "outputs": [],
   "source": [
    "import math\n",
    "\n",
    "def closestLocations(totalCrates, allLocations, truckCapacity):\n",
    "    # WRITE YOUR CODE HERE\n",
    "    #allLocations_distance = []\n",
    "    result = []\n",
    "    tmp = sorted(allLocations, key = lambda x: x[0]*x[0]+x[1]*x[1])\n",
    "    first_point = tmp[0]\n",
    "    result.append(first_point)\n",
    "    k = 1\n",
    "    while k < truckCapacity:\n",
    "        min_location = pow(2,31)\n",
    "        tmp = first_point\n",
    "        for j in range(0,len(allLocations)):\n",
    "            tmp_x = allLocations[j][0] - first_point[0]\n",
    "            tmp_y = allLocations[j][1] - first_point[1]\n",
    "            tmp_location = math.sqrt(tmp_x*tmp_x+tmp_y*tmp_y)\n",
    "            if tmp_location < min_location:\n",
    "                min_location = tmp_location\n",
    "                tmp = allLocations[j]\n",
    "        result.append(tmp)\n",
    "        allLocations.pop(tmp)\n",
    "    #tmp = sorted(allLocations, key = lambda x: x[0]*x[0]+x[1]*x[1])\n",
    "    #print(tmp)\n",
    "    return result"
   ]
  },
  {
   "cell_type": "code",
   "execution_count": 59,
   "metadata": {},
   "outputs": [],
   "source": [
    "a = [[1,2],[3,4]]"
   ]
  },
  {
   "cell_type": "code",
   "execution_count": 61,
   "metadata": {},
   "outputs": [
    {
     "data": {
      "text/plain": [
       "[1, 2]"
      ]
     },
     "execution_count": 61,
     "metadata": {},
     "output_type": "execute_result"
    }
   ],
   "source": [
    "a.pop(a.index([1,2]))"
   ]
  },
  {
   "cell_type": "code",
   "execution_count": null,
   "metadata": {},
   "outputs": [],
   "source": [
    "temp = sorted(allLocations, key = lambda x: x[0]*x[0]+x[1]*x[1])"
   ]
  },
  {
   "cell_type": "code",
   "execution_count": 66,
   "metadata": {},
   "outputs": [],
   "source": [
    "a = [3,4,3,6,7]"
   ]
  },
  {
   "cell_type": "code",
   "execution_count": 72,
   "metadata": {},
   "outputs": [],
   "source": [
    "k = 100\n",
    "j = 1"
   ]
  },
  {
   "cell_type": "code",
   "execution_count": 75,
   "metadata": {},
   "outputs": [
    {
     "name": "stdout",
     "output_type": "stream",
     "text": [
      "3\n",
      "3\n",
      "3\n",
      "3\n",
      "3\n",
      "3\n",
      "3\n",
      "3\n",
      "3\n"
     ]
    }
   ],
   "source": [
    "while j < 10:\n",
    "    print(k)\n",
    "    for i in range(len(a)):\n",
    "        if a[i] < k:\n",
    "            print(a[i])\n",
    "            k = a[i]\n",
    "    j = j+1"
   ]
  },
  {
   "cell_type": "code",
   "execution_count": 69,
   "metadata": {},
   "outputs": [
    {
     "data": {
      "text/plain": [
       "3"
      ]
     },
     "execution_count": 69,
     "metadata": {},
     "output_type": "execute_result"
    }
   ],
   "source": [
    "k"
   ]
  },
  {
   "cell_type": "code",
   "execution_count": 71,
   "metadata": {},
   "outputs": [
    {
     "data": {
      "text/plain": [
       "1"
      ]
     },
     "execution_count": 71,
     "metadata": {},
     "output_type": "execute_result"
    }
   ],
   "source": [
    "x = -1\n",
    "x*x"
   ]
  },
  {
   "cell_type": "code",
   "execution_count": 81,
   "metadata": {},
   "outputs": [
    {
     "data": {
      "text/plain": [
       "'djtfdcs'"
      ]
     },
     "execution_count": 81,
     "metadata": {},
     "output_type": "execute_result"
    }
   ],
   "source": [
    "import subprocess\n",
    "subprocess.getoutput('echo \"djtfdcs\"')"
   ]
  },
  {
   "cell_type": "code",
   "execution_count": 82,
   "metadata": {},
   "outputs": [
    {
     "data": {
      "text/plain": [
       "'djtfdcs'"
      ]
     },
     "execution_count": 82,
     "metadata": {},
     "output_type": "execute_result"
    }
   ],
   "source": [
    "tmp = [\"djtfdcs\"]\n",
    "tmp.pop()"
   ]
  },
  {
   "cell_type": "code",
   "execution_count": null,
   "metadata": {},
   "outputs": [],
   "source": []
  }
 ],
 "metadata": {
  "kernelspec": {
   "display_name": "Python 3",
   "language": "python",
   "name": "python3"
  },
  "language_info": {
   "codemirror_mode": {
    "name": "ipython",
    "version": 3
   },
   "file_extension": ".py",
   "mimetype": "text/x-python",
   "name": "python",
   "nbconvert_exporter": "python",
   "pygments_lexer": "ipython3",
   "version": "3.7.3"
  }
 },
 "nbformat": 4,
 "nbformat_minor": 2
}
