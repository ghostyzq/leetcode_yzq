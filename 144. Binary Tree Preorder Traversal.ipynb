{
 "cells": [
  {
   "cell_type": "code",
   "execution_count": 1,
   "metadata": {},
   "outputs": [],
   "source": [
    "# Definition for a binary tree node.\n",
    "class TreeNode:\n",
    "     def __init__(self, x):\n",
    "            self.val = x\n",
    "            self.left = None\n",
    "            self.right = None\n",
    "\n",
    "class Solution:\n",
    "    def preorderTraversal(self, root: TreeNode):\n",
    "        if not root:\n",
    "            return []\n",
    "        stack = []\n",
    "        stack.append(root)\n",
    "        result = []\n",
    "        while stack:\n",
    "            vertex = stack.pop()\n",
    "            if vertex is not None:\n",
    "                result.append(vertex.val)\n",
    "                if vertex.right is not None:\n",
    "                    stack.append(vertex.right)\n",
    "                if vertex.left is not None:\n",
    "                    stack.append(vertex.left)\n",
    "        return result\n",
    "            \n",
    "        "
   ]
  },
  {
   "cell_type": "code",
   "execution_count": null,
   "metadata": {},
   "outputs": [],
   "source": []
  }
 ],
 "metadata": {
  "kernelspec": {
   "display_name": "Python 3",
   "language": "python",
   "name": "python3"
  },
  "language_info": {
   "codemirror_mode": {
    "name": "ipython",
    "version": 3
   },
   "file_extension": ".py",
   "mimetype": "text/x-python",
   "name": "python",
   "nbconvert_exporter": "python",
   "pygments_lexer": "ipython3",
   "version": "3.7.3"
  }
 },
 "nbformat": 4,
 "nbformat_minor": 2
}
