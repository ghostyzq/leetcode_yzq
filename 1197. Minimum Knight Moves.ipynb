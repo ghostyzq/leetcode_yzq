{
 "cells": [
  {
   "cell_type": "code",
   "execution_count": 1,
   "metadata": {},
   "outputs": [],
   "source": [
    "class Solution:\n",
    "    def __init__(self):\n",
    "        self.queue = []\n",
    "\n",
    "    def move(self,x,y,step):\n",
    "        for dx,dy in self.direction:\n",
    "            newx, newy = x + dx, y + dy\n",
    "            if (newx,newy) in self.visited:\n",
    "                continue\n",
    "            elif newx < -2 or newy < -2:\n",
    "                continue\n",
    "            else:\n",
    "                self.queue.append((newx,newy,step))\n",
    "                self.visited.add((newx,newy))\n",
    "        \n",
    "    def minKnightMoves(self, x: int, y: int) -> int: \n",
    "        step, self.x, self.y = 0, abs(x), abs(y) # 4 dimension is actually one  dimension\n",
    "        self.direction = [(-2, 1), (-1, 2), (1, 2), (2, 1), (2, -1), (1, -2), (-1, -2), (-2, -1)]\n",
    "        self.queue.append((0,0,step))\n",
    "        self.visited = set() #hash set for look up time optimization\n",
    "        while self.queue:\n",
    "            current_x,current_y,current_step =  self.queue.pop(0)\n",
    "            if current_x == self.x and current_y == self.y:\n",
    "                return current_step\n",
    "            self.move(current_x,current_y,current_step+1)\n",
    "        return -1"
   ]
  },
  {
   "cell_type": "code",
   "execution_count": 3,
   "metadata": {},
   "outputs": [
    {
     "data": {
      "text/plain": [
       "4"
      ]
     },
     "execution_count": 3,
     "metadata": {},
     "output_type": "execute_result"
    }
   ],
   "source": [
    "x = 5\n",
    "y = 5\n",
    "instance = Solution()\n",
    "instance.minKnightMoves(x,y)"
   ]
  },
  {
   "cell_type": "code",
   "execution_count": null,
   "metadata": {},
   "outputs": [],
   "source": []
  },
  {
   "cell_type": "code",
   "execution_count": null,
   "metadata": {},
   "outputs": [],
   "source": [
    "\"\"\"\n",
    "        self.queue.append((x+2,y+1,step))\n",
    "        self.queue.append((x+1,y+2,step))\n",
    "        self.queue.append((x+2,y-1,step))\n",
    "        self.queue.append((x+1,y-2,step))\n",
    "        #if x > self.targetx and y < 5*self.targety:\n",
    "        self.queue.append((x-2,y+1,step))\n",
    "        self.queue.append((x-1,y+2,step))\n",
    "        #if x > 0.5*self.targetx and y > 0.5*self.targety:\n",
    "        self.queue.append((x-2,y-1,step))\n",
    "        self.queue.append((x-1,y-2,step))\n",
    "        \n",
    "\"\"\""
   ]
  }
 ],
 "metadata": {
  "kernelspec": {
   "display_name": "Python 3",
   "language": "python",
   "name": "python3"
  },
  "language_info": {
   "codemirror_mode": {
    "name": "ipython",
    "version": 3
   },
   "file_extension": ".py",
   "mimetype": "text/x-python",
   "name": "python",
   "nbconvert_exporter": "python",
   "pygments_lexer": "ipython3",
   "version": "3.7.3"
  }
 },
 "nbformat": 4,
 "nbformat_minor": 2
}
