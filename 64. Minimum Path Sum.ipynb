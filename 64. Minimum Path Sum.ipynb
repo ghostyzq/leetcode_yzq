{
 "cells": [
  {
   "cell_type": "code",
   "execution_count": 1,
   "metadata": {},
   "outputs": [],
   "source": [
    "import numpy as np\n",
    "\n",
    "class Solution:\n",
    "    def minPathSum(self, grid) -> int:\n",
    "        dp = np.zeros([len(grid)+1,len(grid[0])+1],dtype=int)\n",
    "        dp[len(grid)-1][len(grid[0])-1] = grid[-1][-1]\n",
    "        for i in range(len(grid)-1,-1,-1):\n",
    "            for j in range(len(grid[0])-1,-1,-1):\n",
    "                if j == len(grid[0])-1 or i == len(grid)-1:\n",
    "                    dp[i][j] = max(dp[i+1][j],dp[i][j+1])+grid[i][j]\n",
    "                else:\n",
    "                    dp[i][j] = min(dp[i+1][j],dp[i][j+1])+grid[i][j]\n",
    "        return dp[0][0]"
   ]
  },
  {
   "cell_type": "code",
   "execution_count": 2,
   "metadata": {},
   "outputs": [
    {
     "data": {
      "text/plain": [
       "7"
      ]
     },
     "execution_count": 2,
     "metadata": {},
     "output_type": "execute_result"
    }
   ],
   "source": [
    "grid = [\n",
    "  [1,3,1],\n",
    "  [1,5,1],\n",
    "  [4,2,1]\n",
    "]\n",
    "instance = Solution()\n",
    "instance.minPathSum(grid)"
   ]
  },
  {
   "cell_type": "code",
   "execution_count": null,
   "metadata": {},
   "outputs": [],
   "source": []
  }
 ],
 "metadata": {
  "kernelspec": {
   "display_name": "Python 3",
   "language": "python",
   "name": "python3"
  },
  "language_info": {
   "codemirror_mode": {
    "name": "ipython",
    "version": 3
   },
   "file_extension": ".py",
   "mimetype": "text/x-python",
   "name": "python",
   "nbconvert_exporter": "python",
   "pygments_lexer": "ipython3",
   "version": "3.7.3"
  }
 },
 "nbformat": 4,
 "nbformat_minor": 2
}
