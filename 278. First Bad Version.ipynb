{
 "cells": [
  {
   "cell_type": "code",
   "execution_count": 1,
   "metadata": {},
   "outputs": [],
   "source": [
    "class Solution:\n",
    "    def firstBadVersion(self, n):\n",
    "        \"\"\"\n",
    "        :type n: int\n",
    "        :rtype: int\n",
    "        \"\"\"\n",
    "        if isBadVersion(1) == True:\n",
    "            return 1\n",
    "        start,i,end = 1,n//2, n\n",
    "        if isBadVersion(i) == True and  isBadVersion(i-1) == False:\n",
    "            return i\n",
    "        while (isBadVersion(i) == False and isBadVersion(i+1) == False) or (isBadVersion(i) == True and isBadVersion(i+1) == True):\n",
    "            if isBadVersion(i) == True:\n",
    "                end = i \n",
    "                i = start+(i-start)//2  # in case of overflow 'int type we use low + (high-low) // 2'\n",
    "            else:\n",
    "                start = i\n",
    "                i = i + (end-i)//2\n",
    "        return"
   ]
  },
  {
   "cell_type": "code",
   "execution_count": null,
   "metadata": {},
   "outputs": [],
   "source": []
  }
 ],
 "metadata": {
  "kernelspec": {
   "display_name": "Python 3",
   "language": "python",
   "name": "python3"
  },
  "language_info": {
   "codemirror_mode": {
    "name": "ipython",
    "version": 3
   },
   "file_extension": ".py",
   "mimetype": "text/x-python",
   "name": "python",
   "nbconvert_exporter": "python",
   "pygments_lexer": "ipython3",
   "version": "3.7.3"
  }
 },
 "nbformat": 4,
 "nbformat_minor": 2
}
