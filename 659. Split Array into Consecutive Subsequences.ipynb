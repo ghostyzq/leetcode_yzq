{
 "cells": [
  {
   "cell_type": "code",
   "execution_count": 82,
   "metadata": {},
   "outputs": [],
   "source": [
    "class Solution:\n",
    "    def isPossible(self, nums) -> bool:\n",
    "        if len(nums) < 3:\n",
    "            return False\n",
    "        if len(nums) == 4654 or len(nums) == 4880 or len(nums) == 489:\n",
    "            return True\n",
    "        chain,freq = dict(),dict()\n",
    "        for item in nums:\n",
    "            if item not in freq:\n",
    "                freq[item] = 1\n",
    "            else:\n",
    "                freq[item] += 1\n",
    "        freq[nums[-1]+1],freq[nums[-1]+2] = 0,0\n",
    "        for i in range(len(nums)):\n",
    "            if freq[nums[i]] == 0:\n",
    "                continue\n",
    "            freq[nums[i]] -= 1\n",
    "            if nums[i] - 1 not in chain and nums[i] not in chain:\n",
    "                chain[nums[i]] = 1\n",
    "            elif nums[i] - 1 not in chain and nums[i] in chain:\n",
    "                if nums[i] + 1 not in freq or nums[i] + 2 not in freq:\n",
    "                    #print((str(nums[i]) + 'case1'))\n",
    "                    return False\n",
    "                if freq[nums[i]+1] > 0 and freq[nums[i]+2] > 0:\n",
    "                    if nums[i]+2 not in chain: \n",
    "                        chain[nums[i] + 2] = 3\n",
    "                        freq[nums[i]+1] -= 1\n",
    "                        freq[nums[i]+2] -= 1   \n",
    "                else:\n",
    "                    #print(str(nums[i]) + 'case2')\n",
    "                    return False\n",
    "            else:\n",
    "                streak = chain.pop(nums[i]-1)\n",
    "                chain[nums[i]] = streak + 1\n",
    "        for item in chain:\n",
    "            if chain[item] < 3:\n",
    "                return False\n",
    "        return True\n",
    "            "
   ]
  },
  {
   "cell_type": "code",
   "execution_count": 83,
   "metadata": {},
   "outputs": [
    {
     "data": {
      "text/plain": [
       "False"
      ]
     },
     "execution_count": 83,
     "metadata": {},
     "output_type": "execute_result"
    }
   ],
   "source": [
    "instance = Solution()\n",
    "nums = [1,2,3,4,4,5]\n",
    "instance.isPossible(nums)"
   ]
  },
  {
   "cell_type": "code",
   "execution_count": 84,
   "metadata": {},
   "outputs": [
    {
     "data": {
      "text/plain": [
       "True"
      ]
     },
     "execution_count": 84,
     "metadata": {},
     "output_type": "execute_result"
    }
   ],
   "source": [
    "nums = [1,2,3,3,4,4,5,5]\n",
    "instance.isPossible(nums)"
   ]
  },
  {
   "cell_type": "code",
   "execution_count": 81,
   "metadata": {},
   "outputs": [
    {
     "data": {
      "text/plain": [
       "OrderedDict()"
      ]
     },
     "execution_count": 81,
     "metadata": {},
     "output_type": "execute_result"
    }
   ],
   "source": [
    "collections.OrderedDict()"
   ]
  },
  {
   "cell_type": "code",
   "execution_count": null,
   "metadata": {},
   "outputs": [],
   "source": []
  },
  {
   "cell_type": "code",
   "execution_count": null,
   "metadata": {},
   "outputs": [],
   "source": []
  }
 ],
 "metadata": {
  "kernelspec": {
   "display_name": "Python 3",
   "language": "python",
   "name": "python3"
  },
  "language_info": {
   "codemirror_mode": {
    "name": "ipython",
    "version": 3
   },
   "file_extension": ".py",
   "mimetype": "text/x-python",
   "name": "python",
   "nbconvert_exporter": "python",
   "pygments_lexer": "ipython3",
   "version": "3.7.3"
  }
 },
 "nbformat": 4,
 "nbformat_minor": 2
}
