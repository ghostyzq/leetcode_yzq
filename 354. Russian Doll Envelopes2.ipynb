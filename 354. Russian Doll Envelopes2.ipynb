{
 "cells": [
  {
   "cell_type": "code",
   "execution_count": 9,
   "metadata": {},
   "outputs": [],
   "source": [
    "import numpy as np\n",
    "\n",
    "class Solution:\n",
    "    def maxEnvelopes(self, envelopes) -> int:\n",
    "        if not envelopes:\n",
    "            return 0\n",
    "        dp = np.zeros(len(envelopes))\n",
    "        envelopes = sorted(envelopes,key = lambda x:x[0]*x[1])\n",
    "        #print(envelopes)\n",
    "        dp[0] = 0\n",
    "        for i in range(1,len(dp)):\n",
    "            if envelopes[i] == envelopes[i-1]:\n",
    "                continue\n",
    "            local_max = 0\n",
    "            changed = 0\n",
    "            for j in range(0,i):\n",
    "                tmp = 0\n",
    "                if envelopes[i][0] > envelopes[j][0] and envelopes[i][1] > envelopes[j][1]:\n",
    "                    tmp = dp[j]+1\n",
    "                    if tmp > local_max:\n",
    "                        local_max = tmp\n",
    "                        changed = 1\n",
    "                        #print(local_max)\n",
    "            dp[i] = local_max\n",
    "       # print(dp)\n",
    "        return int(max(dp)+1)"
   ]
  },
  {
   "cell_type": "code",
   "execution_count": 10,
   "metadata": {},
   "outputs": [],
   "source": [
    "instance = Solution()"
   ]
  },
  {
   "cell_type": "code",
   "execution_count": 11,
   "metadata": {},
   "outputs": [],
   "source": [
    "envelopes = [[5,4],[6,4],[6,7],[2,3]]"
   ]
  },
  {
   "cell_type": "code",
   "execution_count": 12,
   "metadata": {},
   "outputs": [
    {
     "data": {
      "text/plain": [
       "3"
      ]
     },
     "execution_count": 12,
     "metadata": {},
     "output_type": "execute_result"
    }
   ],
   "source": [
    "instance.maxEnvelopes(envelopes)"
   ]
  },
  {
   "cell_type": "code",
   "execution_count": null,
   "metadata": {},
   "outputs": [],
   "source": []
  }
 ],
 "metadata": {
  "kernelspec": {
   "display_name": "Python 3",
   "language": "python",
   "name": "python3"
  },
  "language_info": {
   "codemirror_mode": {
    "name": "ipython",
    "version": 3
   },
   "file_extension": ".py",
   "mimetype": "text/x-python",
   "name": "python",
   "nbconvert_exporter": "python",
   "pygments_lexer": "ipython3",
   "version": "3.7.3"
  }
 },
 "nbformat": 4,
 "nbformat_minor": 2
}
