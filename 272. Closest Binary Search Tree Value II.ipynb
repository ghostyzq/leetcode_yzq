{
 "cells": [
  {
   "cell_type": "code",
   "execution_count": 6,
   "metadata": {},
   "outputs": [],
   "source": [
    "# Definition for a binary tree node.\n",
    "from collections import deque\n",
    "#array[array]\n",
    "#actually it works like a two stack\n",
    "class TreeNode:\n",
    "     def __init__(self, x):\n",
    "        self.val = x\n",
    "        self.left = None\n",
    "        self.right = None\n",
    "\n",
    "class Solution:\n",
    "    def closestKValues(self, root: TreeNode, target, k):\n",
    "        result = []\n",
    "        root = deque([root])\n",
    "        while root:\n",
    "            node = root.popleft()\n",
    "            tmp = 0\n",
    "            if len(result) < k:\n",
    "                tmp = abs(node.val - target)\n",
    "                result.append([tmp,node.val])\n",
    "            else:\n",
    "                tmp = abs(float(node.val) - target)\n",
    "                position = 0\n",
    "                tmp_abs = 0\n",
    "                count = 0\n",
    "                for i in range(0,k):\n",
    "                    if result[i][0] - tmp > tmp_abs:\n",
    "                        position = i\n",
    "                        tmp_abs = result[i][0] - tmp\n",
    "                        count = 1\n",
    "                if count == 1:\n",
    "                    result[position] = [tmp,node.val]   \n",
    "            if node.left:\n",
    "                root.append(node.left)\n",
    "            if node.right:\n",
    "                root.append(node.right)\n",
    "        result_act = []\n",
    "        for x in result:\n",
    "            result_act.append(x[1])\n",
    "        return result_act"
   ]
  },
  {
   "cell_type": "code",
   "execution_count": 7,
   "metadata": {},
   "outputs": [],
   "source": [
    "class Solution:\n",
    "    def closestKValues(self, root, target, k):\n",
    "        deque = []\n",
    "        stack = []\n",
    "        while root or stack:\n",
    "            while root:\n",
    "                stack.append(root)\n",
    "                root = root.left\n",
    "            root = stack.pop()\n",
    "            if len(deque) < k:\n",
    "                deque.append(root.val)\n",
    "            else:\n",
    "                if root.val <= target or abs(deque[0] - target) > abs(root.val - target):\n",
    "                    deque.pop(0)\n",
    "                    deque.append(root.val)                    \n",
    "                else:\n",
    "                    return deque\n",
    "            root = root.right\n",
    "        return deque"
   ]
  },
  {
   "cell_type": "code",
   "execution_count": 9,
   "metadata": {},
   "outputs": [],
   "source": [
    "#heap\n",
    "class Solution:\n",
    "    def closestKValues(self, root: TreeNode, target: float, k: int) :\n",
    "        \n",
    "        heap = []\n",
    "        \n",
    "        def helper(root):\n",
    "            if root is None:\n",
    "                return\n",
    "            #taking negative of diff since we want a max heap\n",
    "            difference_to_target = -(abs(target - root.val)) \n",
    "            # fill k values in heap\n",
    "            if len(heap) < k:\n",
    "                heapq.heappush(heap, [difference_to_target, root.val])\n",
    "            # remove top if smaller difference found\n",
    "            elif difference_to_target > heap[0][0]:\n",
    "                heapq.heappushpop(heap, [difference_to_target, root.val])            \n",
    "            helper(root.left)\n",
    "            helper(root.right)\n",
    "            \n",
    "        \n",
    "        helper(root)\n",
    "        return [x2 for x1, x2 in heap]   "
   ]
  },
  {
   "cell_type": "code",
   "execution_count": null,
   "metadata": {},
   "outputs": [],
   "source": []
  }
 ],
 "metadata": {
  "kernelspec": {
   "display_name": "Python 3",
   "language": "python",
   "name": "python3"
  },
  "language_info": {
   "codemirror_mode": {
    "name": "ipython",
    "version": 3
   },
   "file_extension": ".py",
   "mimetype": "text/x-python",
   "name": "python",
   "nbconvert_exporter": "python",
   "pygments_lexer": "ipython3",
   "version": "3.7.3"
  }
 },
 "nbformat": 4,
 "nbformat_minor": 2
}
