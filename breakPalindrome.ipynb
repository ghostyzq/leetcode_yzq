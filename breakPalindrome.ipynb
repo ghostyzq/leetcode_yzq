{
 "cells": [
  {
   "cell_type": "code",
   "execution_count": 2,
   "metadata": {},
   "outputs": [],
   "source": [
    "def breakPalindrome(s):\n",
    "    # Write your code here\n",
    "    if type(s) is not str:\n",
    "        return 'IMPOSSIBLE'\n",
    "    if not s:\n",
    "        return 'IMPOSSIBLE'\n",
    "    if len(s) == 1:\n",
    "        return 'IMPOSSIBLE'\n",
    "    left = 0\n",
    "    right = len(s)-1\n",
    "    #s = s.lower()\n",
    "    s = list(s)\n",
    "    changed = 0\n",
    "    for i in range(0,len(s)//2+1):\n",
    "        if s[i] == 'a':\n",
    "            continue\n",
    "        else:\n",
    "            s[i] = 'a'\n",
    "            changed = 1\n",
    "            break\n",
    "    not_p = 1\n",
    "    while left < right: #check whether the input is Palindrome or not\n",
    "        if s[left] != s[right]:\n",
    "            not_p = 0\n",
    "        left += 1\n",
    "        right -= 1\n",
    "    if not_p:\n",
    "        return \"IMPOSSIBLE\"\n",
    "    if changed == 1:\n",
    "        return \"\".join(s)\n",
    "    else:\n",
    "        return \"IMPOSSIBLE\""
   ]
  },
  {
   "cell_type": "code",
   "execution_count": 3,
   "metadata": {},
   "outputs": [
    {
     "data": {
      "text/plain": [
       "'aacdedcba'"
      ]
     },
     "execution_count": 3,
     "metadata": {},
     "output_type": "execute_result"
    }
   ],
   "source": [
    "s = 'abcdedcba'\n",
    "breakPalindrome(s)"
   ]
  },
  {
   "cell_type": "code",
   "execution_count": null,
   "metadata": {},
   "outputs": [],
   "source": []
  }
 ],
 "metadata": {
  "kernelspec": {
   "display_name": "Python 3",
   "language": "python",
   "name": "python3"
  },
  "language_info": {
   "codemirror_mode": {
    "name": "ipython",
    "version": 3
   },
   "file_extension": ".py",
   "mimetype": "text/x-python",
   "name": "python",
   "nbconvert_exporter": "python",
   "pygments_lexer": "ipython3",
   "version": "3.7.3"
  }
 },
 "nbformat": 4,
 "nbformat_minor": 2
}
