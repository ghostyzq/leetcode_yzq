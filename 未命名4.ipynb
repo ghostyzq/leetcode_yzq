{
 "cells": [
  {
   "cell_type": "code",
   "execution_count": 2,
   "metadata": {},
   "outputs": [],
   "source": [
    "import numpy as np\n",
    "\n",
    "\n",
    "def wordBreak(s: str, wordDict) -> bool:\n",
    "        stack = [0]\n",
    "        ls = len(s)\n",
    "        no_repeat = []\n",
    "        for x in wordDict:\n",
    "            no_repeat.append(len(x))\n",
    "        lenList = list(set(no_repeat))\n",
    "        print(lenList)\n",
    "        visited = np.zeros(len(s))\n",
    "        print(visited)\n",
    "        while stack:\n",
    "            vertex = stack.pop()\n",
    "            for l in lenList:\n",
    "                if s[vertex:vertex + l] in wordDict:\n",
    "                        if vertex + l == ls:\n",
    "                            return True\n",
    "                        if visited[vertex + l] == 0:\n",
    "                            stack.append(vertex + l)\n",
    "                            visited[vertex + l] = 1\n",
    "        return False"
   ]
  },
  {
   "cell_type": "code",
   "execution_count": 3,
   "metadata": {},
   "outputs": [],
   "source": [
    "s = \"applepenapple\"\n",
    "wordDict = [\"apple\", \"pen\",\"app\"]"
   ]
  },
  {
   "cell_type": "code",
   "execution_count": 4,
   "metadata": {},
   "outputs": [
    {
     "name": "stdout",
     "output_type": "stream",
     "text": [
      "[3, 5]\n",
      "[0. 0. 0. 0. 0. 0. 0. 0. 0. 0. 0. 0. 0.]\n"
     ]
    },
    {
     "data": {
      "text/plain": [
       "True"
      ]
     },
     "execution_count": 4,
     "metadata": {},
     "output_type": "execute_result"
    }
   ],
   "source": [
    "wordBreak(s,wordDict)"
   ]
  },
  {
   "cell_type": "code",
   "execution_count": null,
   "metadata": {},
   "outputs": [],
   "source": []
  }
 ],
 "metadata": {
  "kernelspec": {
   "display_name": "Python 3",
   "language": "python",
   "name": "python3"
  },
  "language_info": {
   "codemirror_mode": {
    "name": "ipython",
    "version": 3
   },
   "file_extension": ".py",
   "mimetype": "text/x-python",
   "name": "python",
   "nbconvert_exporter": "python",
   "pygments_lexer": "ipython3",
   "version": "3.7.3"
  }
 },
 "nbformat": 4,
 "nbformat_minor": 2
}
