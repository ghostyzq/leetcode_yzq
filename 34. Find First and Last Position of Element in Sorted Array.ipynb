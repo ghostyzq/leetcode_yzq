{
 "cells": [
  {
   "cell_type": "code",
   "execution_count": null,
   "metadata": {},
   "outputs": [],
   "source": [
    "class Solution:\n",
    "    def searchRange(self, nums: List[int], target: int) -> List[int]:\n",
    "        if not nums:\n",
    "            return [-1,-1]\n",
    "        if len(nums) == 1:\n",
    "            if target != nums[0]:\n",
    "                return [-1,-1]\n",
    "            else:\n",
    "                return [0,0]\n",
    "        if target < nums[0] or target > nums[-1]:\n",
    "            return [-1,-1]\n",
    "        right = len(nums)//2\n",
    "        left = right - 1\n",
    "        while left>=0 and right<=len(nums)-1:\n",
    "            if nums[right] < target:\n",
    "                right += 1\n",
    "            if nums[left] > target:\n",
    "                left += 1\n",
    "                right += 1\n",
    "                \n",
    "        \n",
    "        "
   ]
  }
 ],
 "metadata": {
  "kernelspec": {
   "display_name": "Python 3",
   "language": "python",
   "name": "python3"
  },
  "language_info": {
   "codemirror_mode": {
    "name": "ipython",
    "version": 3
   },
   "file_extension": ".py",
   "mimetype": "text/x-python",
   "name": "python",
   "nbconvert_exporter": "python",
   "pygments_lexer": "ipython3",
   "version": "3.7.3"
  }
 },
 "nbformat": 4,
 "nbformat_minor": 2
}
