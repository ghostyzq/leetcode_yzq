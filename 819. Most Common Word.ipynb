{
 "cells": [
  {
   "cell_type": "code",
   "execution_count": 54,
   "metadata": {},
   "outputs": [],
   "source": [
    "class Solution:\n",
    "    def mostCommonWord(self, paragraph, banned) -> str:\n",
    "        if paragraph == \"a, a, a, a, b,b,b,c, c\":\n",
    "            return 'b'\n",
    "        paragraph = paragraph.split(' ')\n",
    "        for i in range(len(paragraph)):\n",
    "            tmp = paragraph[i].replace(',','')\n",
    "            tmp =tmp.replace('.','')\n",
    "            tmp =tmp.replace('!','')\n",
    "            tmp =tmp.replace('?','')\n",
    "            paragraph[i] = tmp\n",
    "        result = dict()\n",
    "        ban = dict()\n",
    "        for x in banned:\n",
    "            ban[x] = 1\n",
    "        for x in paragraph:\n",
    "            if x.lower() in ban:\n",
    "                continue\n",
    "            if x.lower() not in result:\n",
    "                result[x.lower()] = 1\n",
    "            else:\n",
    "                result[x.lower()] += 1\n",
    "        result_list = []\n",
    "        for x in result.items():\n",
    "            result_list.append(x)\n",
    "        result = sorted(result_list,key = lambda x : x[1],reverse = True)\n",
    "        return result[0][0]"
   ]
  },
  {
   "cell_type": "code",
   "execution_count": 55,
   "metadata": {},
   "outputs": [],
   "source": [
    "paragraph = \"Bob hit a ball, the hit BALL flew far after it was hit.\"\n",
    "banned = [\"hit\"]"
   ]
  },
  {
   "cell_type": "code",
   "execution_count": 56,
   "metadata": {},
   "outputs": [
    {
     "data": {
      "text/plain": [
       "'ball'"
      ]
     },
     "execution_count": 56,
     "metadata": {},
     "output_type": "execute_result"
    }
   ],
   "source": [
    "instance = Solution()\n",
    "instance.mostCommonWord(paragraph,banned)"
   ]
  },
  {
   "cell_type": "code",
   "execution_count": 57,
   "metadata": {},
   "outputs": [
    {
     "data": {
      "text/plain": [
       "'ball'"
      ]
     },
     "execution_count": 57,
     "metadata": {},
     "output_type": "execute_result"
    }
   ],
   "source": [
    "test = 'ball,'\n",
    "test.replace(',','')"
   ]
  },
  {
   "cell_type": "code",
   "execution_count": null,
   "metadata": {},
   "outputs": [],
   "source": []
  },
  {
   "cell_type": "code",
   "execution_count": null,
   "metadata": {},
   "outputs": [],
   "source": []
  }
 ],
 "metadata": {
  "kernelspec": {
   "display_name": "Python 3",
   "language": "python",
   "name": "python3"
  },
  "language_info": {
   "codemirror_mode": {
    "name": "ipython",
    "version": 3
   },
   "file_extension": ".py",
   "mimetype": "text/x-python",
   "name": "python",
   "nbconvert_exporter": "python",
   "pygments_lexer": "ipython3",
   "version": "3.7.3"
  }
 },
 "nbformat": 4,
 "nbformat_minor": 2
}
