{
 "cells": [
  {
   "cell_type": "code",
   "execution_count": 33,
   "metadata": {},
   "outputs": [],
   "source": [
    "s = \"011100\""
   ]
  },
  {
   "cell_type": "code",
   "execution_count": 58,
   "metadata": {},
   "outputs": [],
   "source": [
    "# you can write to stdout for debugging purposes, e.g.\n",
    "# print(\"this is a debug message\")\n",
    "\n",
    "def solution1(S):\n",
    "    # write your code in Python 3.6\n",
    "    number = int(s,2)\n",
    "    step = 0\n",
    "    while number > 0:\n",
    "        if number % 2 == 1:\n",
    "            number -= 1\n",
    "        else:\n",
    "            number = number / 2\n",
    "        step += 1\n",
    "    return step\n"
   ]
  },
  {
   "cell_type": "code",
   "execution_count": 35,
   "metadata": {},
   "outputs": [
    {
     "data": {
      "text/plain": [
       "7"
      ]
     },
     "execution_count": 35,
     "metadata": {},
     "output_type": "execute_result"
    }
   ],
   "source": [
    "solution(s)"
   ]
  },
  {
   "cell_type": "code",
   "execution_count": 36,
   "metadata": {},
   "outputs": [
    {
     "data": {
      "text/plain": [
       "1"
      ]
     },
     "execution_count": 36,
     "metadata": {},
     "output_type": "execute_result"
    }
   ],
   "source": [
    "1%2"
   ]
  },
  {
   "cell_type": "code",
   "execution_count": 37,
   "metadata": {},
   "outputs": [
    {
     "data": {
      "text/plain": [
       "0"
      ]
     },
     "execution_count": 37,
     "metadata": {},
     "output_type": "execute_result"
    }
   ],
   "source": [
    "2%2"
   ]
  },
  {
   "cell_type": "code",
   "execution_count": 48,
   "metadata": {},
   "outputs": [
    {
     "data": {
      "text/plain": [
       "28"
      ]
     },
     "execution_count": 48,
     "metadata": {},
     "output_type": "execute_result"
    }
   ],
   "source": [
    "int('011100',2)"
   ]
  },
  {
   "cell_type": "code",
   "execution_count": 50,
   "metadata": {},
   "outputs": [],
   "source": [
    "def solution2(S):\n",
    "    # write your code in Python 3.6\n",
    "    step = 0\n",
    "    S = list(S)\n",
    "    while S[0] == '0':\n",
    "        S.pop(0)\n",
    "    while len(S) > 1:\n",
    "        if S[-1] == \"1\":\n",
    "            S[-1] = \"0\"\n",
    "        else:\n",
    "            S.pop()\n",
    "        step += 1\n",
    "    if S[0] == '1':\n",
    "        step += 1\n",
    "    return step\n"
   ]
  },
  {
   "cell_type": "code",
   "execution_count": 67,
   "metadata": {},
   "outputs": [
    {
     "data": {
      "text/plain": [
       "27"
      ]
     },
     "execution_count": 67,
     "metadata": {},
     "output_type": "execute_result"
    }
   ],
   "source": [
    "s = \"00000000000010100010110000101010\"\n",
    "solution2(s)"
   ]
  },
  {
   "cell_type": "code",
   "execution_count": 68,
   "metadata": {},
   "outputs": [
    {
     "data": {
      "text/plain": [
       "27"
      ]
     },
     "execution_count": 68,
     "metadata": {},
     "output_type": "execute_result"
    }
   ],
   "source": [
    "solution1(s)"
   ]
  },
  {
   "cell_type": "code",
   "execution_count": 38,
   "metadata": {},
   "outputs": [
    {
     "data": {
      "text/plain": [
       "[-1, 0]"
      ]
     },
     "execution_count": 38,
     "metadata": {},
     "output_type": "execute_result"
    }
   ],
   "source": [
    "a = [-1,0,1]\n",
    "a[:len(a)-1]"
   ]
  },
  {
   "cell_type": "code",
   "execution_count": 30,
   "metadata": {},
   "outputs": [
    {
     "data": {
      "text/plain": [
       "'011100'"
      ]
     },
     "execution_count": 30,
     "metadata": {},
     "output_type": "execute_result"
    }
   ],
   "source": [
    "s"
   ]
  },
  {
   "cell_type": "code",
   "execution_count": 56,
   "metadata": {},
   "outputs": [
    {
     "data": {
      "text/plain": [
       "32"
      ]
     },
     "execution_count": 56,
     "metadata": {},
     "output_type": "execute_result"
    }
   ],
   "source": [
    "len(s)"
   ]
  },
  {
   "cell_type": "code",
   "execution_count": 57,
   "metadata": {},
   "outputs": [
    {
     "data": {
      "text/plain": [
       "1000000"
      ]
     },
     "execution_count": 57,
     "metadata": {},
     "output_type": "execute_result"
    }
   ],
   "source": [
    "int(s,2)"
   ]
  },
  {
   "cell_type": "code",
   "execution_count": 20,
   "metadata": {},
   "outputs": [],
   "source": [
    "import math\n",
    "\n",
    "\n",
    "import math\n",
    "\n",
    "def PerfectNumbers(N):\n",
    "    if N < 0:\n",
    "        return 0\n",
    "    # Write your code here\n",
    "    sqrt_a = math.sqrt(N)\n",
    "    tmp = 2\n",
    "    tmp_list = [1]\n",
    "    while tmp <= sqrt_a:\n",
    "        a = tmp\n",
    "        while a<N/tmp:\n",
    "            a = a*tmp\n",
    "            tmp_list.append(a)\n",
    "        tmp += 1\n",
    "    tmp_set = set(tmp_list)\n",
    "   # print(tmp_list)\n",
    "    total_sum = 0\n",
    "    for x in range(1,N+1):\n",
    "        #print(x)\n",
    "        for y in tmp_list:\n",
    "            if x - y <= 0:\n",
    "                break\n",
    "            elif x-y in tmp_set:\n",
    "                #print(x)\n",
    "                total_sum += 1\n",
    "                break\n",
    "    return total_sum  \n",
    "\n",
    "      "
   ]
  },
  {
   "cell_type": "code",
   "execution_count": 21,
   "metadata": {},
   "outputs": [
    {
     "data": {
      "text/plain": [
       "2"
      ]
     },
     "execution_count": 21,
     "metadata": {},
     "output_type": "execute_result"
    }
   ],
   "source": [
    "PerfectNumbers(5)"
   ]
  },
  {
   "cell_type": "code",
   "execution_count": 23,
   "metadata": {},
   "outputs": [],
   "source": [
    "s = \"the sofa is too big\""
   ]
  },
  {
   "cell_type": "code",
   "execution_count": 29,
   "metadata": {},
   "outputs": [],
   "source": [
    "tmp = s.split()\n",
    "result = []"
   ]
  },
  {
   "cell_type": "code",
   "execution_count": 30,
   "metadata": {},
   "outputs": [],
   "source": [
    "for i in range(len(tmp)-1):\n",
    "    result.append(tmp[i]+' '+tmp[i+1])"
   ]
  },
  {
   "cell_type": "code",
   "execution_count": 31,
   "metadata": {},
   "outputs": [
    {
     "data": {
      "text/plain": [
       "['the sofa', 'sofa is', 'is too', 'too big']"
      ]
     },
     "execution_count": 31,
     "metadata": {},
     "output_type": "execute_result"
    }
   ],
   "source": [
    "result"
   ]
  },
  {
   "cell_type": "code",
   "execution_count": 50,
   "metadata": {},
   "outputs": [],
   "source": [
    "def GenerateBigrams(sentence, synonyms):\n",
    "    print(sentence)\n",
    "    print(synonyms)\n",
    "    # Write your code here\n",
    "    tmp = sentence.split()\n",
    "    synonyms_set_1 = dict()\n",
    "    for x in synonyms:\n",
    "        a = x.split(\",\")\n",
    "        #print(a[1])\n",
    "        synonyms_set_1[a[0]] = a[1]\n",
    "        synonyms_set_1[a[1]] = a[0]\n",
    "    result = []\n",
    "    for i in range(len(tmp)-1):\n",
    "        if tmp[i] in synonyms_set_1:\n",
    "            word = tmp[i]+' '+tmp[i+1]\n",
    "            result.append(word)\n",
    "            result.append(synonyms_set_1[tmp[i]]+' '+tmp[i+1])\n",
    "        elif tmp[i]+' '+tmp[i+1] in synonyms_set_1:\n",
    "            word = tmp[i]+' '+tmp[i+1]\n",
    "            result.append(word)\n",
    "            result.append(tmp[i-1]+' '+synonyms_set_1[word])\n",
    "            result.append(synonyms_set_1[word]+' '+tmp[i+2])\n",
    "        elif tmp[i+1] in synonyms_set_1:\n",
    "            result.append(tmp[i]+' '+tmp[i+1])\n",
    "            result.append(tmp[i]+' '+synonyms_set_1[tmp[i+1]])\n",
    "        else:\n",
    "            result.append(tmp[i]+' '+tmp[i+1])\n",
    "    try:\n",
    "        result.sort(key=lambda x: (x[0],x[1],x[2],x[3]))\n",
    "    except:\n",
    "        result.sort(key=lambda x: (x[0],x[1],x[2]))\n",
    "    return result\n",
    "    "
   ]
  },
  {
   "cell_type": "code",
   "execution_count": 49,
   "metadata": {},
   "outputs": [
    {
     "data": {
      "text/plain": [
       "{'big': 'large', 'large': 'big'}"
      ]
     },
     "execution_count": 49,
     "metadata": {},
     "output_type": "execute_result"
    }
   ],
   "source": [
    "synonyms_set_1"
   ]
  },
  {
   "cell_type": "code",
   "execution_count": 51,
   "metadata": {},
   "outputs": [],
   "source": [
    "s = 'a b c d e'\n",
    "list_tmp = ['a b,x', 'd,y z']"
   ]
  },
  {
   "cell_type": "code",
   "execution_count": null,
   "metadata": {},
   "outputs": [],
   "source": []
  }
 ],
 "metadata": {
  "kernelspec": {
   "display_name": "Python 3.6.8 64-bit ('venvml': conda)",
   "language": "python",
   "name": "python36864bitvenvmlconda60cb3d2068db4bfeac88936293f1afd6"
  },
  "language_info": {
   "codemirror_mode": {
    "name": "ipython",
    "version": 3
   },
   "file_extension": ".py",
   "mimetype": "text/x-python",
   "name": "python",
   "nbconvert_exporter": "python",
   "pygments_lexer": "ipython3",
   "version": "3.6.8"
  }
 },
 "nbformat": 4,
 "nbformat_minor": 2
}
