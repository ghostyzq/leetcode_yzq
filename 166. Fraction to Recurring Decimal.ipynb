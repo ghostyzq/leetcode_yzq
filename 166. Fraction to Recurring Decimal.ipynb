{
 "cells": [
  {
   "cell_type": "code",
   "execution_count": 50,
   "metadata": {},
   "outputs": [],
   "source": [
    "class Solution:\n",
    "    def divide(self,a, b):\n",
    "        result = 0\n",
    "        while a >= b:\n",
    "            a -= b\n",
    "            result += 1\n",
    "        return (result, a)\n",
    "    \n",
    "    def is_positive(self,nums,positive):\n",
    "        if positive == 1:\n",
    "            return \"-\" + str(nums)\n",
    "        else:\n",
    "            return str(nums)\n",
    "        \n",
    "    def fractionToDecimal(self, numerator: int, denominator: int) -> str:\n",
    "        if numerator == 0:\n",
    "            return \"0\"\n",
    "        if denominator == 1:\n",
    "            return str(numerator)\n",
    "        if denominator == -1:\n",
    "            result = numerator*denominator\n",
    "            return str(result)\n",
    "        positive = (numerator>0)+(denominator>0)\n",
    "        numerator,denominator= abs(numerator),abs(denominator)\n",
    "        result,remain = self.divide(numerator,denominator)\n",
    "        if remain == 0:\n",
    "            return self.is_positive(result,positive)\n",
    "        seen = dict()\n",
    "        tail = ''\n",
    "        while remain > 0:\n",
    "            last_remain = remain\n",
    "            digi, remain = self.divide(remain * 10, denominator)\n",
    "            seen[last_remain] = len(tail)\n",
    "            tail += str(digi)\n",
    "            if remain in seen:\n",
    "                index = seen[remain]\n",
    "                tail = tail[:index] + '(' + tail[index:] + ')'\n",
    "                break\n",
    "        res = self.is_positive(result,positive)\n",
    "        if tail:\n",
    "            res =  res + '.' + tail\n",
    "        return res\n",
    "            \n",
    "        "
   ]
  },
  {
   "cell_type": "code",
   "execution_count": 51,
   "metadata": {},
   "outputs": [
    {
     "data": {
      "text/plain": [
       "'-58040098.(567)'"
      ]
     },
     "execution_count": 51,
     "metadata": {},
     "output_type": "execute_result"
    }
   ],
   "source": [
    "instance = Solution()\n",
    "numerator = -2147483647\n",
    "denominator = 37\n",
    "instance.fractionToDecimal(numerator,denominator)"
   ]
  },
  {
   "cell_type": "code",
   "execution_count": 29,
   "metadata": {},
   "outputs": [
    {
     "data": {
      "text/plain": [
       "1"
      ]
     },
     "execution_count": 29,
     "metadata": {},
     "output_type": "execute_result"
    }
   ],
   "source": [
    "(1>0)+(-1>0)"
   ]
  },
  {
   "cell_type": "code",
   "execution_count": 20,
   "metadata": {},
   "outputs": [],
   "source": [
    "def divide(a, b):\n",
    "    q = 0\n",
    "    while a >= b:\n",
    "       a -= b\n",
    "       q += 1\n",
    "    return (q, a)"
   ]
  },
  {
   "cell_type": "code",
   "execution_count": 25,
   "metadata": {},
   "outputs": [
    {
     "data": {
      "text/plain": [
       "(1, 2)"
      ]
     },
     "execution_count": 25,
     "metadata": {},
     "output_type": "execute_result"
    }
   ],
   "source": [
    "divide(5, 3)"
   ]
  },
  {
   "cell_type": "code",
   "execution_count": null,
   "metadata": {},
   "outputs": [],
   "source": []
  }
 ],
 "metadata": {
  "kernelspec": {
   "display_name": "Python 3",
   "language": "python",
   "name": "python3"
  },
  "language_info": {
   "codemirror_mode": {
    "name": "ipython",
    "version": 3
   },
   "file_extension": ".py",
   "mimetype": "text/x-python",
   "name": "python",
   "nbconvert_exporter": "python",
   "pygments_lexer": "ipython3",
   "version": "3.7.3"
  }
 },
 "nbformat": 4,
 "nbformat_minor": 2
}
