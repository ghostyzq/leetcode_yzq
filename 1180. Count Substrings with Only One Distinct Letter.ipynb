{
 "cells": [
  {
   "cell_type": "code",
   "execution_count": 2,
   "metadata": {},
   "outputs": [],
   "source": [
    "class Solution:\n",
    "\tdef countLetters(self, S: str) -> int:\n",
    "\t\tres=1\n",
    "\t\tcount=1\n",
    "\t\tfor i in range(1,len(S)):\n",
    "\t\t\tif S[i]==S[i-1]:\n",
    "\t\t\t\tcount+=1            \n",
    "\t\t\t\tres+=count           \n",
    "\t\t\telse:\n",
    "\t\t\t\tcount=1\n",
    "\t\t\t\tres+=count\n",
    "\t\treturn res"
   ]
  },
  {
   "cell_type": "code",
   "execution_count": 3,
   "metadata": {},
   "outputs": [],
   "source": [
    "def countkDist(str1, k): \n",
    "    n = len(str1) \n",
    "      \n",
    "    # Initialize result \n",
    "    res = 0\n",
    "  \n",
    "    # To store count of characters from  \n",
    "    # 'a' to 'z'  \n",
    "    cnt = [0] * 27\n",
    "  \n",
    "    # Consider all substrings beginning  \n",
    "    # with str[i]  \n",
    "    for i in range(0, n): \n",
    "        dist_count = 0\n",
    "  \n",
    "        # Initializing array with 0  \n",
    "        cnt = [0] * 27\n",
    "  \n",
    "        # Consider all substrings between str[i..j]  \n",
    "        for j in range(i, n): \n",
    "              \n",
    "            # If this is a new character for this  \n",
    "            # substring, increment dist_count.  \n",
    "            if(cnt[ord(str1[j]) - 97] == 0): \n",
    "                dist_count += 1\n",
    "            # Increment count of current character \n",
    "            cnt[ord(str1[j]) - 97] += 1\n",
    "  \n",
    "            # If distinct character count becomes k,  \n",
    "            # then increment result. \n",
    "            if(dist_count == k): \n",
    "                res += 1\n",
    "            if(dist_count > k): \n",
    "                break\n",
    "  \n",
    "    return res      "
   ]
  },
  {
   "cell_type": "code",
   "execution_count": 35,
   "metadata": {},
   "outputs": [],
   "source": [
    "def subStringsKDist(inputStr, num):\n",
    "    n = len(inputStr) \n",
    "    # Initialize result \n",
    "    res = []\n",
    "    # To store count of characters from  \n",
    "    # 'a' to 'z'  \n",
    "    cnt = [0] * 27\n",
    "    # Consider all substrings beginning  \n",
    "    # with str[i]  \n",
    "    for i in range(0, n): \n",
    "        dist_count = 0\n",
    "        # Initializing array with 0  \n",
    "        cnt = [0] * 27\n",
    "        # Consider all substrings between str[i..j]  \n",
    "        for j in range(i, n): \n",
    "            # If this is a new character for this  \n",
    "            # substring, increment dist_count.\n",
    "            #@if \n",
    "            #print(dist_count)\n",
    "            if(cnt[ord(inputStr[j]) - 97] == 0): \n",
    "                dist_count += 1\n",
    "            # Increment count of current character \n",
    "            cnt[ord(inputStr[j]) - 97] += 1\n",
    "            # If distinct character count becomes k,  \n",
    "            # then increment result. \n",
    "            if(dist_count == num): \n",
    "                print(j)\n",
    "                print(inputStr[j-num:j])\n",
    "                res.append(inputStr[j-num+1:j+1])\n",
    "            if(dist_count > num): \n",
    "                break\n",
    "    \n",
    "    return list(set(res))      "
   ]
  },
  {
   "cell_type": "code",
   "execution_count": 36,
   "metadata": {},
   "outputs": [
    {
     "name": "stdout",
     "output_type": "stream",
     "text": [
      "2\n",
      "\n",
      "3\n",
      "abc\n"
     ]
    },
    {
     "data": {
      "text/plain": [
       "['abc', 'bcd']"
      ]
     },
     "execution_count": 36,
     "metadata": {},
     "output_type": "execute_result"
    }
   ],
   "source": [
    "inputStr,num = 'abcd',3\n",
    "subStringsKDist(inputStr, num)"
   ]
  },
  {
   "cell_type": "code",
   "execution_count": null,
   "metadata": {},
   "outputs": [],
   "source": []
  }
 ],
 "metadata": {
  "kernelspec": {
   "display_name": "Python 3",
   "language": "python",
   "name": "python3"
  },
  "language_info": {
   "codemirror_mode": {
    "name": "ipython",
    "version": 3
   },
   "file_extension": ".py",
   "mimetype": "text/x-python",
   "name": "python",
   "nbconvert_exporter": "python",
   "pygments_lexer": "ipython3",
   "version": "3.7.3"
  }
 },
 "nbformat": 4,
 "nbformat_minor": 2
}
