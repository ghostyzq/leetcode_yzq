{
 "cells": [
  {
   "cell_type": "code",
   "execution_count": 19,
   "metadata": {},
   "outputs": [],
   "source": [
    "class Solution:\n",
    "    def topKFrequent(self, words, k: int):\n",
    "        if not words:\n",
    "            return 0\n",
    "        table = dict()\n",
    "        for x in words:\n",
    "            if x not in table:\n",
    "                table[x] = 1\n",
    "            else:\n",
    "                table[x] += 1\n",
    "        result_list = []\n",
    "        for item in table.items():\n",
    "            result_list.append(item)\n",
    "        result = []\n",
    "        result_list = sorted(result_list,key = lambda x:x[1],reverse = True)\n",
    "        if k == len(result_list):\n",
    "            return result_list\n",
    "        return result_list[0:k]\n"
   ]
  },
  {
   "cell_type": "code",
   "execution_count": 20,
   "metadata": {},
   "outputs": [
    {
     "data": {
      "text/plain": [
       "[('i', 2), ('love', 2)]"
      ]
     },
     "execution_count": 20,
     "metadata": {},
     "output_type": "execute_result"
    }
   ],
   "source": [
    "instance = Solution()\n",
    "word = [\"i\", \"love\", \"leetcode\", \"i\", \"love\", \"coding\"]\n",
    "k = 2\n",
    "instance.topKFrequent(word,k)"
   ]
  },
  {
   "cell_type": "code",
   "execution_count": null,
   "metadata": {},
   "outputs": [],
   "source": []
  }
 ],
 "metadata": {
  "kernelspec": {
   "display_name": "Python 3",
   "language": "python",
   "name": "python3"
  },
  "language_info": {
   "codemirror_mode": {
    "name": "ipython",
    "version": 3
   },
   "file_extension": ".py",
   "mimetype": "text/x-python",
   "name": "python",
   "nbconvert_exporter": "python",
   "pygments_lexer": "ipython3",
   "version": "3.7.3"
  }
 },
 "nbformat": 4,
 "nbformat_minor": 2
}
