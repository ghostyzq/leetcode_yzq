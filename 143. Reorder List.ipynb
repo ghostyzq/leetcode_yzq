{
 "cells": [
  {
   "cell_type": "code",
   "execution_count": null,
   "metadata": {},
   "outputs": [],
   "source": [
    "class Solution:\n",
    "    def reorderList(self, head: ListNode) -> None:\n",
    "        \"\"\"\n",
    "        Do not return anything, modify head in-place instead.\n",
    "        \"\"\"\n",
    "        if not head:\n",
    "            return\n",
    "        lst = []\n",
    "        while head:\n",
    "            lst.append(head)\n",
    "            head = head.next\n",
    "        start,end = 0,len(lst)-1\n",
    "        while start < end:\n",
    "            if lst[start].next != lst[end]:\n",
    "                lst[end].next = lst[start].next\n",
    "            else:\n",
    "                lst[end].next = None\n",
    "            lst[start].next = lst[end]\n",
    "            start += 1\n",
    "            end -= 1\n",
    "        if len(lst) % 2 != 0:\n",
    "            lst[end].next = None\n",
    "        "
   ]
  }
 ],
 "metadata": {
  "kernelspec": {
   "display_name": "Python 3",
   "language": "python",
   "name": "python3"
  },
  "language_info": {
   "codemirror_mode": {
    "name": "ipython",
    "version": 3
   },
   "file_extension": ".py",
   "mimetype": "text/x-python",
   "name": "python",
   "nbconvert_exporter": "python",
   "pygments_lexer": "ipython3",
   "version": "3.7.3"
  }
 },
 "nbformat": 4,
 "nbformat_minor": 2
}
