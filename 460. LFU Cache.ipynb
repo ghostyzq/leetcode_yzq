{
 "cells": [
  {
   "cell_type": "code",
   "execution_count": 1,
   "metadata": {},
   "outputs": [],
   "source": [
    "class LFUCache:\n",
    "\n",
    "    def __init__(self, capacity: int):\n",
    "        self.item = [None]*capacity\n",
    "        if capacity == 0:\n",
    "            self.item = None\n",
    "        \n",
    "    def get(self, key: int) -> int:\n",
    "        if self.item == None:\n",
    "            return -1\n",
    "        result = 0\n",
    "        find = 0\n",
    "        for i in range(len(self.item)):\n",
    "            try:\n",
    "                if self.item[i][0] == key:\n",
    "                    result = self.item[i][1]\n",
    "                    find = 1\n",
    "                    break\n",
    "            except:\n",
    "                break\n",
    "        if find:\n",
    "            tmp = self.item[0]\n",
    "            self.item[0] = self.item[i]\n",
    "            self.item[i] = tmp\n",
    "            return result\n",
    "        else:\n",
    "            return -1\n",
    "        \n",
    "\n",
    "    def put(self, key: int, value: int) -> None:\n",
    "        if self.item == None:\n",
    "            return \n",
    "        for i in range(len(self.item)):\n",
    "            try:\n",
    "                if self.item[i][0] == key:\n",
    "                    self.item[i][1] = value\n",
    "                    self.get(key)\n",
    "                    print(self.item)\n",
    "                    return\n",
    "            except:\n",
    "                break\n",
    "        if None in self.item:\n",
    "            i = 0\n",
    "            while self.item[i] != None:\n",
    "                i = i + 1\n",
    "            self.item[i] = [key,value]\n",
    "        else:\n",
    "            self.item[-1] = [key,value]\n",
    "            self.get(key)\n",
    "        print(self.item)\n"
   ]
  },
  {
   "cell_type": "code",
   "execution_count": null,
   "metadata": {},
   "outputs": [],
   "source": [
    "obj = LFUCache(capacity)\n",
    "param_1 = obj.get(key)\n",
    "obj.put(key,value)"
   ]
  }
 ],
 "metadata": {
  "kernelspec": {
   "display_name": "Python 3",
   "language": "python",
   "name": "python3"
  },
  "language_info": {
   "codemirror_mode": {
    "name": "ipython",
    "version": 3
   },
   "file_extension": ".py",
   "mimetype": "text/x-python",
   "name": "python",
   "nbconvert_exporter": "python",
   "pygments_lexer": "ipython3",
   "version": "3.7.3"
  }
 },
 "nbformat": 4,
 "nbformat_minor": 2
}
