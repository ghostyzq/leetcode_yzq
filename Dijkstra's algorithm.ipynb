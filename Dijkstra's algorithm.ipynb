{
 "cells": [
  {
   "cell_type": "markdown",
   "metadata": {},
   "source": [
    "'''\n",
    "From each of the unvisited vertices, choose the vertex with the smallest distance and visit it.\n",
    "Update the distance for each neighboring vertex, of the visited vertex, whose current distance is greater than its sum and the weight of the edge between them.\n",
    "Repeat steps 1 and 2 until all the vertices are visited.\n",
    "'''"
   ]
  },
  {
   "cell_type": "code",
   "execution_count": null,
   "metadata": {},
   "outputs": [],
   "source": [
    "def dijkstra(graph):\n",
    "    "
   ]
  },
  {
   "cell_type": "code",
   "execution_count": 3,
   "metadata": {},
   "outputs": [
    {
     "name": "stdout",
     "output_type": "stream",
     "text": [
      "The shortest distance of  a  from the source vertex a is: 0\n",
      "The shortest distance of  b  from the source vertex a is: 3\n",
      "The shortest distance of  c  from the source vertex a is: 3.5\n",
      "The shortest distance of  d  from the source vertex a is: 4.5\n"
     ]
    }
   ],
   "source": [
    "import sys\n",
    "# Function to find out which of the unvisited node \n",
    "# needs to be visited next\n",
    "def to_be_visited():\n",
    "  global visited_and_distance\n",
    "  v = -10\n",
    "  # Choosing the vertex with the minimum distance\n",
    "  for index in range(number_of_vertices):\n",
    "    if visited_and_distance[index][0] == 0 \\\n",
    "      and (v < 0 or visited_and_distance[index][1] <= \\\n",
    "      visited_and_distance[v][1]):\n",
    "        v = index\n",
    "  return v\n",
    "# Creating the graph as an adjacency matrix\n",
    "vertices = [[0, 1, 1, 0],\n",
    "            [0, 0, 1, 0],\n",
    "            [0, 0, 0, 1],\n",
    "            [0, 0, 0, 0]]\n",
    "edges =  [[0, 3, 4, 0],\n",
    "          [0, 0, 0.5, 0],\n",
    "          [0, 0, 0, 1],\n",
    "          [0, 0, 0, 0]]\n",
    "number_of_vertices = len(vertices[0])\n",
    "# The first element of the lists inside visited_and_distance \n",
    "# denotes if the vertex has been visited.\n",
    "# The second element of the lists inside the visited_and_distance \n",
    "# denotes the distance from the source.\n",
    "visited_and_distance = [[0, 0], [0, sys.maxsize],[0,sys.maxsize], [0,sys.maxsize]]\n",
    "for vertex in range(number_of_vertices):\n",
    "  # Finding the next vertex to be visited.\n",
    "  to_visit = to_be_visited()\n",
    "  for neighbor_index in range(number_of_vertices):\n",
    "    # Calculating the new distance for all unvisited neighbours\n",
    "    # of the chosen vertex.\n",
    "    if vertices[to_visit][neighbor_index] == 1 and \\\n",
    "     visited_and_distance[neighbor_index][0] == 0:\n",
    "      new_distance = visited_and_distance[to_visit][1] \\\n",
    "      + edges[to_visit][neighbor_index]\n",
    "      # Updating the distance of the neighbor if its current distance\n",
    "      # is greater than the distance that has just been calculated\n",
    "      if visited_and_distance[neighbor_index][1] > new_distance:\n",
    "        visited_and_distance[neighbor_index][1] = new_distance\n",
    "    # Visiting the vertex found earlier\n",
    "    visited_and_distance[to_visit][0] = 1\n",
    "i = 0 \n",
    "# Printing out the shortest distance from the source to each vertex       \n",
    "for distance in visited_and_distance:\n",
    "  print(\"The shortest distance of \",chr(ord('a') + i),\\\n",
    "  \" from the source vertex a is:\",distance[1])\n",
    "  i = i + 1\n"
   ]
  },
  {
   "cell_type": "code",
   "execution_count": 11,
   "metadata": {},
   "outputs": [
    {
     "ename": "AttributeError",
     "evalue": "module 'sys' has no attribute 'maxint'",
     "output_type": "error",
     "traceback": [
      "\u001b[0;31m---------------------------------------------------------------------------\u001b[0m",
      "\u001b[0;31mAttributeError\u001b[0m                            Traceback (most recent call last)",
      "\u001b[0;32m<ipython-input-11-9d409a97f7cb>\u001b[0m in \u001b[0;36m<module>\u001b[0;34m\u001b[0m\n\u001b[1;32m     73\u001b[0m         ]; \n\u001b[1;32m     74\u001b[0m \u001b[0;34m\u001b[0m\u001b[0m\n\u001b[0;32m---> 75\u001b[0;31m \u001b[0mg\u001b[0m\u001b[0;34m.\u001b[0m\u001b[0mdijkstra\u001b[0m\u001b[0;34m(\u001b[0m\u001b[0;36m0\u001b[0m\u001b[0;34m)\u001b[0m\u001b[0;34m;\u001b[0m\u001b[0;34m\u001b[0m\u001b[0;34m\u001b[0m\u001b[0m\n\u001b[0m",
      "\u001b[0;32m<ipython-input-11-9d409a97f7cb>\u001b[0m in \u001b[0;36mdijkstra\u001b[0;34m(self, src)\u001b[0m\n\u001b[1;32m     36\u001b[0m     \u001b[0;32mdef\u001b[0m \u001b[0mdijkstra\u001b[0m\u001b[0;34m(\u001b[0m\u001b[0mself\u001b[0m\u001b[0;34m,\u001b[0m \u001b[0msrc\u001b[0m\u001b[0;34m)\u001b[0m\u001b[0;34m:\u001b[0m\u001b[0;34m\u001b[0m\u001b[0;34m\u001b[0m\u001b[0m\n\u001b[1;32m     37\u001b[0m \u001b[0;34m\u001b[0m\u001b[0m\n\u001b[0;32m---> 38\u001b[0;31m         \u001b[0mdist\u001b[0m \u001b[0;34m=\u001b[0m \u001b[0;34m[\u001b[0m\u001b[0msys\u001b[0m\u001b[0;34m.\u001b[0m\u001b[0mmaxint\u001b[0m\u001b[0;34m]\u001b[0m \u001b[0;34m*\u001b[0m \u001b[0mself\u001b[0m\u001b[0;34m.\u001b[0m\u001b[0mV\u001b[0m\u001b[0;34m\u001b[0m\u001b[0;34m\u001b[0m\u001b[0m\n\u001b[0m\u001b[1;32m     39\u001b[0m         \u001b[0mdist\u001b[0m\u001b[0;34m[\u001b[0m\u001b[0msrc\u001b[0m\u001b[0;34m]\u001b[0m \u001b[0;34m=\u001b[0m \u001b[0;36m0\u001b[0m\u001b[0;34m\u001b[0m\u001b[0;34m\u001b[0m\u001b[0m\n\u001b[1;32m     40\u001b[0m         \u001b[0msptSet\u001b[0m \u001b[0;34m=\u001b[0m \u001b[0;34m[\u001b[0m\u001b[0;32mFalse\u001b[0m\u001b[0;34m]\u001b[0m \u001b[0;34m*\u001b[0m \u001b[0mself\u001b[0m\u001b[0;34m.\u001b[0m\u001b[0mV\u001b[0m\u001b[0;34m\u001b[0m\u001b[0;34m\u001b[0m\u001b[0m\n",
      "\u001b[0;31mAttributeError\u001b[0m: module 'sys' has no attribute 'maxint'"
     ]
    }
   ],
   "source": [
    "import sys \n",
    "  \n",
    "class Graph(): \n",
    "  \n",
    "    def __init__(self, vertices): \n",
    "        self.V = vertices \n",
    "        self.graph = [[0 for column in range(vertices)]  \n",
    "                    for row in range(vertices)] \n",
    "  \n",
    "    def printSolution(self, dist): \n",
    "        print(\"Vertex tDistance from Source\")\n",
    "        for node in range(self.V): \n",
    "            print(node)\n",
    "            print(dist[node]) \n",
    "  \n",
    "    # A utility function to find the vertex with  \n",
    "    # minimum distance value, from the set of vertices  \n",
    "    # not yet included in shortest path tree \n",
    "    def minDistance(self, dist, sptSet): \n",
    "  \n",
    "        # Initilaize minimum distance for next node \n",
    "        min = sys.maxint \n",
    "  \n",
    "        # Search not nearest vertex not in the  \n",
    "        # shortest path tree \n",
    "        for v in range(self.V): \n",
    "            if dist[v] < min and sptSet[v] == False: \n",
    "                min = dist[v] \n",
    "                min_index = v \n",
    "  \n",
    "        return min_index \n",
    "  \n",
    "    # Funtion that implements Dijkstra's single source  \n",
    "    # shortest path algorithm for a graph represented  \n",
    "    # using adjacency matrix representation \n",
    "    def dijkstra(self, src): \n",
    "  \n",
    "        dist = [sys.maxint] * self.V \n",
    "        dist[src] = 0\n",
    "        sptSet = [False] * self.V \n",
    "  \n",
    "        for cout in range(self.V): \n",
    "  \n",
    "            # Pick the minimum distance vertex from  \n",
    "            # the set of vertices not yet processed.  \n",
    "            # u is always equal to src in first iteration \n",
    "            u = self.minDistance(dist, sptSet) \n",
    "  \n",
    "            # Put the minimum distance vertex in the  \n",
    "            # shotest path tree \n",
    "            sptSet[u] = True\n",
    "  \n",
    "            # Update dist value of the adjacent vertices  \n",
    "            # of the picked vertex only if the current  \n",
    "            # distance is greater than new distance and \n",
    "            # the vertex in not in the shotest path tree \n",
    "            for v in range(self.V): \n",
    "                if self.graph[u][v] > 0 and sptSet[v] == False and dist[v] > dist[u] + self.graph[u][v]: \n",
    "                     dist[v] = dist[u] + self.graph[u][v] \n",
    "  \n",
    "        self.printSolution(dist) \n",
    "# Driver program \n",
    "g = Graph(9) \n",
    "g.graph = [[0, 4, 0, 0, 0, 0, 0, 8, 0], \n",
    "        [4, 0, 8, 0, 0, 0, 0, 11, 0], \n",
    "        [0, 8, 0, 7, 0, 4, 0, 0, 2], \n",
    "        [0, 0, 7, 0, 9, 14, 0, 0, 0], \n",
    "        [0, 0, 0, 9, 0, 10, 0, 0, 0], \n",
    "        [0, 0, 4, 14, 10, 0, 2, 0, 0], \n",
    "        [0, 0, 0, 0, 0, 2, 0, 1, 6], \n",
    "        [8, 11, 0, 0, 0, 0, 1, 0, 7], \n",
    "        [0, 0, 2, 0, 0, 0, 6, 7, 0] \n",
    "        ]; \n",
    "  \n",
    "g.dijkstra(0); "
   ]
  },
  {
   "cell_type": "code",
   "execution_count": null,
   "metadata": {},
   "outputs": [],
   "source": []
  },
  {
   "cell_type": "code",
   "execution_count": null,
   "metadata": {},
   "outputs": [],
   "source": []
  }
 ],
 "metadata": {
  "kernelspec": {
   "display_name": "Python 3",
   "language": "python",
   "name": "python3"
  },
  "language_info": {
   "codemirror_mode": {
    "name": "ipython",
    "version": 3
   },
   "file_extension": ".py",
   "mimetype": "text/x-python",
   "name": "python",
   "nbconvert_exporter": "python",
   "pygments_lexer": "ipython3",
   "version": "3.7.3"
  }
 },
 "nbformat": 4,
 "nbformat_minor": 2
}
