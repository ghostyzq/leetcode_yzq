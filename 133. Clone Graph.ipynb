{
 "cells": [
  {
   "cell_type": "code",
   "execution_count": null,
   "metadata": {},
   "outputs": [],
   "source": [
    "\"\"\"\n",
    "# Definition for a Node.\n",
    "class Node:\n",
    "    def __init__(self, val = 0, neighbors = []):\n",
    "        self.val = val\n",
    "        self.neighbors = neighbors\n",
    "\"\"\"\n",
    "import copy\n",
    "\n",
    "class Solution:\n",
    "    def cloneGraph(self, node: 'Node') -> 'Node':\n",
    "        if not node:\n",
    "            return None\n",
    "        visited = set()\n",
    "        stack = [node]\n",
    "        sb = copy.deepcopy(node)\n",
    "        visited.add(node.val)\n",
    "        mygraph = dict()\n",
    "        while stack:\n",
    "            target = stack.pop()\n",
    "            mygraph[target.val] = []\n",
    "            for node in target.neighbors:\n",
    "                mygraph[target.val].append(node.val)\n",
    "                if node.val not in visited:\n",
    "                    stack.append(node)\n",
    "                    visited.add(node.val)\n",
    "        #print(mygraph)\n",
    "        return sb\n",
    "            "
   ]
  },
  {
   "cell_type": "code",
   "execution_count": null,
   "metadata": {},
   "outputs": [],
   "source": []
  }
 ],
 "metadata": {
  "kernelspec": {
   "display_name": "Python 3",
   "language": "python",
   "name": "python3"
  },
  "language_info": {
   "codemirror_mode": {
    "name": "ipython",
    "version": 3
   },
   "file_extension": ".py",
   "mimetype": "text/x-python",
   "name": "python",
   "nbconvert_exporter": "python",
   "pygments_lexer": "ipython3",
   "version": "3.7.3"
  }
 },
 "nbformat": 4,
 "nbformat_minor": 2
}
