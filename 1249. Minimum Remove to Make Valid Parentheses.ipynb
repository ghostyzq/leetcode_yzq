{
 "cells": [
  {
   "cell_type": "code",
   "execution_count": 4,
   "metadata": {},
   "outputs": [],
   "source": [
    "s = \"lee(t(c)o)de)\""
   ]
  },
  {
   "cell_type": "code",
   "execution_count": 15,
   "metadata": {},
   "outputs": [],
   "source": [
    "class Solution:\n",
    "    def minRemoveToMakeValid(self, s: str) -> str:\n",
    "        if not s:\n",
    "            return s\n",
    "        s = list(s)\n",
    "        stack = []\n",
    "        output = []\n",
    "        for i in range(len(s)):\n",
    "            x = s[i]\n",
    "            if x != '(' and x != ')':\n",
    "                output.append(x)\n",
    "            else:\n",
    "                if x == '(':\n",
    "                    output.append(x)\n",
    "                    stack.append(len(output)-1)\n",
    "                if x == ')' and stack != []:\n",
    "                    print(stack)\n",
    "                    stack.pop()\n",
    "                    output.append(x)\n",
    "        while stack:\n",
    "            index = stack.pop()\n",
    "            output.pop(index)\n",
    "        result = str()\n",
    "        return result.join(output)"
   ]
  },
  {
   "cell_type": "code",
   "execution_count": 16,
   "metadata": {},
   "outputs": [
    {
     "name": "stdout",
     "output_type": "stream",
     "text": [
      "[3, 5]\n",
      "[3]\n"
     ]
    },
    {
     "data": {
      "text/plain": [
       "'lee(t(c)o)de'"
      ]
     },
     "execution_count": 16,
     "metadata": {},
     "output_type": "execute_result"
    }
   ],
   "source": [
    "instance = Solution()\n",
    "instance.minRemoveToMakeValid(s)"
   ]
  },
  {
   "cell_type": "code",
   "execution_count": null,
   "metadata": {},
   "outputs": [],
   "source": []
  }
 ],
 "metadata": {
  "kernelspec": {
   "display_name": "Python 3",
   "language": "python",
   "name": "python3"
  },
  "language_info": {
   "codemirror_mode": {
    "name": "ipython",
    "version": 3
   },
   "file_extension": ".py",
   "mimetype": "text/x-python",
   "name": "python",
   "nbconvert_exporter": "python",
   "pygments_lexer": "ipython3",
   "version": "3.7.3"
  }
 },
 "nbformat": 4,
 "nbformat_minor": 2
}
