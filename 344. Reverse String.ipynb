{
 "cells": [
  {
   "cell_type": "code",
   "execution_count": null,
   "metadata": {},
   "outputs": [],
   "source": [
    "class Solution:\n",
    "    def reverseString(self, s: List[str]) -> None:\n",
    "        \"\"\"\n",
    "        Do not return anything, modify s in-place instead.\n",
    "        \"\"\"\n",
    "        left,right = 0 ,len(s)-1\n",
    "        while left<right:\n",
    "            #print(left)\n",
    "            tmp = s[left]\n",
    "            s[left] = s[right]\n",
    "            s[right] = tmp\n",
    "            left += 1\n",
    "            right -= 1"
   ]
  },
  {
   "cell_type": "code",
   "execution_count": 20,
   "metadata": {},
   "outputs": [],
   "source": [
    "import csv\n",
    "\n",
    "result = []\n",
    "\n",
    "with open('/Users/yingziqing/Desktop/employee_birthday.csv') as csv_file:\n",
    "    csv_reader = csv.reader(csv_file, delimiter=',')\n",
    "    line_count = 0\n",
    "    for row in csv_reader:\n",
    "            tmp = []\n",
    "        #if line_count == 0:\n",
    "            tmp.append(\" \".join(row))\n",
    "            result.append(tmp)\n",
    "            line_count += 1\n",
    "            #ine_count += 1\n",
    "    result"
   ]
  },
  {
   "cell_type": "code",
   "execution_count": 21,
   "metadata": {},
   "outputs": [
    {
     "data": {
      "text/plain": [
       "['name department birthday month']"
      ]
     },
     "execution_count": 21,
     "metadata": {},
     "output_type": "execute_result"
    }
   ],
   "source": [
    "result[0]"
   ]
  },
  {
   "cell_type": "code",
   "execution_count": 4,
   "metadata": {},
   "outputs": [],
   "source": [
    "a = 'aksjdhkasd'"
   ]
  },
  {
   "cell_type": "code",
   "execution_count": 5,
   "metadata": {},
   "outputs": [
    {
     "data": {
      "text/plain": [
       "'k'"
      ]
     },
     "execution_count": 5,
     "metadata": {},
     "output_type": "execute_result"
    }
   ],
   "source": [
    "a[1]"
   ]
  },
  {
   "cell_type": "code",
   "execution_count": 17,
   "metadata": {},
   "outputs": [
    {
     "data": {
      "text/plain": [
       "0"
      ]
     },
     "execution_count": 17,
     "metadata": {},
     "output_type": "execute_result"
    }
   ],
   "source": [
    "def count_all_friend_requests(nums):\n",
    "    result = 0\n",
    "    count = [0] * 1000\n",
    "    for ages in nums:\n",
    "        count[ages] += 1\n",
    "    for ageA, counta in enumerate(count):\n",
    "        for ageB, countb in enumerate(count):\n",
    "            if ageA  > ageB*0.5+7:\n",
    "                continue\n",
    "            if ageA < ageB:\n",
    "                continue\n",
    "            if ageA > 100 and ageB < 100:\n",
    "                continue\n",
    "            result = result + counta*countb\n",
    "            if ageA == ageB:\n",
    "                result = result - counta\n",
    "    return result\n",
    "age = [120, 110]\n",
    "count_all_friend_requests(age)\n"
   ]
  },
  {
   "cell_type": "code",
   "execution_count": 22,
   "metadata": {},
   "outputs": [],
   "source": [
    "a = ['# 5  4      0 554724 1698688 32809648  200    0     0  1439 3177 10347 30  1 51 18  0']"
   ]
  },
  {
   "cell_type": "code",
   "execution_count": 24,
   "metadata": {},
   "outputs": [
    {
     "data": {
      "text/plain": [
       "'# 5  4      0 554724 1698688 32809648  200    0     0  1439 3177 10347 30  1 51 18  0'"
      ]
     },
     "execution_count": 24,
     "metadata": {},
     "output_type": "execute_result"
    }
   ],
   "source": [
    "a[0]"
   ]
  },
  {
   "cell_type": "code",
   "execution_count": 25,
   "metadata": {},
   "outputs": [],
   "source": [
    "tmp = '5  4      0 554724 1698688 32809648  '"
   ]
  },
  {
   "cell_type": "code",
   "execution_count": 26,
   "metadata": {},
   "outputs": [
    {
     "data": {
      "text/plain": [
       "37"
      ]
     },
     "execution_count": 26,
     "metadata": {},
     "output_type": "execute_result"
    }
   ],
   "source": [
    "len(tmp)"
   ]
  },
  {
   "cell_type": "code",
   "execution_count": 28,
   "metadata": {},
   "outputs": [
    {
     "data": {
      "text/plain": [
       "'  200'"
      ]
     },
     "execution_count": 28,
     "metadata": {},
     "output_type": "execute_result"
    }
   ],
   "source": [
    "a[0][37:42]"
   ]
  },
  {
   "cell_type": "code",
   "execution_count": 31,
   "metadata": {},
   "outputs": [],
   "source": [
    "tmp = a[0].split()"
   ]
  },
  {
   "cell_type": "code",
   "execution_count": 32,
   "metadata": {},
   "outputs": [
    {
     "data": {
      "text/plain": [
       "['#',\n",
       " '5',\n",
       " '4',\n",
       " '0',\n",
       " '554724',\n",
       " '1698688',\n",
       " '32809648',\n",
       " '200',\n",
       " '0',\n",
       " '0',\n",
       " '1439',\n",
       " '3177',\n",
       " '10347',\n",
       " '30',\n",
       " '1',\n",
       " '51',\n",
       " '18',\n",
       " '0']"
      ]
     },
     "execution_count": 32,
     "metadata": {},
     "output_type": "execute_result"
    }
   ],
   "source": [
    "tmp"
   ]
  },
  {
   "cell_type": "code",
   "execution_count": null,
   "metadata": {},
   "outputs": [],
   "source": []
  }
 ],
 "metadata": {
  "kernelspec": {
   "display_name": "Python 3",
   "language": "python",
   "name": "python3"
  },
  "language_info": {
   "codemirror_mode": {
    "name": "ipython",
    "version": 3
   },
   "file_extension": ".py",
   "mimetype": "text/x-python",
   "name": "python",
   "nbconvert_exporter": "python",
   "pygments_lexer": "ipython3",
   "version": "3.7.3"
  }
 },
 "nbformat": 4,
 "nbformat_minor": 2
}
