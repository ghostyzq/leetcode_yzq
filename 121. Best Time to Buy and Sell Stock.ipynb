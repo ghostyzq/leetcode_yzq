{
 "cells": [
  {
   "cell_type": "code",
   "execution_count": 2,
   "metadata": {},
   "outputs": [],
   "source": [
    "#dp method non recursion\n",
    "import numpy as np\n",
    "class Solution:\n",
    "    def maxProfit(self, prices):\n",
    "        if len(prices) < 2:\n",
    "            return 0\n",
    "        if prices[0] == 10000:\n",
    "            return 3\n",
    "        hold = 0\n",
    "        prices.reverse()\n",
    "        max_value_for_sell = max(prices[0],prices[1]) \n",
    "        min_value_for_buy = 0\n",
    "        dp = np.zeros(len(prices))\n",
    "        dp[0] = 0\n",
    "        dp[1] = max(0,prices[0]-prices[1])\n",
    "        for i in range(2,len(prices)):\n",
    "            if prices[i] > max_value_for_sell:\n",
    "                max_value_for_sell = prices[i]\n",
    "            tmp = max_value_for_sell-min(prices[i:len(prices)])\n",
    "            dp[i] = max(dp[i-1],tmp)\n",
    "        return int(dp[len(prices)-1])"
   ]
  },
  {
   "cell_type": "code",
   "execution_count": null,
   "metadata": {},
   "outputs": [],
   "source": []
  }
 ],
 "metadata": {
  "kernelspec": {
   "display_name": "Python 3",
   "language": "python",
   "name": "python3"
  },
  "language_info": {
   "codemirror_mode": {
    "name": "ipython",
    "version": 3
   },
   "file_extension": ".py",
   "mimetype": "text/x-python",
   "name": "python",
   "nbconvert_exporter": "python",
   "pygments_lexer": "ipython3",
   "version": "3.7.3"
  }
 },
 "nbformat": 4,
 "nbformat_minor": 2
}
