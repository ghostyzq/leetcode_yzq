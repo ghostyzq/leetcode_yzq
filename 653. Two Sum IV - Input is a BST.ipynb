{
 "cells": [
  {
   "cell_type": "code",
   "execution_count": 1,
   "metadata": {},
   "outputs": [],
   "source": [
    "class Solution:\n",
    "    def findTarget(self, root, k: int) -> bool:\n",
    "        tmp_arr = []\n",
    "        stack = []\n",
    "        stack.append(root)\n",
    "        while stack:\n",
    "            vertex = stack.pop()\n",
    "            tmp_arr.append(vertex.val)\n",
    "            if vertex.left:\n",
    "                stack.append(vertex.left)\n",
    "            if vertex.right:\n",
    "                stack.append(vertex.right)\n",
    "        tmp_arr.sort()\n",
    "        left = 0\n",
    "        right = len(tmp_arr)-1\n",
    "        while left<right:\n",
    "            if tmp_arr[left] + tmp_arr[right] == k:\n",
    "                return 1\n",
    "            if tmp_arr[left] + tmp_arr[right] < k:\n",
    "                left += 1\n",
    "            if tmp_arr[left] + tmp_arr[right] > k:\n",
    "                right -= 1\n",
    "        return 0\n",
    "            \n",
    "            \n",
    "        "
   ]
  },
  {
   "cell_type": "code",
   "execution_count": 2,
   "metadata": {},
   "outputs": [],
   "source": [
    "class Solution:\n",
    "    def findTarget(self, root, k: int) -> bool:\n",
    "        tmp_arr = []\n",
    "        queue = []\n",
    "        target = []\n",
    "        queue.append(root)\n",
    "        while queue:\n",
    "            vertex = queue.pop(0)\n",
    "            if vertex.val in target:\n",
    "                return 1\n",
    "            target.append(k-vertex.val)\n",
    "            if vertex.left:\n",
    "                queue.append(vertex.left)\n",
    "            if vertex.right:\n",
    "                queue.append(vertex.right)\n",
    "        return 0"
   ]
  },
  {
   "cell_type": "code",
   "execution_count": 6,
   "metadata": {},
   "outputs": [],
   "source": [
    "class Node: \n",
    "    def __init__(self, data): \n",
    "        self.val = data \n",
    "        self.left = None\n",
    "        self.right = None\n",
    "  "
   ]
  },
  {
   "cell_type": "code",
   "execution_count": 7,
   "metadata": {},
   "outputs": [],
   "source": [
    "root = Node(1) \n",
    "root.left = Node(2) \n",
    "root.right = Node(3) \n",
    "  \n",
    "root.left.left = Node(4) \n",
    "root.left.right = Node(5) \n",
    "  \n",
    "root.right.left= Node(6) \n",
    "root.right.right = Node(7) \n",
    "  \n",
    "root.left.left.left = Node(8) \n",
    "root.left.left.right = Node(9) \n",
    "  \n",
    "root.left.right.left = Node(10) \n",
    "root.left.right.right = Node(11) "
   ]
  },
  {
   "cell_type": "code",
   "execution_count": 8,
   "metadata": {},
   "outputs": [
    {
     "data": {
      "text/plain": [
       "1"
      ]
     },
     "execution_count": 8,
     "metadata": {},
     "output_type": "execute_result"
    }
   ],
   "source": [
    "instance = Solution()\n",
    "instance.findTarget(root,3)"
   ]
  },
  {
   "cell_type": "code",
   "execution_count": null,
   "metadata": {},
   "outputs": [],
   "source": []
  }
 ],
 "metadata": {
  "kernelspec": {
   "display_name": "Python 3",
   "language": "python",
   "name": "python3"
  },
  "language_info": {
   "codemirror_mode": {
    "name": "ipython",
    "version": 3
   },
   "file_extension": ".py",
   "mimetype": "text/x-python",
   "name": "python",
   "nbconvert_exporter": "python",
   "pygments_lexer": "ipython3",
   "version": "3.7.3"
  }
 },
 "nbformat": 4,
 "nbformat_minor": 2
}
