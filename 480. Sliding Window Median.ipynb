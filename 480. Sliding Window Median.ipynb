{
 "cells": [
  {
   "cell_type": "code",
   "execution_count": 1,
   "metadata": {},
   "outputs": [],
   "source": [
    "class Solution:\n",
    "    def medianSlidingWindow(self, nums, k: int):\n",
    "        if not nums or len(nums) < k:\n",
    "            return []\n",
    "        left = 0\n",
    "        right = left + k\n",
    "        output = []\n",
    "        while right <= len(nums):\n",
    "            tmpnum = nums[left:right]\n",
    "            tmpnum.sort()\n",
    "            if k % 2 == 0:\n",
    "                tmp = tmpnum[k//2]+tmpnum[k//2-1]\n",
    "                output.append(tmp/2)\n",
    "            else:\n",
    "                output.append(tmpnum[int((k-1)/2)])\n",
    "            left += 1\n",
    "            right += 1\n",
    "        return output"
   ]
  },
  {
   "cell_type": "code",
   "execution_count": 2,
   "metadata": {},
   "outputs": [
    {
     "data": {
      "text/plain": [
       "[1, -1, -1, 3, 5, 6]"
      ]
     },
     "execution_count": 2,
     "metadata": {},
     "output_type": "execute_result"
    }
   ],
   "source": [
    "nums = [1,3,-1,-3,5,3,6,7]\n",
    "k = 3\n",
    "instance = Solution()\n",
    "instance.medianSlidingWindow(nums,k)"
   ]
  },
  {
   "cell_type": "code",
   "execution_count": 4,
   "metadata": {},
   "outputs": [],
   "source": [
    "from heapq import * \n",
    "import heapq\n",
    "\n",
    "class Solution:\n",
    "    def medianSlidingWindow(self, nums, k: int) :\n",
    "        '''\n",
    "        the concept/idea is that, you need to get access to the median every time you add a new element in to the heap\n",
    "        also you need to remember to remove the passed one from the heap as well\n",
    "        '''\n",
    "        self.maxheap,self.minheap,result = [],[],[]\n",
    "        if not nums or len(nums) < k:\n",
    "            return []\n",
    "        for i in range(k-1):\n",
    "            self.add_element(nums[i])\n",
    "        for i in range(k-1,len(nums)):\n",
    "            self.add_element(nums[i])\n",
    "            tmpmedian = self.get_median()\n",
    "            result.append(tmpmedian)\n",
    "            self.delete_element(nums[i-k+1])\n",
    "        return result\n",
    "        \n",
    "        \n",
    "    def get_median(self):\n",
    "        if len(self.maxheap) == len(self.minheap):\n",
    "            return (-self.maxheap[0] + self.minheap[0])/2\n",
    "        else:\n",
    "            return self.minheap[0]\n",
    "            \n",
    "    def add_element(self,nums):\n",
    "        heappush(self.maxheap,-heappushpop(self.minheap,nums))\n",
    "        if len(self.maxheap) > len(self.minheap):\n",
    "            heappush(self.minheap,-heappop(self.maxheap))\n",
    "    \n",
    "    def delete_element_in_heap(self,heap, num) -> None:\n",
    "        index = heap.index(num)\n",
    "        # delete in O(1)\n",
    "        # replace the value we want to remove with the last value\n",
    "        heap[index] = heap[-1]\n",
    "        del heap[-1]\n",
    "        \n",
    "        # Restore heap property thoughout the tree\n",
    "        if index < len(heap):\n",
    "            heapq._siftup(heap, index)\n",
    "            heapq._siftdown(heap, 0, index)\n",
    "    \n",
    "    def delete_element(self,nums):\n",
    "        if nums >= self.minheap[0]:\n",
    "            self.delete_element_in_heap(self.minheap,nums)\n",
    "            return\n",
    "        self.delete_element_in_heap(self.maxheap,-nums)"
   ]
  },
  {
   "cell_type": "code",
   "execution_count": 5,
   "metadata": {},
   "outputs": [
    {
     "data": {
      "text/plain": [
       "[1, -1, -1, 3, 5, 6]"
      ]
     },
     "execution_count": 5,
     "metadata": {},
     "output_type": "execute_result"
    }
   ],
   "source": [
    "nums = [1,3,-1,-3,5,3,6,7]\n",
    "k = 3\n",
    "instance = Solution()\n",
    "instance.medianSlidingWindow(nums,k)"
   ]
  },
  {
   "cell_type": "code",
   "execution_count": null,
   "metadata": {},
   "outputs": [],
   "source": []
  }
 ],
 "metadata": {
  "kernelspec": {
   "display_name": "Python 3",
   "language": "python",
   "name": "python3"
  },
  "language_info": {
   "codemirror_mode": {
    "name": "ipython",
    "version": 3
   },
   "file_extension": ".py",
   "mimetype": "text/x-python",
   "name": "python",
   "nbconvert_exporter": "python",
   "pygments_lexer": "ipython3",
   "version": "3.7.3"
  }
 },
 "nbformat": 4,
 "nbformat_minor": 2
}
