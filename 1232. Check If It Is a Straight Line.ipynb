{
 "cells": [
  {
   "cell_type": "code",
   "execution_count": null,
   "metadata": {},
   "outputs": [],
   "source": [
    "class Solution:\n",
    "    def checkStraightLine(self, coordinates: List[List[int]]) -> bool:\n",
    "        same_slop = True\n",
    "        last_slop = None\n",
    "        intial_point = coordinates[0]\n",
    "        for point in coordinates[1:]:\n",
    "            try:\n",
    "                slop = (point[1] - intial_point[1])/(point[0] - intial_point[0])\n",
    "            except ZeroDivisionError: \n",
    "                slop = float(inf)\n",
    "            if last_slop== None:last_slop = slop\n",
    "            elif slop == last_slop:continue\n",
    "            else: \n",
    "                same_slop = False\n",
    "                break\n",
    "                \n",
    "        return same_slop"
   ]
  }
 ],
 "metadata": {
  "kernelspec": {
   "display_name": "Python 3",
   "language": "python",
   "name": "python3"
  },
  "language_info": {
   "codemirror_mode": {
    "name": "ipython",
    "version": 3
   },
   "file_extension": ".py",
   "mimetype": "text/x-python",
   "name": "python",
   "nbconvert_exporter": "python",
   "pygments_lexer": "ipython3",
   "version": "3.7.3"
  }
 },
 "nbformat": 4,
 "nbformat_minor": 2
}
