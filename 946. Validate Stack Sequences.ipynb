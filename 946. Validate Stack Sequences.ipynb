{
 "cells": [
  {
   "cell_type": "code",
   "execution_count": 1,
   "metadata": {},
   "outputs": [],
   "source": [
    "class Solution:\n",
    "    def validateStackSequences(self, pushed, popped) -> bool:\n",
    "        stack,i,j = [],0,0\n",
    "        if not pushed and not popped:\n",
    "            return True\n",
    "        if not pushed or not popped:\n",
    "            return False\n",
    "        if len(pushed) != len(popped):\n",
    "            return False\n",
    "        while i<len(pushed) and j < len(popped):\n",
    "            #print(i)\n",
    "            if pushed[i] == popped[j]:\n",
    "                i += 1\n",
    "                j += 1\n",
    "            elif stack and popped[j] == stack[-1]:\n",
    "                vertex = stack.pop()\n",
    "                j += 1\n",
    "            else:\n",
    "                stack.append(pushed[i])\n",
    "                i += 1\n",
    "        stack.reverse()\n",
    "        if stack == popped[j:]:\n",
    "            return True\n",
    "        else:\n",
    "            return False\n",
    "                "
   ]
  },
  {
   "cell_type": "code",
   "execution_count": 2,
   "metadata": {},
   "outputs": [
    {
     "data": {
      "text/plain": [
       "True"
      ]
     },
     "execution_count": 2,
     "metadata": {},
     "output_type": "execute_result"
    }
   ],
   "source": [
    "pushed = [1,2,3,4,5]\n",
    "popped = [4,5,3,2,1]\n",
    "instance = Solution()\n",
    "instance.validateStackSequences(pushed,popped)"
   ]
  },
  {
   "cell_type": "code",
   "execution_count": null,
   "metadata": {},
   "outputs": [],
   "source": []
  }
 ],
 "metadata": {
  "kernelspec": {
   "display_name": "Python 3",
   "language": "python",
   "name": "python3"
  },
  "language_info": {
   "codemirror_mode": {
    "name": "ipython",
    "version": 3
   },
   "file_extension": ".py",
   "mimetype": "text/x-python",
   "name": "python",
   "nbconvert_exporter": "python",
   "pygments_lexer": "ipython3",
   "version": "3.7.3"
  }
 },
 "nbformat": 4,
 "nbformat_minor": 2
}
